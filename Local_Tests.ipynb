{
 "cells": [
  {
   "cell_type": "code",
   "execution_count": 71,
   "metadata": {
    "collapsed": false
   },
   "outputs": [
    {
     "name": "stdout",
     "output_type": "stream",
     "text": [
      "The autoreload extension is already loaded. To reload it, use:\n",
      "  %reload_ext autoreload\n"
     ]
    }
   ],
   "source": [
    "from models import scribbler \n",
    "%load_ext autoreload\n",
    "%autoreload 2"
   ]
  },
  {
   "cell_type": "code",
   "execution_count": 72,
   "metadata": {
    "collapsed": false
   },
   "outputs": [],
   "source": [
    "models=scribbler.Scribbler(4,3,32)"
   ]
  },
  {
   "cell_type": "code",
   "execution_count": 10,
   "metadata": {
    "collapsed": false
   },
   "outputs": [],
   "source": [
    "b=scribbler.ResidualBlock(32)"
   ]
  },
  {
   "cell_type": "code",
   "execution_count": 58,
   "metadata": {
    "collapsed": false
   },
   "outputs": [],
   "source": [
    "b=scribbler.UpsamplingBlock(4,4,3,2,1)"
   ]
  },
  {
   "cell_type": "code",
   "execution_count": 28,
   "metadata": {
    "collapsed": false
   },
   "outputs": [
    {
     "name": "stdout",
     "output_type": "stream",
     "text": [
      "Sequential (\n",
      "  (conv_1): Conv2d(4, 32, kernel_size=(3, 3), stride=(1, 1), padding=(1, 1))\n",
      "  (batch_1): BatchNorm2d(32, eps=1e-05, momentum=0.1, affine=True)\n",
      "  (norm_1): ReLU (inplace)\n",
      "  (res_block_1): ResidualBlock (\n",
      "    (resblock): Sequential (\n",
      "      (conv_1): Conv2d(32, 32, kernel_size=(3, 3), stride=(1, 1), padding=(1, 1))\n",
      "      (batch_1): BatchNorm2d(32, eps=1e-05, momentum=0.1, affine=True)\n",
      "      (norm_1): ReLU (inplace)\n",
      "      (conv_2): Conv2d(32, 32, kernel_size=(3, 3), stride=(1, 1), padding=(1, 1))\n",
      "      (batch_2): BatchNorm2d(32, eps=1e-05, momentum=0.1, affine=True)\n",
      "    )\n",
      "  )\n",
      "  (conv_2): Conv2d(32, 64, kernel_size=(3, 3), stride=(2, 2), padding=(1, 1))\n",
      "  (batch_2): BatchNorm2d(64, eps=1e-05, momentum=0.1, affine=True)\n",
      "  (norm_2): ReLU (inplace)\n",
      "  (res_block_2): ResidualBlock (\n",
      "    (resblock): Sequential (\n",
      "      (conv_1): Conv2d(64, 64, kernel_size=(3, 3), stride=(1, 1), padding=(1, 1))\n",
      "      (batch_1): BatchNorm2d(64, eps=1e-05, momentum=0.1, affine=True)\n",
      "      (norm_1): ReLU (inplace)\n",
      "      (conv_2): Conv2d(64, 64, kernel_size=(3, 3), stride=(1, 1), padding=(1, 1))\n",
      "      (batch_2): BatchNorm2d(64, eps=1e-05, momentum=0.1, affine=True)\n",
      "    )\n",
      "  )\n",
      "  (conv_3): Conv2d(64, 128, kernel_size=(3, 3), stride=(2, 2), padding=(1, 1))\n",
      "  (batch_3): BatchNorm2d(128, eps=1e-05, momentum=0.1, affine=True)\n",
      "  (norm_3): ReLU (inplace)\n",
      "  (res_block_3): ResidualBlock (\n",
      "    (resblock): Sequential (\n",
      "      (conv_1): Conv2d(128, 128, kernel_size=(3, 3), stride=(1, 1), padding=(1, 1))\n",
      "      (batch_1): BatchNorm2d(128, eps=1e-05, momentum=0.1, affine=True)\n",
      "      (norm_1): ReLU (inplace)\n",
      "      (conv_2): Conv2d(128, 128, kernel_size=(3, 3), stride=(1, 1), padding=(1, 1))\n",
      "      (batch_2): BatchNorm2d(128, eps=1e-05, momentum=0.1, affine=True)\n",
      "    )\n",
      "  )\n",
      "  (conv_4): Conv2d(128, 256, kernel_size=(3, 3), stride=(2, 2), padding=(1, 1))\n",
      "  (batch_4): BatchNorm2d(256, eps=1e-05, momentum=0.1, affine=True)\n",
      "  (norm_4): ReLU (inplace)\n",
      "  (res_block_4): ResidualBlock (\n",
      "    (resblock): Sequential (\n",
      "      (conv_1): Conv2d(256, 256, kernel_size=(3, 3), stride=(1, 1), padding=(1, 1))\n",
      "      (batch_1): BatchNorm2d(256, eps=1e-05, momentum=0.1, affine=True)\n",
      "      (norm_1): ReLU (inplace)\n",
      "      (conv_2): Conv2d(256, 256, kernel_size=(3, 3), stride=(1, 1), padding=(1, 1))\n",
      "      (batch_2): BatchNorm2d(256, eps=1e-05, momentum=0.1, affine=True)\n",
      "    )\n",
      "  )\n",
      "  (res_block_5): ResidualBlock (\n",
      "    (resblock): Sequential (\n",
      "      (conv_1): Conv2d(256, 256, kernel_size=(3, 3), stride=(1, 1), padding=(1, 1))\n",
      "      (batch_1): BatchNorm2d(256, eps=1e-05, momentum=0.1, affine=True)\n",
      "      (norm_1): ReLU (inplace)\n",
      "      (conv_2): Conv2d(256, 256, kernel_size=(3, 3), stride=(1, 1), padding=(1, 1))\n",
      "      (batch_2): BatchNorm2d(256, eps=1e-05, momentum=0.1, affine=True)\n",
      "    )\n",
      "  )\n",
      "  (res_block_6): ResidualBlock (\n",
      "    (resblock): Sequential (\n",
      "      (conv_1): Conv2d(256, 256, kernel_size=(3, 3), stride=(1, 1), padding=(1, 1))\n",
      "      (batch_1): BatchNorm2d(256, eps=1e-05, momentum=0.1, affine=True)\n",
      "      (norm_1): ReLU (inplace)\n",
      "      (conv_2): Conv2d(256, 256, kernel_size=(3, 3), stride=(1, 1), padding=(1, 1))\n",
      "      (batch_2): BatchNorm2d(256, eps=1e-05, momentum=0.1, affine=True)\n",
      "    )\n",
      "  )\n",
      "  (res_block_7): ResidualBlock (\n",
      "    (resblock): Sequential (\n",
      "      (conv_1): Conv2d(256, 256, kernel_size=(3, 3), stride=(1, 1), padding=(1, 1))\n",
      "      (batch_1): BatchNorm2d(256, eps=1e-05, momentum=0.1, affine=True)\n",
      "      (norm_1): ReLU (inplace)\n",
      "      (conv_2): Conv2d(256, 256, kernel_size=(3, 3), stride=(1, 1), padding=(1, 1))\n",
      "      (batch_2): BatchNorm2d(256, eps=1e-05, momentum=0.1, affine=True)\n",
      "    )\n",
      "  )\n",
      "  (res_block_8): ResidualBlock (\n",
      "    (resblock): Sequential (\n",
      "      (conv_1): Conv2d(256, 256, kernel_size=(3, 3), stride=(1, 1), padding=(1, 1))\n",
      "      (batch_1): BatchNorm2d(256, eps=1e-05, momentum=0.1, affine=True)\n",
      "      (norm_1): ReLU (inplace)\n",
      "      (conv_2): Conv2d(256, 256, kernel_size=(3, 3), stride=(1, 1), padding=(1, 1))\n",
      "      (batch_2): BatchNorm2d(256, eps=1e-05, momentum=0.1, affine=True)\n",
      "    )\n",
      "  )\n",
      "  (upsampl_1): UpsamplingBlock (\n",
      "    (biup_block): Sequential (\n",
      "      (conv_1): Conv2d(256, 128, kernel_size=(3, 3), stride=(1, 1), padding=(1, 1))\n",
      "      (upsample_2): UpsamplingBilinear2d(size=(2, 2))\n",
      "    )\n",
      "  )\n",
      "  (batch_5): BatchNorm2d(128, eps=1e-05, momentum=0.1, affine=True)\n",
      "  (norm_5): ReLU (inplace)\n",
      "  (res_block_9): ResidualBlock (\n",
      "    (resblock): Sequential (\n",
      "      (conv_1): Conv2d(128, 128, kernel_size=(3, 3), stride=(1, 1), padding=(1, 1))\n",
      "      (batch_1): BatchNorm2d(128, eps=1e-05, momentum=0.1, affine=True)\n",
      "      (norm_1): ReLU (inplace)\n",
      "      (conv_2): Conv2d(128, 128, kernel_size=(3, 3), stride=(1, 1), padding=(1, 1))\n",
      "      (batch_2): BatchNorm2d(128, eps=1e-05, momentum=0.1, affine=True)\n",
      "    )\n",
      "  )\n",
      "  (res_block_10): ResidualBlock (\n",
      "    (resblock): Sequential (\n",
      "      (conv_1): Conv2d(128, 128, kernel_size=(3, 3), stride=(1, 1), padding=(1, 1))\n",
      "      (batch_1): BatchNorm2d(128, eps=1e-05, momentum=0.1, affine=True)\n",
      "      (norm_1): ReLU (inplace)\n",
      "      (conv_2): Conv2d(128, 128, kernel_size=(3, 3), stride=(1, 1), padding=(1, 1))\n",
      "      (batch_2): BatchNorm2d(128, eps=1e-05, momentum=0.1, affine=True)\n",
      "    )\n",
      "  )\n",
      "  (upsampl_2): UpsamplingBlock (\n",
      "    (biup_block): Sequential (\n",
      "      (conv_1): Conv2d(128, 64, kernel_size=(3, 3), stride=(1, 1), padding=(1, 1))\n",
      "      (upsample_2): UpsamplingBilinear2d(size=(2, 2))\n",
      "    )\n",
      "  )\n",
      "  (batch_6): BatchNorm2d(64, eps=1e-05, momentum=0.1, affine=True)\n",
      "  (norm_6): ReLU (inplace)\n",
      "  (res_block_11): ResidualBlock (\n",
      "    (resblock): Sequential (\n",
      "      (conv_1): Conv2d(64, 64, kernel_size=(3, 3), stride=(1, 1), padding=(1, 1))\n",
      "      (batch_1): BatchNorm2d(64, eps=1e-05, momentum=0.1, affine=True)\n",
      "      (norm_1): ReLU (inplace)\n",
      "      (conv_2): Conv2d(64, 64, kernel_size=(3, 3), stride=(1, 1), padding=(1, 1))\n",
      "      (batch_2): BatchNorm2d(64, eps=1e-05, momentum=0.1, affine=True)\n",
      "    )\n",
      "  )\n",
      "  (res_block_12): ResidualBlock (\n",
      "    (resblock): Sequential (\n",
      "      (conv_1): Conv2d(64, 64, kernel_size=(3, 3), stride=(1, 1), padding=(1, 1))\n",
      "      (batch_1): BatchNorm2d(64, eps=1e-05, momentum=0.1, affine=True)\n",
      "      (norm_1): ReLU (inplace)\n",
      "      (conv_2): Conv2d(64, 64, kernel_size=(3, 3), stride=(1, 1), padding=(1, 1))\n",
      "      (batch_2): BatchNorm2d(64, eps=1e-05, momentum=0.1, affine=True)\n",
      "    )\n",
      "  )\n",
      "  (upsampl_3): UpsamplingBlock (\n",
      "    (biup_block): Sequential (\n",
      "      (conv_1): Conv2d(64, 32, kernel_size=(3, 3), stride=(1, 1), padding=(1, 1))\n",
      "      (upsample_2): UpsamplingBilinear2d(size=(2, 2))\n",
      "    )\n",
      "  )\n",
      "  (batch_7): BatchNorm2d(32, eps=1e-05, momentum=0.1, affine=True)\n",
      "  (norm_7): ReLU (inplace)\n",
      "  (res_block_13): ResidualBlock (\n",
      "    (resblock): Sequential (\n",
      "      (conv_1): Conv2d(32, 32, kernel_size=(3, 3), stride=(1, 1), padding=(1, 1))\n",
      "      (batch_1): BatchNorm2d(32, eps=1e-05, momentum=0.1, affine=True)\n",
      "      (norm_1): ReLU (inplace)\n",
      "      (conv_2): Conv2d(32, 32, kernel_size=(3, 3), stride=(1, 1), padding=(1, 1))\n",
      "      (batch_2): BatchNorm2d(32, eps=1e-05, momentum=0.1, affine=True)\n",
      "    )\n",
      "  )\n",
      "  (batch_8): BatchNorm2d(32, eps=1e-05, momentum=0.1, affine=True)\n",
      "  (res_block_14): ResidualBlock (\n",
      "    (resblock): Sequential (\n",
      "      (conv_1): Conv2d(32, 32, kernel_size=(3, 3), stride=(1, 1), padding=(1, 1))\n",
      "      (batch_1): BatchNorm2d(32, eps=1e-05, momentum=0.1, affine=True)\n",
      "      (norm_1): ReLU (inplace)\n",
      "      (conv_2): Conv2d(32, 32, kernel_size=(3, 3), stride=(1, 1), padding=(1, 1))\n",
      "      (batch_2): BatchNorm2d(32, eps=1e-05, momentum=0.1, affine=True)\n",
      "    )\n",
      "  )\n",
      "  (conv_5): Conv2d(32, 3, kernel_size=(3, 3), stride=(1, 1), padding=(1, 1))\n",
      "  (batch_9): BatchNorm2d(3, eps=1e-05, momentum=0.1, affine=True)\n",
      ")\n"
     ]
    }
   ],
   "source": [
    "for num,module in enumerate(models.children()):\n",
    "    print module"
   ]
  },
  {
   "cell_type": "code",
   "execution_count": 73,
   "metadata": {
    "collapsed": false
   },
   "outputs": [],
   "source": [
    "import torch\n",
    "from torch.autograd import Variable\n",
    "\n",
    "test_var=torch.Tensor(1,4,128,128)\n",
    "test_var=Variable(test_var)\n",
    "\n",
    "\n",
    "seqblock=models._modules.items()\n",
    "modules = seqblock[0][1]._modules.items()"
   ]
  },
  {
   "cell_type": "code",
   "execution_count": 74,
   "metadata": {
    "collapsed": false
   },
   "outputs": [
    {
     "name": "stdout",
     "output_type": "stream",
     "text": [
      "conv_1\n",
      "torch.Size([1, 32, 128, 128])\n",
      "batch_1\n",
      "torch.Size([1, 32, 128, 128])\n",
      "norm_1\n",
      "torch.Size([1, 32, 128, 128])\n",
      "res_block_1\n",
      "torch.Size([1, 32, 128, 128])\n",
      "conv_2\n",
      "torch.Size([1, 64, 64, 64])\n",
      "batch_2\n",
      "torch.Size([1, 64, 64, 64])\n",
      "norm_2\n",
      "torch.Size([1, 64, 64, 64])\n",
      "res_block_2\n",
      "torch.Size([1, 64, 64, 64])\n",
      "conv_3\n",
      "torch.Size([1, 128, 32, 32])\n",
      "batch_3\n",
      "torch.Size([1, 128, 32, 32])\n",
      "norm_3\n",
      "torch.Size([1, 128, 32, 32])\n",
      "res_block_3\n",
      "torch.Size([1, 128, 32, 32])\n",
      "conv_4\n",
      "torch.Size([1, 256, 16, 16])\n",
      "batch_4\n",
      "torch.Size([1, 256, 16, 16])\n",
      "norm_4\n",
      "torch.Size([1, 256, 16, 16])\n",
      "res_block_4\n",
      "torch.Size([1, 256, 16, 16])\n",
      "res_block_5\n",
      "torch.Size([1, 256, 16, 16])\n",
      "res_block_6\n",
      "torch.Size([1, 256, 16, 16])\n",
      "res_block_7\n",
      "torch.Size([1, 256, 16, 16])\n",
      "res_block_8\n",
      "torch.Size([1, 256, 16, 16])\n",
      "upsampl_1\n",
      "torch.Size([1, 128, 32, 32])\n",
      "batch_5\n",
      "torch.Size([1, 128, 32, 32])\n",
      "norm_5\n",
      "torch.Size([1, 128, 32, 32])\n",
      "res_block_9\n",
      "torch.Size([1, 128, 32, 32])\n",
      "res_block_10\n",
      "torch.Size([1, 128, 32, 32])\n",
      "upsampl_2\n",
      "torch.Size([1, 64, 64, 64])\n",
      "batch_6\n",
      "torch.Size([1, 64, 64, 64])\n",
      "norm_6\n",
      "torch.Size([1, 64, 64, 64])\n",
      "res_block_11\n",
      "torch.Size([1, 64, 64, 64])\n",
      "res_block_12\n",
      "torch.Size([1, 64, 64, 64])\n",
      "upsampl_3\n",
      "torch.Size([1, 32, 128, 128])\n",
      "batch_7\n",
      "torch.Size([1, 32, 128, 128])\n",
      "norm_7\n",
      "torch.Size([1, 32, 128, 128])\n",
      "res_block_13\n",
      "torch.Size([1, 32, 128, 128])\n",
      "batch_8\n",
      "torch.Size([1, 32, 128, 128])\n",
      "res_block_14\n",
      "torch.Size([1, 32, 128, 128])\n",
      "conv_5\n",
      "torch.Size([1, 3, 128, 128])\n",
      "batch_9\n",
      "torch.Size([1, 3, 128, 128])\n"
     ]
    }
   ],
   "source": [
    "inp = test_var\n",
    "for num,name_module in enumerate(modules):\n",
    "    name,module=name_module\n",
    "    print name\n",
    "    inp=module(inp)\n",
    "    print inp.data.size()"
   ]
  },
  {
   "cell_type": "code",
   "execution_count": 60,
   "metadata": {
    "collapsed": false
   },
   "outputs": [
    {
     "data": {
      "text/plain": [
       "torch.Size([1, 4, 2, 2])"
      ]
     },
     "execution_count": 60,
     "metadata": {},
     "output_type": "execute_result"
    }
   ],
   "source": [
    "b(test_var).data.size()"
   ]
  },
  {
   "cell_type": "code",
   "execution_count": 66,
   "metadata": {
    "collapsed": false
   },
   "outputs": [],
   "source": [
    "import torch.nn as nn\n",
    "est=nn.Conv2d(4,4,3,1,1)\n",
    "ups =nn.UpsamplingBilinear2d(scale_factor=2)"
   ]
  },
  {
   "cell_type": "code",
   "execution_count": 67,
   "metadata": {
    "collapsed": false
   },
   "outputs": [
    {
     "data": {
      "text/plain": [
       "torch.Size([1, 4, 256, 256])"
      ]
     },
     "execution_count": 67,
     "metadata": {},
     "output_type": "execute_result"
    }
   ],
   "source": [
    "ups(est(test_var)).data.size()\n"
   ]
  },
  {
   "cell_type": "code",
   "execution_count": null,
   "metadata": {
    "collapsed": true
   },
   "outputs": [],
   "source": []
  }
 ],
 "metadata": {
  "kernelspec": {
   "display_name": "Python 2",
   "language": "python",
   "name": "python2"
  },
  "language_info": {
   "codemirror_mode": {
    "name": "ipython",
    "version": 2
   },
   "file_extension": ".py",
   "mimetype": "text/x-python",
   "name": "python",
   "nbconvert_exporter": "python",
   "pygments_lexer": "ipython2",
   "version": "2.7.13"
  }
 },
 "nbformat": 4,
 "nbformat_minor": 2
}
