{
 "cells": [
  {
   "cell_type": "code",
   "execution_count": 1,
   "metadata": {
    "collapsed": false
   },
   "outputs": [
    {
     "name": "stdout",
     "output_type": "stream",
     "text": [
      "Fri Sep 29 08:03:35 2017       \r\n",
      "+-----------------------------------------------------------------------------+\r\n",
      "| NVIDIA-SMI 375.26                 Driver Version: 375.26                    |\r\n",
      "|-------------------------------+----------------------+----------------------+\r\n",
      "| GPU  Name        Persistence-M| Bus-Id        Disp.A | Volatile Uncorr. ECC |\r\n",
      "| Fan  Temp  Perf  Pwr:Usage/Cap|         Memory-Usage | GPU-Util  Compute M. |\r\n",
      "|===============================+======================+======================|\r\n",
      "|   0  Tesla K40m          Off  | 0000:28:00.0     Off |                    0 |\r\n",
      "| N/A   22C    P8    20W / 235W |      2MiB / 11439MiB |      0%      Default |\r\n",
      "+-------------------------------+----------------------+----------------------+\r\n",
      "|   1  Tesla K40m          Off  | 0000:2B:00.0     Off |                    0 |\r\n",
      "| N/A   33C    P0    58W / 235W |      2MiB / 11439MiB |      0%      Default |\r\n",
      "+-------------------------------+----------------------+----------------------+\r\n",
      "|   2  Tesla K40m          Off  | 0000:30:00.0     Off |                    0 |\r\n",
      "| N/A   41C    P0   150W / 235W |   3216MiB / 11439MiB |     99%      Default |\r\n",
      "+-------------------------------+----------------------+----------------------+\r\n",
      "|   3  Tesla K40m          Off  | 0000:33:00.0     Off |                    0 |\r\n",
      "| N/A   41C    P0   153W / 235W |   3394MiB / 11439MiB |     99%      Default |\r\n",
      "+-------------------------------+----------------------+----------------------+\r\n",
      "                                                                               \r\n",
      "+-----------------------------------------------------------------------------+\r\n",
      "| Processes:                                                       GPU Memory |\r\n",
      "|  GPU       PID  Type  Process name                               Usage      |\r\n",
      "|=============================================================================|\r\n",
      "+-----------------------------------------------------------------------------+\r\n"
     ]
    }
   ],
   "source": [
    "!nvidia-smi"
   ]
  },
  {
   "cell_type": "code",
   "execution_count": 2,
   "metadata": {
    "collapsed": false
   },
   "outputs": [],
   "source": [
    "#from __future__ import print_function\n",
    "#from __future__ import absolute_import\n",
    "#from __future__ import division\n",
    "\n",
    "\n",
    "import torch \n",
    "import torch.nn as nn\n",
    "from torch.autograd import Variable\n",
    "import torchvision.datasets as dataset\n",
    "import visdom\n",
    "import sys,argparse,os\n",
    "\n",
    "from models import scribbler, discriminator\n",
    "import torch.optim as optim\n",
    "\n",
    "from skimage import color\n",
    "from PIL import Image\n",
    "import numpy as np\n",
    "import matplotlib.pyplot as plt\n",
    "import torch\n",
    "import torchvision.transforms as transforms\n",
    "import visualize\n",
    "import torch.nn as nn\n",
    "from torch.autograd import Variable\n",
    "from IPython.display import display\n",
    "import torchvision.models as models\n",
    "from dataloader import imfol\n",
    "\n",
    "from utils.visualize import vis_patch, vis_image\n",
    "        \n",
    "from torch.utils.data import DataLoader\n",
    "from dataloader.imfol import ImageFolder, make_dataset\n",
    "from utils import transforms as custom_trans\n",
    "import torchvision.transforms as tforms\n",
    "import utils.transforms as utforms\n",
    "\n",
    "from networks import define_G, weights_init\n",
    "from models import scribbler_dilate_128 \n",
    "import visdom"
   ]
  },
  {
   "cell_type": "code",
   "execution_count": 3,
   "metadata": {
    "collapsed": true
   },
   "outputs": [],
   "source": [
    "def clamp_image(img):\n",
    "    img[:,0,:,:].clamp_(0,1)\n",
    "    img[:,1,:,:].clamp_(-1.5,1.5)\n",
    "    img[:,2,:,:].clamp_(-1.5,1.5)\n",
    "    return img    "
   ]
  },
  {
   "cell_type": "code",
   "execution_count": 121,
   "metadata": {
    "collapsed": false
   },
   "outputs": [],
   "source": [
    "def parse_arguments(argv):\n",
    "    parser = argparse.ArgumentParser()\n",
    "    \n",
    "###############added options#######################################\n",
    "    parser.add_argument('-learning_rate', default=1e-3, type=float,\n",
    "                    help='Learning rate for the generator')\n",
    "    parser.add_argument('-learning_rate_D',  default=1e-4,type=float,\n",
    "                    help='Learning rate for the discriminator')    \n",
    "    \n",
    "    parser.add_argument('-gan', default='lsgan',type=str,choices=['dcgan', 'lsgan'],\n",
    "                    help='dcgan|lsgan') #todo wgan/improved wgan    \n",
    "    \n",
    "    parser.add_argument('-model', default='pix2pix',type=str,choices=['scribbler', 'pix2pix'],\n",
    "                   help='scribbler|pix2pix')\n",
    "    \n",
    "    parser.add_argument('-num_epoch',  default=1,type=int,\n",
    "                    help='texture|scribbler')   \n",
    "    \n",
    "    parser.add_argument('-visualize_every',  default=10,type=int,\n",
    "                    help='no. iteration to visualize the results')      \n",
    "\n",
    "    #all the weights ratio, might wanna make them sum to one\n",
    "    parser.add_argument('-feature_weight', default=100,type=float,\n",
    "                       help='weight ratio for feature loss')\n",
    "    parser.add_argument('-pixel_weight_l', default=100,type=float,\n",
    "                       help='weight ratio for pixel loss for l channel')\n",
    "    parser.add_argument('-pixel_weight_ab', default=500,type=float,\n",
    "                   help='weight ratio for pixel loss for ab channel')\n",
    "    parser.add_argument('-pixel_weight_rgb', default=0,type=float,\n",
    "                   help='weight ratio for pixel loss for ab channel')\n",
    "    \n",
    "    parser.add_argument('-discriminator_weight', default=0,type=float,\n",
    "                   help='weight ratio for the discriminator loss')\n",
    "    parser.add_argument('-style_weight', default = 0, type=float, \n",
    "                        help='weight ratio for the texture loss')\n",
    "\n",
    "\n",
    "    parser.add_argument('-gpu', default=1,type=int,\n",
    "                   help='id of gpu to use') #TODO support cpu\n",
    "\n",
    "    parser.add_argument('-display_port', default=7779,type=int,\n",
    "               help='port for displaying on visdom (need to match with visdom currently open port)')\n",
    "\n",
    "    parser.add_argument('-data_path', default='/home/psangkloy3/training_catdog/',type=str,\n",
    "                   help='path to the data directory, expect train_skg, train_img, val_skg, val_img')\n",
    "\n",
    "    parser.add_argument('-save_dir', default='/home/psangkloy3/texturegan/catdog_scribbler/',type=str,\n",
    "                   help='path to save the model')\n",
    "    \n",
    "    parser.add_argument('-load_dir', default='/home/psangkloy3/texturegan/catdog/',type=str,\n",
    "                   help='path to save the model')\n",
    "    \n",
    "    parser.add_argument('-save_every',  default=1000,type=int,\n",
    "                    help='no. iteration to save the models')\n",
    "    \n",
    "    parser.add_argument('-load', default=14000,type=int,\n",
    "                   help='load generator and discrminator from iteration n')\n",
    "    parser.add_argument('-load_D', default=7000,type=float,\n",
    "                   help='load discriminator from iteration n, priority over load')\n",
    "    \n",
    "    parser.add_argument('-image_size',default=128,type=int,\n",
    "                    help='Training images size, after cropping')        \n",
    "    parser.add_argument('-resize_max',  default=1,type=int,\n",
    "                    help='max resize, ratio of the original image, max value is 1')        \n",
    "    parser.add_argument('-resize_min',  default=0.8,type=int,\n",
    "                    help='min resize, ratio of the original image, min value 0')   \n",
    "    parser.add_argument('-crop_size_min',default=50,type=int,\n",
    "                    help='minumum texture patch size')   \n",
    "    parser.add_argument('-crop_size_max',default=70,type=int,\n",
    "                    help='max texture patch size')  \n",
    "    \n",
    "    parser.add_argument('-batch_size', default=8)     \n",
    "    \n",
    "    parser.add_argument('-local_texture_size', default=50,type=int,\n",
    "                   help='use local texture loss instead of global, set -1 to use global')\n",
    "    parser.add_argument('-color_space',  default='lab',type=str,choices=['lab','rgb'],\n",
    "                help='lab|rgb') \n",
    "    \n",
    "############################################################################\n",
    "############################################################################\n",
    "############TODO: TO ADD#################################################################\n",
    "    parser.add_argument('-tv_weight', default=1,type=float,\n",
    "                   help='weight ratio for total variation loss')\n",
    "    parser.add_argument('-content_layers',  default='relu2_2',type=str,\n",
    "                    help='Layer to attach content loss.')\n",
    "    \n",
    "\n",
    "\n",
    "    \n",
    "    parser.add_argument('-mode',  default='texture',type=str,choices=['texture','scribbler'],\n",
    "                    help='texture|scribbler') \n",
    "    \n",
    "   \n",
    "    parser.add_argument('-crop',  default='random',type=str,choices=['random','center'],\n",
    "                    help='random|center')\n",
    "    \n",
    "    parser.add_argument('-contrast',  default=True,type=bool,\n",
    "                    help='randomly adjusting contrast on sketch')\n",
    "    \n",
    "    parser.add_argument('-occlude', default=False,type=bool,\n",
    "                       help='randomly occlude part of the sketch')\n",
    "    \n",
    "    \n",
    "    parser.add_argument('-checkpoints_path', default='data/',type=str,\n",
    "                   help='output directory for results and models')\n",
    "    \n",
    "\n",
    "    \n",
    "    parser.add_argument('-noise_gen', default=False,type=bool,\n",
    "                   help='whether or not to inject noise into the network')\n",
    "    \n",
    "    \n",
    "    parser.add_argument('-absolute_load', default='',type=str,\n",
    "                   help='load saved generator model from absolute location')\n",
    "    \n",
    "    \n",
    "    \n",
    "    \n",
    "##################################################################################################################################    \n",
    "    \n",
    "    return parser.parse_args(argv)"
   ]
  },
  {
   "cell_type": "code",
   "execution_count": 122,
   "metadata": {
    "collapsed": false
   },
   "outputs": [],
   "source": [
    "#all in one place funcs, need to organize these:\n",
    "def rand_between(a,b):\n",
    "    return a + torch.round(torch.rand(1)*(b-a))[0]\n",
    "\n",
    "def gen_input(img,skg,xcenter=64,ycenter=64,size=40):\n",
    "    #generate input skg with random patch from img\n",
    "    #input img,skg [bsx3xwxh], xcenter,ycenter, size \n",
    "    #output bsx5xwxh\n",
    "       \n",
    "    w,h = img.size()[2:4]\n",
    "\n",
    "    xstart = max(xcenter-size/2,0)\n",
    "    ystart = max(ycenter-size/2,0)\n",
    "    xend = min(xcenter + size/2,w)\n",
    "    yend = min(ycenter + size/2,h)\n",
    "\n",
    "\n",
    "    input_texture = torch.ones(img.size())*(1)\n",
    "    input_sketch = skg[:,0:1,:,:] #L channel from skg\n",
    "    input_mask = torch.ones(input_sketch.size())*(-1)\n",
    "\n",
    "    input_mask[:,:,xstart:xend,ystart:yend] = 1\n",
    "    input_texture[:,:,xstart:xend,ystart:yend] = img[:,:,xstart:xend,ystart:yend].clone()\n",
    "\n",
    "    return torch.cat((input_sketch.float(),input_texture.float(),input_mask),1)\n",
    "     \n",
    "class GramMatrix(nn.Module):\n",
    "\n",
    "    def forward(self, input):\n",
    "        a, b, c, d = input.size()  # a=batch size(=1)\n",
    "        # b=number of feature maps\n",
    "        # (c,d)=dimensions of a f. map (N=c*d)\n",
    "\n",
    "        features = input.view(a , b, c * d)  # resise F_XL into \\hat F_XL\n",
    "\n",
    "        G = torch.bmm(features, features.transpose(1,2))  # compute the gram product\n",
    "\n",
    "        # normalize the values of the gram matrix\n",
    "        # by dividing by the number of element in each feature maps.\n",
    "        return G.div( b * c * d)\n",
    "    \n",
    "class FeatureExtractor(nn.Module):\n",
    "    # Extract features from intermediate layers of a network\n",
    "\n",
    "    def __init__(self, submodule, extracted_layers):\n",
    "        super(FeatureExtractor,self).__init__()\n",
    "        self.submodule = submodule\n",
    "        self.extracted_layers=extracted_layers\n",
    "\n",
    "    def forward(self, x):\n",
    "        outputs = []\n",
    "        for name, module in self.submodule._modules.items():\n",
    "            x = module(x)\n",
    "            if name in self.extracted_layers:\n",
    "                outputs += [x]\n",
    "        return outputs + [x]\n",
    "    \n",
    "def save_network(model, network_label, epoch_label, gpu_id, save_dir):\n",
    "    save_filename = '%s_net_%s.pth' % (epoch_label, network_label)\n",
    "    if not os.path.exists(save_dir):\n",
    "        os.makedirs(save_dir)\n",
    "    save_path = os.path.join(save_dir, save_filename)\n",
    "    torch.save(model.cpu().state_dict(), save_path)\n",
    "    model.cuda(device_id=gpu_id)\n",
    "def load_network(model, network_label, epoch_label,save_dir):\n",
    "    save_filename = '%s_net_%s.pth' % (epoch_label, network_label)\n",
    "    save_path = os.path.join(save_dir, save_filename)\n",
    "    model.load_state_dict(torch.load(save_path))"
   ]
  },
  {
   "cell_type": "code",
   "execution_count": 123,
   "metadata": {
    "collapsed": false
   },
   "outputs": [],
   "source": [
    "command = '-content_layers relu2_2 -feature_weight 100 -pixel_weight_ab 1 -tv_weight 0.0001 -model scribbler_custom -data_path /home/psangkloy3/training_handbag_pretrain/ -gpu 1 -display_port 7779 -image_size 128 -save_every 5000 -visualize_every 10 -discriminator_weight 0 -learning_rate 1e-3 -learning_rate_D 1e-6 -batch_size 6 -contrast True -resize_max 256 -resize_min 128 -gan lsgan -load 100000'\n",
    "command = ''\n",
    "args = parse_arguments(command.split())"
   ]
  },
  {
   "cell_type": "code",
   "execution_count": null,
   "metadata": {
    "collapsed": false,
    "scrolled": true
   },
   "outputs": [
    {
     "name": "stdout",
     "output_type": "stream",
     "text": [
      "Loaded G from itr:14000\n",
      "Loaded D from itr:7000\n",
      "0 81.1997833252\n",
      "1 205.684707642\n",
      "2 134.494750977\n",
      "3 127.580352783\n",
      "4 119.543670654\n",
      "5 127.92350769\n",
      "6 114.706756592\n",
      "7 111.706390381\n",
      "8 117.460372925\n",
      "9 133.789916992\n",
      "10 115.256317139\n",
      "11 108.577529907\n",
      "12 98.9914855957\n",
      "13 109.509437561\n",
      "14 113.736190796\n",
      "15 120.766670227\n",
      "16 110.286109924\n",
      "17 111.139305115\n",
      "18 101.882637024\n",
      "19 109.93686676\n",
      "20 93.1646728516\n",
      "21 98.8837280273\n",
      "22 99.8797302246\n",
      "23 98.138130188\n",
      "24 80.0123291016\n",
      "25 100.301345825\n",
      "26 105.343383789\n",
      "27 91.4214782715\n"
     ]
    }
   ],
   "source": [
    "#TODO: visdom show the whole batch and on test set\n",
    "#TODO: index to name mapping for vgg layers\n",
    "#TODO: rgb/lab option\n",
    "\n",
    "with torch.cuda.device(args.gpu):\n",
    "    \n",
    "    vis=visdom.Visdom(port=args.display_port)\n",
    "    \n",
    "    Loss_g_graph=[]\n",
    "    Loss_gd_graph=[]\n",
    "    Loss_gf_graph = []\n",
    "    Loss_gpl_graph = []\n",
    "    Loss_gpab_graph = []    \n",
    "    Loss_gs_graph = []\n",
    "    Loss_d_graph=[]\n",
    "    #for rgb the change is to feed 3 channels to D instead of just 1. and feed 3 channels to vgg. \n",
    "    #can leave pixel separate between r and gb for now. assume user use the same weights\n",
    "    if args.color_space == 'lab':\n",
    "        ts=custom_trans.Compose([custom_trans.RandomSizedCrop(args.image_size,args.resize_min,args.resize_max),\n",
    "                                 custom_trans.RandomHorizontalFlip() ,custom_trans.toLAB(), custom_trans.toTensor()])\n",
    "    elif args.color_space == 'rgb':\n",
    "        ts=custom_trans.Compose([custom_trans.RandomSizedCrop(args.image_size,args.resize_min,args.resize_max),\n",
    "                                 custom_trans.RandomHorizontalFlip() ,custom_trans.toRGB('RGB'), custom_trans.toTensor()])\n",
    "        args.pixel_weight_ab = args.pixel_weight_rgb\n",
    "        args.pixel_weight_l = args.pixel_weight_rgb\n",
    "    rgbify = custom_trans.toRGB()\n",
    "    dset = ImageFolder(args.data_path,ts)\n",
    "    dataloader=DataLoader(dataset=dset, batch_size=args.batch_size, shuffle=True)\n",
    "    \n",
    "   # renormalize = transforms.Normalize(mean=[+0.5+0.485, +0.5+0.456, +0.5+0.406], std=[0.229, 0.224, 0.225])\n",
    "    \n",
    "    sigmoid_flag = 1\n",
    "    if args.gan =='lsgan':\n",
    "        sigmoid_flag = 0 \n",
    "        \n",
    "    if args.model=='scribbler':\n",
    "        netG=scribbler_dilate_128.ScribblerDilate128(5,3,32)\n",
    "    elif args.model=='pix2pix':\n",
    "        netG=define_G(5,3,32)\n",
    "    else:\n",
    "        print(args.model+ ' not support. Using pix2pix model')\n",
    "        netG=define_G(5,3,32)\n",
    "    if args.color_space =='lab':\n",
    "        netD=discriminator.Discriminator(1,32,sigmoid_flag) \n",
    "    elif args.color_space =='rgb':\n",
    "        netD=discriminator.Discriminator(3,32,sigmoid_flag) \n",
    "    feat_model=models.vgg19(pretrained=True)\n",
    "    if args.load == -1:\n",
    "        netG.apply(weights_init)\n",
    "    else:\n",
    "        \n",
    "        load_network(netG,'G',args.load,args.load_dir)\n",
    "        print('Loaded G from itr:' + str(args.load))\n",
    "    if args.load_D == -1:\n",
    "        netD.apply(weights_init)  \n",
    "    else:\n",
    "        load_network(netD,'D',args.load_D,args.load_dir)\n",
    "        print('Loaded D from itr:' + str(args.load_D))\n",
    "    \n",
    "    if args.gan =='lsgan':\n",
    "        criterion_gan = nn.MSELoss()\n",
    "    elif args.gan =='dcgan':\n",
    "        criterion_gan = nn.BCELoss()\n",
    "        \n",
    "    #criterion_l1 = nn.L1Loss()\n",
    "    criterion_pixel_l = nn.L1Loss()\n",
    "    criterion_pixel_ab = nn.L1Loss()\n",
    "    criterion_style = nn.L1Loss()\n",
    "    criterion_feat = nn.L1Loss()\n",
    "\n",
    "    input_stack = torch.FloatTensor()\n",
    "    target_img = torch.FloatTensor()\n",
    "    segment = torch.FloatTensor()\n",
    "    \n",
    "    \n",
    "    label = torch.FloatTensor(args.batch_size)\n",
    "    real_label = 1\n",
    "    fake_label = 0\n",
    "\n",
    "    optimizerD = optim.Adam(netD.parameters(), lr=args.learning_rate_D, betas=(0.5, 0.999))\n",
    "    optimizerG = optim.Adam(netG.parameters(), lr=args.learning_rate, betas=(0.5, 0.999))\n",
    "\n",
    "    netG.cuda()\n",
    "    netD.cuda()\n",
    "    feat_model.cuda()\n",
    "    criterion_gan.cuda()\n",
    "    criterion_pixel_l.cuda()\n",
    "    criterion_pixel_ab.cuda()\n",
    "    criterion_feat.cuda()\n",
    "    input_stack, target_img, segment, label = input_stack.cuda(), target_img.cuda(),segment.cuda(), label.cuda()\n",
    "\n",
    "    Extract_content = FeatureExtractor(feat_model.features, ['11'])\n",
    "    Extract_style = FeatureExtractor(feat_model.features, ['0','5','10','19','28'])\n",
    "    for epoch in range(args.num_epoch):\n",
    "        for i, data in enumerate(dataloader, 0):\n",
    "            \n",
    "            \n",
    "            #Detach is apparently just creating new Variable with cut off reference to previous node, so shouldn't effect the original \n",
    "            #But just in case, let's do G first so that detaching G during D update don't do anything weird\n",
    "            ############################\n",
    "            # (1) Update G network: maximize log(D(G(z)))\n",
    "            ###########################\n",
    "            netG.zero_grad()\n",
    "            \n",
    "            img, skg,seg = data #LAB with negeative value\n",
    "            \n",
    "            #output img/skg/seg rgb between 0-1\n",
    "            #output img/skg/seg lab between 0-100, -128-128 \n",
    "            if args.color_space =='lab':\n",
    "                img=utforms.normalize_lab(img)\n",
    "                skg=utforms.normalize_lab(skg)\n",
    "            elif args.color_space =='rgb':\n",
    "                img=utforms.normalize_rgb(img)\n",
    "                skg=utforms.normalize_rgb(skg)  \n",
    "            \n",
    "            #skg = torch.round(skg)\n",
    "           # break\n",
    "            #randomize patch position/size\n",
    "            crop_size = int( rand_between(args.crop_size_min, args.crop_size_max))\n",
    "            xcenter = int( rand_between(crop_size/2,args.image_size-crop_size/2))\n",
    "            ycenter = int( rand_between(crop_size/2,args.image_size-crop_size/2))\n",
    "            inp = gen_input(img,skg,xcenter,ycenter,crop_size)\n",
    "            \n",
    "            \n",
    "            img=img.cuda()\n",
    "            skg=skg.cuda()\n",
    "            seg=seg.cuda()\n",
    "            \n",
    "            inp = inp.cuda()\n",
    "            \n",
    "            input_stack.resize_as_(inp.float()).copy_(inp)\n",
    "            target_img.resize_as_(img.float()).copy_(img)\n",
    "            segment.resize_as_(seg.float()).copy_(seg)\n",
    "            \n",
    "            inputv = Variable(input_stack)\n",
    "            targetv = Variable(target_img)\n",
    "            \n",
    "            outputG = netG(inputv)\n",
    "            \n",
    "            outputl,outputa,outputb=torch.chunk((outputG),3,dim=1)\n",
    "            \n",
    "            targetl,targeta,targetb = torch.chunk(targetv,3,dim=1)\n",
    "            outputab = torch.cat((outputa,outputb),1)\n",
    "            targetab = torch.cat((targeta,targetb),1)\n",
    "            \n",
    "            #TODO renormalize with the right mean (but shouldn't matter much, it's around 0.5 anyway)\n",
    "            if args.color_space =='lab':\n",
    "                outputlll= (torch.cat((outputl,outputl,outputl),1))\n",
    "                targetlll = (torch.cat((targetl,targetl,targetl),1))\n",
    "            elif args.color_space =='rgb':\n",
    "                outputlll= outputG#(torch.cat((outputl,outputl,outputl),1))\n",
    "                targetlll = targetv#(torch.cat((targetl,targetl,targetl),1))                \n",
    "            \n",
    "            ##################Pixel L Loss############################\n",
    "            err_pixel_l = args.pixel_weight_l*criterion_pixel_l(outputl,targetl)\n",
    "            \n",
    "            ##################Pixel ab Loss############################\n",
    "            err_pixel_ab = args.pixel_weight_ab*criterion_pixel_ab(outputab,targetab)\n",
    "            \n",
    "            \n",
    "            ##################feature Loss############################\n",
    "            out_feat = Extract_content(outputlll)[0]\n",
    "            \n",
    "            gt_feat = Extract_content(targetlll)[0]\n",
    "            err_feat = args.feature_weight*criterion_feat(out_feat,gt_feat.detach())   \n",
    "            \n",
    "            \n",
    "            ##################style Loss############################\n",
    "\n",
    "            \n",
    "            if args.local_texture_size == -1: #global\n",
    "                output_feat_ = Extract_style(outputlll)\n",
    "                target_feat_ = Extract_style(targetlll)\n",
    "            else:\n",
    "                patchsize = args.local_texture_size\n",
    "                x = int( rand_between(patchsize,args.image_size-patchsize))\n",
    "                y = int( rand_between(patchsize,args.image_size-patchsize))\n",
    "\n",
    "                texture_patch = outputlll[:,:,x:(x+patchsize),y:(y+patchsize)]\n",
    "                gt_texture_patch = targetlll[:,:,x:(x+patchsize),y:(y+patchsize)]\n",
    "                output_feat_ = Extract_style(texture_patch)\n",
    "                target_feat_ = Extract_style(gt_texture_patch)\n",
    "                \n",
    "                \n",
    "            \n",
    "            \n",
    "            gram = GramMatrix()\n",
    "            \n",
    "            err_style = 0\n",
    "            for m in range(len(output_feat_)): \n",
    "                gram_y = gram(output_feat_[m])\n",
    "                gram_s = gram(target_feat_[m])\n",
    "                \n",
    "                err_style += args.style_weight * criterion_style(gram_y, gram_s.detach())\n",
    "                  \n",
    "           \n",
    "            \n",
    "            ##################D Loss############################\n",
    "            netD.zero_grad()\n",
    "            label_ = Variable(label)\n",
    "            if args.color_space =='lab':\n",
    "                outputD = netD(outputl)\n",
    "            elif args.color_space =='rgb':\n",
    "                outputD = netD(outputG)\n",
    "            #D_G_z2 = outputD.data.mean()\n",
    "            \n",
    "            label.resize_(outputD.data.size())\n",
    "            labelv = Variable(label.fill_(real_label))\n",
    "\n",
    "            err_gan = args.discriminator_weight*criterion_gan(outputD, labelv)\n",
    "            \n",
    "            ####################################\n",
    "            err_G = err_pixel_l+err_pixel_ab + err_gan + err_feat + err_style\n",
    "            err_G.backward()\n",
    "            \n",
    "            optimizerG.step() \n",
    "\n",
    "            Loss_g_graph.append(err_G.data[0])\n",
    "            Loss_gpl_graph.append(err_pixel_l.data[0])\n",
    "            Loss_gpab_graph.append(err_pixel_ab.data[0])\n",
    "            Loss_gd_graph.append(err_gan.data[0])\n",
    "            Loss_gf_graph.append(err_feat.data[0])\n",
    "            Loss_gs_graph.append(err_style.data[0])\n",
    "            #plt.imshow(vis_image(inputv.data.double().cpu()))\n",
    "\n",
    "            print i, err_G.data[0]            \n",
    "            \n",
    "            \n",
    "            ############################\n",
    "            # (2) Update D network: maximize log(D(x)) + log(1 - D(G(z)))\n",
    "            ###########################\n",
    "            # train with real\n",
    "            netD.zero_grad()\n",
    "\n",
    "            labelv = Variable(label)\n",
    "            if args.color_space =='lab':\n",
    "                outputD = netD(targetl)\n",
    "            elif args.color_space =='rgb':\n",
    "                outputD = netD(targetv)\n",
    "                \n",
    "            label.resize_(outputD.data.size())\n",
    "            labelv = Variable(label.fill_(real_label))\n",
    "            \n",
    "            errD_real = criterion_gan(outputD, labelv)\n",
    "            errD_real.backward()\n",
    "            \n",
    "            #D_x = output_.data.mean()\n",
    "\n",
    "            # train with fake\n",
    "            #noise.resize_(batch_size, nz, 1, 1).normal_(0, 1)\n",
    "            #noisev = Variable(noise)\n",
    "            \n",
    "            ##################################\n",
    "            #TODO add threshold to stop updating D\n",
    "            if args.color_space =='lab':\n",
    "                outputD = netD(outputl.detach())\n",
    "            elif args.color_space =='rgb':\n",
    "                outputD = netD(outputG.detach())\n",
    "            label.resize_(outputD.data.size())\n",
    "            labelv = Variable(label.fill_(fake_label))\n",
    "\n",
    "            errD_fake = criterion_gan(outputD, labelv)\n",
    "            errD_fake.backward()\n",
    "            #D_G_z1 = output.data.mean()\n",
    "            errD = errD_real + errD_fake\n",
    "            Loss_d_graph.append(errD.data[0])\n",
    "            optimizerD.step()\n",
    "            #TODO add discriminator accuracy\n",
    "\n",
    "            if(i%args.save_every==0):\n",
    "                save_network(netG,'G',i,args.gpu,args.save_dir)\n",
    "                save_network(netD,'D',i,args.gpu,args.save_dir)\n",
    "                \n",
    "                \n",
    "            #TODO test on test set\n",
    "            if(i%args.visualize_every==0):\n",
    "                if args.color_space == 'lab':\n",
    "                    out_img=vis_image(utforms.denormalize_lab(outputG.data.double().cpu()),args.color_space)\n",
    "                    inp_img=vis_patch(utforms.denormalize_lab(img.cpu()),utforms.denormalize_lab(skg.cpu()),xcenter,ycenter,crop_size,args.color_space)\n",
    "                    tar_img=vis_image(utforms.denormalize_lab(img.cpu()),args.color_space)\n",
    "                elif args.color_space =='rgb':\n",
    "                    out_img=vis_image(utforms.denormalize_rgb(outputG.data.double().cpu()),args.color_space)\n",
    "                    inp_img=vis_patch(utforms.denormalize_rgb(img.cpu()),utforms.denormalize_rgb(skg.cpu()),xcenter,ycenter,crop_size,args.color_space)\n",
    "                    tar_img=vis_image(utforms.denormalize_rgb(img.cpu()),args.color_space)                    \n",
    "                out_img=(out_img*255)#.astype('uint8')\n",
    "                #out_img=np.transpose(out_img,(2,0,1))\n",
    "                \n",
    "                inp_img=(inp_img*255)#.astype('uint8')\n",
    "                #inp_img=np.transpose(inp_img,(2,0,1))\n",
    "                \n",
    "                \n",
    "                tar_img=(tar_img*255)#.astype('uint8')\n",
    "                #tar_img=np.transpose(tar_img,(2,0,1))\n",
    "                \n",
    "                segment_img=vis_image((seg.cpu()),args.color_space)\n",
    "                segment_img=(segment_img*255)#.astype('uint8')\n",
    "                #segment_img=np.transpose(segment_img,(2,0,1))\n",
    "                \n",
    "                vis.image(out_img,win='output',opts=dict(title='output'))\n",
    "                vis.image(inp_img,win='input',opts=dict(title='input'))  \n",
    "                vis.image(tar_img,win='target',opts=dict(title='target'))\n",
    "                vis.image(segment_img,win='segment',opts=dict(title='segment'))\n",
    "                vis.line(np.array(Loss_gs_graph),win='gs',opts=dict(title='G-Style Loss'))\n",
    "                vis.line(np.array(Loss_g_graph),win='g',opts=dict(title='G Total Loss'))\n",
    "                vis.line(np.array(Loss_gd_graph),win='gd',opts=dict(title='G-Discriminator Loss'))\n",
    "                vis.line(np.array(Loss_gf_graph),win='gf',opts=dict(title='G-Feature Loss'))\n",
    "                vis.line(np.array(Loss_gpl_graph),win='gpl',opts=dict(title='G-Pixel Loss-L'))\n",
    "                vis.line(np.array(Loss_gpab_graph),win='gpab',opts=dict(title='G-Pixel Loss-AB'))\n",
    "                vis.line(np.array(Loss_d_graph),win='d',opts=dict(title='D Loss'))"
   ]
  },
  {
   "cell_type": "code",
   "execution_count": 112,
   "metadata": {
    "collapsed": false
   },
   "outputs": [
    {
     "data": {
      "text/plain": [
       "Variable containing:\n",
       " 0.8118  0.9099  0.9793  ...   0.9516  0.9931  0.9862\n",
       " 0.9585  0.9862  0.9862  ...   0.9654  0.9862  0.9307\n",
       " 0.9168  0.9654  0.9793  ...   0.9931  0.9931  0.8329\n",
       "          ...             ⋱             ...          \n",
       " 0.8329  0.9099  0.9931  ...   0.5904  0.8259  0.9029\n",
       " 0.8469  0.9862  1.0000  ...   0.6193  0.9099  0.9238\n",
       " 0.9724  1.0000  0.9724  ...   0.8118  0.9793  0.9931\n",
       "[torch.cuda.FloatTensor of size 128x128 (GPU 1)]"
      ]
     },
     "execution_count": 112,
     "metadata": {},
     "output_type": "execute_result"
    }
   ],
   "source": [
    "inputv[0][0]"
   ]
  },
  {
   "cell_type": "code",
   "execution_count": 45,
   "metadata": {
    "collapsed": false
   },
   "outputs": [
    {
     "data": {
      "text/plain": [
       "\n",
       "( 0 ,.,.) = \n",
       "  4.8265e+01  4.9062e+01  4.9459e+01  ...   5.8509e+01  5.7851e+01  5.7410e+01\n",
       "  4.8265e+01  4.9062e+01  4.9459e+01  ...   6.0057e+01  5.9234e+01  5.9343e+01\n",
       "  4.8663e+01  4.9062e+01  4.9434e+01  ...   6.2791e+01  6.2616e+01  6.2443e+01\n",
       "                 ...                   ⋱                   ...                \n",
       "  4.4191e+01  4.4191e+01  4.4612e+01  ...   5.4228e+01  5.3211e+01  5.3246e+01\n",
       "  4.4591e+01  4.4191e+01  4.4351e+01  ...   5.4241e+01  5.4021e+01  5.3008e+01\n",
       "  4.3790e+01  4.3672e+01  4.4232e+01  ...   5.3357e+01  5.3854e+01  5.2988e+01\n",
       "\n",
       "( 1 ,.,.) = \n",
       "  3.8585e+00  3.8416e+00  3.8333e+00  ...   6.1769e+00  5.0949e+00  4.9766e+00\n",
       "  3.8585e+00  3.8416e+00  3.8333e+00  ...   5.9955e+00  5.8782e+00  4.7636e+00\n",
       "  3.8500e+00  3.8416e+00  3.6642e+00  ...   6.1534e+00  5.4677e+00  4.7868e+00\n",
       "                 ...                   ⋱                   ...                \n",
       "  1.2868e+01  1.2868e+01  1.2956e+01  ...   1.4131e+01  1.3239e+01  1.1826e+01\n",
       "  1.2833e+01  1.2868e+01  1.3545e+01  ...   1.2606e+01  1.1767e+01  1.0861e+01\n",
       "  1.2904e+01  1.2469e+01  1.3114e+01  ...   1.2247e+01  1.2637e+01  1.2397e+01\n",
       "\n",
       "( 2 ,.,.) = \n",
       "  6.9983e+00  6.9746e+00  6.9629e+00  ...   1.8345e+01  1.7381e+01  1.6177e+01\n",
       "  6.9983e+00  6.9746e+00  6.9629e+00  ...   2.0531e+01  1.9365e+01  1.8355e+01\n",
       "  6.9864e+00  6.9746e+00  7.5175e+00  ...   2.1017e+01  2.0190e+01  1.9366e+01\n",
       "                 ...                   ⋱                   ...                \n",
       "  1.6957e+01  1.6957e+01  1.6352e+01  ...   1.9385e+01  1.9662e+01  1.9671e+01\n",
       "  1.6921e+01  1.6957e+01  1.5999e+01  ...   1.9938e+01  1.9604e+01  1.9887e+01\n",
       "  1.6995e+01  1.6815e+01  1.5818e+01  ...   1.9838e+01  1.9972e+01  1.9324e+01\n",
       "[torch.DoubleTensor of size 3x128x128]"
      ]
     },
     "execution_count": 45,
     "metadata": {},
     "output_type": "execute_result"
    }
   ],
   "source": [
    "img[0]"
   ]
  },
  {
   "cell_type": "code",
   "execution_count": 19,
   "metadata": {
    "collapsed": false
   },
   "outputs": [
    {
     "data": {
      "text/plain": [
       "ResnetGenerator (\n",
       "  (model): Sequential (\n",
       "    (0): Conv2d(5, 32, kernel_size=(7, 7), stride=(1, 1), padding=(3, 3))\n",
       "    (1): BatchNorm2d(32, eps=1e-05, momentum=0.1, affine=True)\n",
       "    (2): ReLU (inplace)\n",
       "    (3): Conv2d(32, 64, kernel_size=(3, 3), stride=(2, 2), padding=(1, 1))\n",
       "    (4): BatchNorm2d(64, eps=1e-05, momentum=0.1, affine=True)\n",
       "    (5): ReLU (inplace)\n",
       "    (6): Conv2d(64, 128, kernel_size=(3, 3), stride=(2, 2), padding=(1, 1))\n",
       "    (7): BatchNorm2d(128, eps=1e-05, momentum=0.1, affine=True)\n",
       "    (8): ReLU (inplace)\n",
       "    (9): ResnetBlock (\n",
       "      (conv_block): Sequential (\n",
       "        (0): Conv2d(128, 128, kernel_size=(3, 3), stride=(1, 1), padding=(1, 1))\n",
       "        (1): BatchNorm2d(128, eps=1e-05, momentum=0.1, affine=True)\n",
       "        (2): ReLU (inplace)\n",
       "        (3): Conv2d(128, 128, kernel_size=(3, 3), stride=(1, 1), padding=(1, 1))\n",
       "        (4): BatchNorm2d(128, eps=1e-05, momentum=0.1, affine=True)\n",
       "      )\n",
       "    )\n",
       "    (10): ResnetBlock (\n",
       "      (conv_block): Sequential (\n",
       "        (0): Conv2d(128, 128, kernel_size=(3, 3), stride=(1, 1), padding=(1, 1))\n",
       "        (1): BatchNorm2d(128, eps=1e-05, momentum=0.1, affine=True)\n",
       "        (2): ReLU (inplace)\n",
       "        (3): Conv2d(128, 128, kernel_size=(3, 3), stride=(1, 1), padding=(1, 1))\n",
       "        (4): BatchNorm2d(128, eps=1e-05, momentum=0.1, affine=True)\n",
       "      )\n",
       "    )\n",
       "    (11): ResnetBlock (\n",
       "      (conv_block): Sequential (\n",
       "        (0): Conv2d(128, 128, kernel_size=(3, 3), stride=(1, 1), padding=(1, 1))\n",
       "        (1): BatchNorm2d(128, eps=1e-05, momentum=0.1, affine=True)\n",
       "        (2): ReLU (inplace)\n",
       "        (3): Conv2d(128, 128, kernel_size=(3, 3), stride=(1, 1), padding=(1, 1))\n",
       "        (4): BatchNorm2d(128, eps=1e-05, momentum=0.1, affine=True)\n",
       "      )\n",
       "    )\n",
       "    (12): ResnetBlock (\n",
       "      (conv_block): Sequential (\n",
       "        (0): Conv2d(128, 128, kernel_size=(3, 3), stride=(1, 1), padding=(1, 1))\n",
       "        (1): BatchNorm2d(128, eps=1e-05, momentum=0.1, affine=True)\n",
       "        (2): ReLU (inplace)\n",
       "        (3): Conv2d(128, 128, kernel_size=(3, 3), stride=(1, 1), padding=(1, 1))\n",
       "        (4): BatchNorm2d(128, eps=1e-05, momentum=0.1, affine=True)\n",
       "      )\n",
       "    )\n",
       "    (13): ResnetBlock (\n",
       "      (conv_block): Sequential (\n",
       "        (0): Conv2d(128, 128, kernel_size=(3, 3), stride=(1, 1), padding=(1, 1))\n",
       "        (1): BatchNorm2d(128, eps=1e-05, momentum=0.1, affine=True)\n",
       "        (2): ReLU (inplace)\n",
       "        (3): Conv2d(128, 128, kernel_size=(3, 3), stride=(1, 1), padding=(1, 1))\n",
       "        (4): BatchNorm2d(128, eps=1e-05, momentum=0.1, affine=True)\n",
       "      )\n",
       "    )\n",
       "    (14): ResnetBlock (\n",
       "      (conv_block): Sequential (\n",
       "        (0): Conv2d(128, 128, kernel_size=(3, 3), stride=(1, 1), padding=(1, 1))\n",
       "        (1): BatchNorm2d(128, eps=1e-05, momentum=0.1, affine=True)\n",
       "        (2): ReLU (inplace)\n",
       "        (3): Conv2d(128, 128, kernel_size=(3, 3), stride=(1, 1), padding=(1, 1))\n",
       "        (4): BatchNorm2d(128, eps=1e-05, momentum=0.1, affine=True)\n",
       "      )\n",
       "    )\n",
       "    (15): ResnetBlock (\n",
       "      (conv_block): Sequential (\n",
       "        (0): Conv2d(128, 128, kernel_size=(3, 3), stride=(1, 1), padding=(1, 1))\n",
       "        (1): BatchNorm2d(128, eps=1e-05, momentum=0.1, affine=True)\n",
       "        (2): ReLU (inplace)\n",
       "        (3): Conv2d(128, 128, kernel_size=(3, 3), stride=(1, 1), padding=(1, 1))\n",
       "        (4): BatchNorm2d(128, eps=1e-05, momentum=0.1, affine=True)\n",
       "      )\n",
       "    )\n",
       "    (16): ResnetBlock (\n",
       "      (conv_block): Sequential (\n",
       "        (0): Conv2d(128, 128, kernel_size=(3, 3), stride=(1, 1), padding=(1, 1))\n",
       "        (1): BatchNorm2d(128, eps=1e-05, momentum=0.1, affine=True)\n",
       "        (2): ReLU (inplace)\n",
       "        (3): Conv2d(128, 128, kernel_size=(3, 3), stride=(1, 1), padding=(1, 1))\n",
       "        (4): BatchNorm2d(128, eps=1e-05, momentum=0.1, affine=True)\n",
       "      )\n",
       "    )\n",
       "    (17): ResnetBlock (\n",
       "      (conv_block): Sequential (\n",
       "        (0): Conv2d(128, 128, kernel_size=(3, 3), stride=(1, 1), padding=(1, 1))\n",
       "        (1): BatchNorm2d(128, eps=1e-05, momentum=0.1, affine=True)\n",
       "        (2): ReLU (inplace)\n",
       "        (3): Conv2d(128, 128, kernel_size=(3, 3), stride=(1, 1), padding=(1, 1))\n",
       "        (4): BatchNorm2d(128, eps=1e-05, momentum=0.1, affine=True)\n",
       "      )\n",
       "    )\n",
       "    (18): ConvTranspose2d(128, 64, kernel_size=(3, 3), stride=(2, 2), padding=(1, 1), output_padding=(1, 1))\n",
       "    (19): BatchNorm2d(64, eps=1e-05, momentum=0.1, affine=True)\n",
       "    (20): ReLU (inplace)\n",
       "    (21): ConvTranspose2d(64, 32, kernel_size=(3, 3), stride=(2, 2), padding=(1, 1), output_padding=(1, 1))\n",
       "    (22): BatchNorm2d(32, eps=1e-05, momentum=0.1, affine=True)\n",
       "    (23): ReLU (inplace)\n",
       "    (24): Conv2d(32, 3, kernel_size=(7, 7), stride=(1, 1), padding=(3, 3))\n",
       "    (25): Tanh ()\n",
       "  )\n",
       ")"
      ]
     },
     "execution_count": 19,
     "metadata": {},
     "output_type": "execute_result"
    }
   ],
   "source": [
    "netG"
   ]
  },
  {
   "cell_type": "code",
   "execution_count": 484,
   "metadata": {
    "collapsed": false
   },
   "outputs": [],
   "source": [
    "import torch\n",
    "import torch.nn as nn\n",
    "\n",
    "\n",
    "class Scribbler(nn.Module):\n",
    "\tdef __init__(self, input_nc, output_nc, ngf):\n",
    "\t\t'''\n",
    "\t\tDefines the necessary modules of the Scribbler Generator\n",
    "\n",
    "\t\tInput:\n",
    "\t\t- int input_nc : Input number of channels\n",
    "\t\t- int output_nc : Output number of channels\n",
    "\t\t'''\n",
    "\t\tsuper(Scribbler, self).__init__()\n",
    "\n",
    "\t\tself.conv = nn.Conv2d\n",
    "\t\tself.batch_norm = nn.BatchNorm2d\n",
    "\t\tself.ngf = ngf\n",
    "\n",
    "\t\tself.res_block = ResidualBlock\n",
    "\t\tself.dilate_block = DilationBlock\n",
    "\t\tself.biup = UpsamplingBlock\n",
    "\t\tself.model = self.create_model(input_nc,output_nc)\n",
    "\tdef create_test_model(self,input_nc,output_nc):\n",
    "\t\t'''\n",
    "\t\tFunction which pieces together the model\n",
    "\t\t'''\n",
    "            \n",
    "\t\tmodel = nn.Sequential()\n",
    "\t\tngf=self.ngf\n",
    "\t\t#model.add_module('identity',nn.Identity())\n",
    "\t\tmodel.add_module('res_block_1', self.res_block(output_nc))\n",
    "\t\t#model.add_module('res_block_2', self.res_block(output_nc))\n",
    "\n",
    "\t\t#model.add_module('tanh',nn.Tanh())\n",
    "\t\treturn model\n",
    "\t\t#model.add_module('batch_9',self.batch_norm(3)) #?? why?\n",
    "\n",
    "\n",
    "        def create_model(self,input_nc,output_nc):\n",
    "            '''\n",
    "                    Function which pieces together the model\n",
    "                    '''\n",
    "\n",
    "            model = nn.Sequential()\n",
    "            ngf=self.ngf\n",
    "\n",
    "            model.add_module('conv_1',self.dilate_block(input_nc,ngf))\n",
    "            model.add_module('batch_1',self.batch_norm(ngf))\n",
    "            model.add_module('norm_1',nn.ReLU(True))\n",
    "            \n",
    "            #skip connection here\n",
    "            block1 = nn.Sequential()\n",
    "\n",
    "            block1.add_module('res_block_1', self.res_block(ngf))\n",
    "\n",
    "            block1.add_module('conv_2',self.conv(ngf,ngf*2,3,2,1))\n",
    "            block1.add_module('batch_2',self.batch_norm(ngf*2))\n",
    "            block1.add_module('norm_2',nn.ReLU(True))\n",
    "\n",
    "            block1.add_module('res_block_2',self.res_block(ngf*2))\n",
    "\n",
    "            block1.add_module('conv_3',self.conv(ngf*2,ngf*4,3,2,1))\n",
    "            block1.add_module('batch_3',self.batch_norm(ngf*4))\n",
    "            block1.add_module('norm_3',nn.ReLU(True))\n",
    "\n",
    "            block1.add_module('res_block_3',self.res_block(ngf*4))\n",
    "\n",
    "            block1.add_module('conv_4',self.conv(ngf*4,ngf*8,3,1,1))\n",
    "            block1.add_module('batch_4',self.batch_norm(ngf*8))\n",
    "            block1.add_module('norm_4',nn.ReLU(True))\n",
    "\n",
    "            block1.add_module('res_block_4',self.res_block(ngf*8))\n",
    "            block1.add_module('res_block_5',self.res_block(ngf*8))\n",
    "            block1.add_module('res_block_6',self.res_block(ngf*8))\n",
    "            block1.add_module('res_block_7',self.res_block(ngf*8))\n",
    "            block1.add_module('res_block_8',self.res_block(ngf*8))\n",
    "            \n",
    "            block1.add_module('upsampl_1',self.biup(ngf*8,ngf*4,3,1,1,dil=1))\n",
    "            block1.add_module('batch_5',self.batch_norm(ngf*4))\n",
    "            block1.add_module('norm_5',nn.ReLU(True))\n",
    "            block1.add_module('res_block_9',self.res_block(ngf*4))\n",
    "            #model.add_module('res_block_10',self.res_block(ngf*4))\n",
    "\n",
    "            block1.add_module('upsampl_2',self.biup(ngf*4,ngf*2,3,1,1,dil=1))\n",
    "            block1.add_module('batch_6',self.batch_norm(ngf*2))\n",
    "            block1.add_module('norm_6',nn.ReLU(True))\n",
    "            block1.add_module('res_block_11',self.res_block(ngf*2))\n",
    "            #model.add_module('res_block_12',self.res_block(ngf*2))\n",
    "            block1.add_module('conv_7',self.conv(ngf*2,ngf,3,1,1))\n",
    "            block1.add_module('batch_7',self.batch_norm(ngf))\n",
    "            block1.add_module('norm_7',nn.ReLU(True))\n",
    "\n",
    "            #block1.add_module('upsampl_3',self.biup(ngf*2,ngf,5,1,1,dil=1))\n",
    "            #block1.add_module('batch_7',self.batch_norm(ngf))\n",
    "            #block1.add_module('norm_7',nn.ReLU(True))\n",
    "            \n",
    "            \n",
    "            \n",
    "            #skip connection here\n",
    "            block2 = nn.Sequential()\n",
    "            block2.add_module('res_block_13',self.res_block(ngf))\n",
    "            block2.add_module('res_block_14',self.res_block(ngf))\n",
    "            block2.add_module('res_block_15',self.res_block(ngf))\n",
    "            mlp = ConcatTable(block1,block2)\n",
    "            model.add_module('concat',mlp)\n",
    "            model.add_module('upsampl_4',self.biup(2*ngf,3,3,1,1,dil=3))\n",
    "           # model.add_module('batch_8',self.batch_norm(ngf))\n",
    "            model.add_module('norm_8',nn.ReLU(True))\n",
    "            \n",
    "            #model.add_module('conv_5',self.conv(ngf,3,3,1,1))\n",
    "\n",
    "             \n",
    "\n",
    "            \n",
    "\n",
    "            return model\n",
    "        #model.add_module('batch_9',self.batch_norm(3)) #?? why?\n",
    "        \n",
    "        \n",
    "\n",
    "\tdef forward(self,input):\n",
    "\t\treturn self.model(input)\n",
    "\n",
    "\n",
    "\n",
    "\n",
    "\n",
    "class UpsamplingBlock(nn.Module):\n",
    "\tdef __init__(self,input_nc,output_nc,kernel,stride,pad,dil):\n",
    "\t\t'''\n",
    "\t\tSingle block of upsampling operation\n",
    "\n",
    "\t\tInput:\n",
    "\t\t- int input_nc    : Input number of channels\n",
    "\t\t- int output_nc   : Output number of channels\n",
    "\t\t- int kernel      : Kernel size\n",
    "\t\t- int stride\t  : Stride length\n",
    "\t\t- int pad         : Padd_moduleing \n",
    "\t\t'''\n",
    "\t\tsuper(UpsamplingBlock, self).__init__()\n",
    "\n",
    "\t\tconv = nn.Conv2d \n",
    "\t\tbiup = nn.UpsamplingBilinear2d\n",
    "\n",
    "\t\tblock = nn.Sequential()\n",
    "\t\tblock.add_module('conv_1',conv(input_nc,output_nc,kernel,stride,pad,dilation=dil))\n",
    "\t\tblock.add_module('upsample_2',biup(scale_factor=2))\n",
    "\n",
    "\t\tself.biup_block = block\n",
    "\n",
    "\tdef forward(self,input):\n",
    "\n",
    "\t\treturn self.biup_block(input)\n",
    "\n",
    "class DilationBlock(nn.Module):\n",
    "\tdef __init__(self,input_c,output_c):\n",
    "\t\t'''\n",
    "\t\tSingle block of upsampling operation\n",
    "\n",
    "\t\tInput:\n",
    "\t\t- int input_nc    : Input number of channels\n",
    "\t\t- int output_nc   : Output number of channels\n",
    "\t\t- int kernel      : Kernel size\n",
    "\t\t- int stride\t  : Stride length\n",
    "\t\t- int pad         : Padd_moduleing \n",
    "\t\t'''\n",
    "\t\tsuper(DilationBlock, self).__init__()\n",
    "\t\tself.conv = nn.Conv2d\n",
    "\t\tself.batch_norm = nn.BatchNorm2d\n",
    "\n",
    "\t\tself.dilblock = nn.Sequential()\n",
    "\n",
    "\t\tself.dilblock.add_module('conv_1',self.conv(input_c,output_c,5,1,2,5))\n",
    "\t\tself.dilblock.add_module('batch_1',self.batch_norm(output_c))\n",
    "\t\tself.dilblock.add_module('norm_1',nn.ReLU(True))\n",
    "\n",
    "\t\tself.dilblock.add_module('conv_2',self.conv(output_c,output_c,5,1,1,5))\n",
    "\t\tself.dilblock.add_module('batch_2',self.batch_norm(output_c))\n",
    "\t\tself.dilblock.add_module('norm_2',nn.ReLU(True))\n",
    "\n",
    "\t\tself.dilblock.add_module('conv_3',self.conv(output_c,output_c,5,1,1,5))\n",
    "\t\tself.dilblock.add_module('batch_3',self.batch_norm(output_c))\n",
    "\t\tself.dilblock.add_module('norm_3',nn.ReLU(True))\n",
    "        \n",
    "\t\tself.dilblock.add_module('conv_4',self.conv(output_c,output_c,3,1,1,5))\n",
    "\t\tself.dilblock.add_module('batch_4',self.batch_norm(output_c))\n",
    "\n",
    "\n",
    "\tdef forward(self,input):\n",
    "\t\treturn self.dilblock(input)#+input\n",
    "\n",
    "\n",
    "\n",
    "class ResidualBlock(nn.Module):\n",
    "\tdef __init__(self,block_size):\n",
    "\t\t'''\n",
    "\t\tResidual block for bottleneck operation\n",
    "\n",
    "\t\tInput:\n",
    "\t\t- int block_size : number of features in the bottleneck layer\n",
    "\t\t'''\n",
    "\t\tsuper(ResidualBlock, self).__init__()\n",
    "\t\tself.conv = nn.Conv2d\n",
    "\t\tself.batch_norm = nn.BatchNorm2d\n",
    "\n",
    "\t\tself.resblock = nn.Sequential()\n",
    "\n",
    "\t\tself.resblock.add_module('conv_1',self.conv(block_size,block_size,3,1,1,1))\n",
    "\t\tself.resblock.add_module('batch_1',self.batch_norm(block_size))\n",
    "\t\tself.resblock.add_module('norm_1',nn.ReLU(True))\n",
    "\n",
    "\t\tself.resblock.add_module('conv_2',self.conv(block_size,block_size,3,1,1,1))\n",
    "\t\tself.resblock.add_module('batch_2',self.batch_norm(block_size))\n",
    "\n",
    "\n",
    "\tdef forward(self,input):\n",
    "\t\treturn self.resblock(input)+input\n",
    "\n"
   ]
  },
  {
   "cell_type": "code",
   "execution_count": 61,
   "metadata": {
    "collapsed": false
   },
   "outputs": [],
   "source": [
    "#bottleneck scribbler 128 -> 16x16\n",
    "model = nn.Sequential()\n",
    "#model.add_module('conv_1',DilationBlock(3,3))\n",
    "model.add_module('conv_4',nn.Conv2d(3,3,5,1,2))\n",
    "#model.add_module('conv_5',nn.Conv2d(3,3,3,2,1))\n",
    "#model.add_module('conv_1',nn.Conv2d(3,3,5,1,1,5))\n",
    "#model.add_module('conv_2',nn.Conv2d(3,3,5,1,1,5))\n",
    "#model.add_module('conv_3',nn.Conv2d(3,3,5,1,1,5))\n",
    "#model.add_module('conv_4',nn.Conv2d(3,3,3,1,1,5))\n",
    "#model.add_module('upsampl_2',UpsamplingBlock(3,3,3,1,1,dil=1))\n",
    "#model.add_module('upsampl_3',UpsamplingBlock(3,3,3,1,1,dil=3))"
   ]
  },
  {
   "cell_type": "code",
   "execution_count": 318,
   "metadata": {
    "collapsed": true
   },
   "outputs": [],
   "source": [
    "#bottleneck scribbler 128 -> 16x16\n",
    "model = nn.Sequential()\n",
    "#model.add_module('conv_1',DilationBlock(3,3))\n",
    "model.add_module('conv_1',nn.Conv2d(3,3,5,1,1,5))\n",
    "model.add_module('batch_1',nn.BatchNorm2d(3))\n",
    "model.add_module('conv_2',nn.Conv2d(3,3,5,1,1,5))\n",
    "model.add_module('batch_2',nn.BatchNorm2d(3))\n",
    "model.add_module('conv_3',nn.Conv2d(3,3,5,1,1,5))\n",
    "model.add_module('batch_3',nn.BatchNorm2d(3))\n",
    "model.add_module('conv_4',nn.Conv2d(3,3,3,1,1,5))\n",
    "model.add_module('upsampl_2',UpsamplingBlock(3,3,5,1,1,dil=1))"
   ]
  },
  {
   "cell_type": "code",
   "execution_count": 62,
   "metadata": {
    "collapsed": false
   },
   "outputs": [
    {
     "data": {
      "text/plain": [
       "torch.Size([8, 3, 128, 128])"
      ]
     },
     "execution_count": 62,
     "metadata": {},
     "output_type": "execute_result"
    }
   ],
   "source": [
    "out = model.forward(Variable(torch.ones(8,3,128,128)))\n",
    "out.size()"
   ]
  },
  {
   "cell_type": "code",
   "execution_count": 467,
   "metadata": {
    "collapsed": false
   },
   "outputs": [],
   "source": [
    "class ConcatTable(nn.Module):\n",
    "    def __init__(self,model1,model2):\n",
    "        super(ConcatTable, self).__init__()\n",
    "        self.layer1 = model1\n",
    "        self.layer2 = model2\n",
    "        \n",
    "    def forward(self,x):\n",
    "        y = [self.layer1(x), self.layer2(x)]\n",
    "        z = torch.cat((y[0], y[1]),1)\n",
    "        return z"
   ]
  },
  {
   "cell_type": "code",
   "execution_count": 465,
   "metadata": {
    "collapsed": false
   },
   "outputs": [],
   "source": [
    "a = torch.ones(8,32,68,68)\n",
    "b = torch.ones(8,32,68,68)"
   ]
  },
  {
   "cell_type": "code",
   "execution_count": 485,
   "metadata": {
    "collapsed": false
   },
   "outputs": [],
   "source": [
    "test_net = Scribbler(5,3,32)"
   ]
  },
  {
   "cell_type": "code",
   "execution_count": 486,
   "metadata": {
    "collapsed": false
   },
   "outputs": [
    {
     "data": {
      "text/plain": [
       "torch.Size([8, 3, 128, 128])"
      ]
     },
     "execution_count": 486,
     "metadata": {},
     "output_type": "execute_result"
    }
   ],
   "source": [
    "out = test_net.forward(Variable(torch.ones(8,5,128,128)))\n",
    "out.size()"
   ]
  },
  {
   "cell_type": "code",
   "execution_count": 452,
   "metadata": {
    "collapsed": false
   },
   "outputs": [
    {
     "data": {
      "text/plain": [
       "Scribbler (\n",
       "  (model): Sequential (\n",
       "    (conv_1): DilationBlock (\n",
       "      (dilblock): Sequential (\n",
       "        (conv_1): Conv2d(5, 32, kernel_size=(5, 5), stride=(1, 1), padding=(2, 2), dilation=(5, 5))\n",
       "        (batch_1): BatchNorm2d(32, eps=1e-05, momentum=0.1, affine=True)\n",
       "        (norm_1): ReLU (inplace)\n",
       "        (conv_2): Conv2d(32, 32, kernel_size=(5, 5), stride=(1, 1), padding=(1, 1), dilation=(5, 5))\n",
       "        (batch_2): BatchNorm2d(32, eps=1e-05, momentum=0.1, affine=True)\n",
       "        (norm_2): ReLU (inplace)\n",
       "        (conv_3): Conv2d(32, 32, kernel_size=(5, 5), stride=(1, 1), padding=(1, 1), dilation=(5, 5))\n",
       "        (batch_3): BatchNorm2d(32, eps=1e-05, momentum=0.1, affine=True)\n",
       "        (norm_3): ReLU (inplace)\n",
       "        (conv_4): Conv2d(32, 32, kernel_size=(3, 3), stride=(1, 1), padding=(1, 1), dilation=(5, 5))\n",
       "        (batch_4): BatchNorm2d(32, eps=1e-05, momentum=0.1, affine=True)\n",
       "      )\n",
       "    )\n",
       "    (batch_1): BatchNorm2d(32, eps=1e-05, momentum=0.1, affine=True)\n",
       "    (norm_1): ReLU (inplace)\n",
       "    (concat): ConcatTable (\n",
       "      (layer1): Sequential (\n",
       "        (res_block_1): ResidualBlock (\n",
       "          (resblock): Sequential (\n",
       "            (conv_1): Conv2d(32, 32, kernel_size=(3, 3), stride=(1, 1), padding=(1, 1))\n",
       "            (batch_1): BatchNorm2d(32, eps=1e-05, momentum=0.1, affine=True)\n",
       "            (norm_1): ReLU (inplace)\n",
       "            (conv_2): Conv2d(32, 32, kernel_size=(3, 3), stride=(1, 1), padding=(1, 1))\n",
       "            (batch_2): BatchNorm2d(32, eps=1e-05, momentum=0.1, affine=True)\n",
       "          )\n",
       "        )\n",
       "        (conv_2): Conv2d(32, 64, kernel_size=(3, 3), stride=(2, 2), padding=(1, 1))\n",
       "        (batch_2): BatchNorm2d(64, eps=1e-05, momentum=0.1, affine=True)\n",
       "        (norm_2): ReLU (inplace)\n",
       "        (res_block_2): ResidualBlock (\n",
       "          (resblock): Sequential (\n",
       "            (conv_1): Conv2d(64, 64, kernel_size=(3, 3), stride=(1, 1), padding=(1, 1))\n",
       "            (batch_1): BatchNorm2d(64, eps=1e-05, momentum=0.1, affine=True)\n",
       "            (norm_1): ReLU (inplace)\n",
       "            (conv_2): Conv2d(64, 64, kernel_size=(3, 3), stride=(1, 1), padding=(1, 1))\n",
       "            (batch_2): BatchNorm2d(64, eps=1e-05, momentum=0.1, affine=True)\n",
       "          )\n",
       "        )\n",
       "        (conv_3): Conv2d(64, 128, kernel_size=(3, 3), stride=(2, 2), padding=(1, 1))\n",
       "        (batch_3): BatchNorm2d(128, eps=1e-05, momentum=0.1, affine=True)\n",
       "        (norm_3): ReLU (inplace)\n",
       "        (res_block_3): ResidualBlock (\n",
       "          (resblock): Sequential (\n",
       "            (conv_1): Conv2d(128, 128, kernel_size=(3, 3), stride=(1, 1), padding=(1, 1))\n",
       "            (batch_1): BatchNorm2d(128, eps=1e-05, momentum=0.1, affine=True)\n",
       "            (norm_1): ReLU (inplace)\n",
       "            (conv_2): Conv2d(128, 128, kernel_size=(3, 3), stride=(1, 1), padding=(1, 1))\n",
       "            (batch_2): BatchNorm2d(128, eps=1e-05, momentum=0.1, affine=True)\n",
       "          )\n",
       "        )\n",
       "        (conv_4): Conv2d(128, 256, kernel_size=(3, 3), stride=(1, 1), padding=(1, 1))\n",
       "        (batch_4): BatchNorm2d(256, eps=1e-05, momentum=0.1, affine=True)\n",
       "        (norm_4): ReLU (inplace)\n",
       "        (res_block_4): ResidualBlock (\n",
       "          (resblock): Sequential (\n",
       "            (conv_1): Conv2d(256, 256, kernel_size=(3, 3), stride=(1, 1), padding=(1, 1))\n",
       "            (batch_1): BatchNorm2d(256, eps=1e-05, momentum=0.1, affine=True)\n",
       "            (norm_1): ReLU (inplace)\n",
       "            (conv_2): Conv2d(256, 256, kernel_size=(3, 3), stride=(1, 1), padding=(1, 1))\n",
       "            (batch_2): BatchNorm2d(256, eps=1e-05, momentum=0.1, affine=True)\n",
       "          )\n",
       "        )\n",
       "        (res_block_5): ResidualBlock (\n",
       "          (resblock): Sequential (\n",
       "            (conv_1): Conv2d(256, 256, kernel_size=(3, 3), stride=(1, 1), padding=(1, 1))\n",
       "            (batch_1): BatchNorm2d(256, eps=1e-05, momentum=0.1, affine=True)\n",
       "            (norm_1): ReLU (inplace)\n",
       "            (conv_2): Conv2d(256, 256, kernel_size=(3, 3), stride=(1, 1), padding=(1, 1))\n",
       "            (batch_2): BatchNorm2d(256, eps=1e-05, momentum=0.1, affine=True)\n",
       "          )\n",
       "        )\n",
       "        (res_block_6): ResidualBlock (\n",
       "          (resblock): Sequential (\n",
       "            (conv_1): Conv2d(256, 256, kernel_size=(3, 3), stride=(1, 1), padding=(1, 1))\n",
       "            (batch_1): BatchNorm2d(256, eps=1e-05, momentum=0.1, affine=True)\n",
       "            (norm_1): ReLU (inplace)\n",
       "            (conv_2): Conv2d(256, 256, kernel_size=(3, 3), stride=(1, 1), padding=(1, 1))\n",
       "            (batch_2): BatchNorm2d(256, eps=1e-05, momentum=0.1, affine=True)\n",
       "          )\n",
       "        )\n",
       "        (res_block_7): ResidualBlock (\n",
       "          (resblock): Sequential (\n",
       "            (conv_1): Conv2d(256, 256, kernel_size=(3, 3), stride=(1, 1), padding=(1, 1))\n",
       "            (batch_1): BatchNorm2d(256, eps=1e-05, momentum=0.1, affine=True)\n",
       "            (norm_1): ReLU (inplace)\n",
       "            (conv_2): Conv2d(256, 256, kernel_size=(3, 3), stride=(1, 1), padding=(1, 1))\n",
       "            (batch_2): BatchNorm2d(256, eps=1e-05, momentum=0.1, affine=True)\n",
       "          )\n",
       "        )\n",
       "        (res_block_8): ResidualBlock (\n",
       "          (resblock): Sequential (\n",
       "            (conv_1): Conv2d(256, 256, kernel_size=(3, 3), stride=(1, 1), padding=(1, 1))\n",
       "            (batch_1): BatchNorm2d(256, eps=1e-05, momentum=0.1, affine=True)\n",
       "            (norm_1): ReLU (inplace)\n",
       "            (conv_2): Conv2d(256, 256, kernel_size=(3, 3), stride=(1, 1), padding=(1, 1))\n",
       "            (batch_2): BatchNorm2d(256, eps=1e-05, momentum=0.1, affine=True)\n",
       "          )\n",
       "        )\n",
       "        (upsampl_1): UpsamplingBlock (\n",
       "          (biup_block): Sequential (\n",
       "            (conv_1): Conv2d(256, 128, kernel_size=(3, 3), stride=(1, 1), padding=(1, 1))\n",
       "            (upsample_2): UpsamplingBilinear2d(scale_factor=2, mode=bilinear)\n",
       "          )\n",
       "        )\n",
       "        (batch_5): BatchNorm2d(128, eps=1e-05, momentum=0.1, affine=True)\n",
       "        (norm_5): ReLU (inplace)\n",
       "        (res_block_9): ResidualBlock (\n",
       "          (resblock): Sequential (\n",
       "            (conv_1): Conv2d(128, 128, kernel_size=(3, 3), stride=(1, 1), padding=(1, 1))\n",
       "            (batch_1): BatchNorm2d(128, eps=1e-05, momentum=0.1, affine=True)\n",
       "            (norm_1): ReLU (inplace)\n",
       "            (conv_2): Conv2d(128, 128, kernel_size=(3, 3), stride=(1, 1), padding=(1, 1))\n",
       "            (batch_2): BatchNorm2d(128, eps=1e-05, momentum=0.1, affine=True)\n",
       "          )\n",
       "        )\n",
       "        (upsampl_2): UpsamplingBlock (\n",
       "          (biup_block): Sequential (\n",
       "            (conv_1): Conv2d(128, 64, kernel_size=(3, 3), stride=(1, 1), padding=(1, 1))\n",
       "            (upsample_2): UpsamplingBilinear2d(scale_factor=2, mode=bilinear)\n",
       "          )\n",
       "        )\n",
       "        (batch_6): BatchNorm2d(64, eps=1e-05, momentum=0.1, affine=True)\n",
       "        (norm_6): ReLU (inplace)\n",
       "        (res_block_11): ResidualBlock (\n",
       "          (resblock): Sequential (\n",
       "            (conv_1): Conv2d(64, 64, kernel_size=(3, 3), stride=(1, 1), padding=(1, 1))\n",
       "            (batch_1): BatchNorm2d(64, eps=1e-05, momentum=0.1, affine=True)\n",
       "            (norm_1): ReLU (inplace)\n",
       "            (conv_2): Conv2d(64, 64, kernel_size=(3, 3), stride=(1, 1), padding=(1, 1))\n",
       "            (batch_2): BatchNorm2d(64, eps=1e-05, momentum=0.1, affine=True)\n",
       "          )\n",
       "        )\n",
       "        (conv_7): Conv2d(64, 32, kernel_size=(3, 3), stride=(1, 1), padding=(1, 1))\n",
       "        (batch_7): BatchNorm2d(32, eps=1e-05, momentum=0.1, affine=True)\n",
       "        (norm_7): ReLU (inplace)\n",
       "      )\n",
       "      (layer2): Sequential (\n",
       "        (res_block_13): ResidualBlock (\n",
       "          (resblock): Sequential (\n",
       "            (conv_1): Conv2d(32, 32, kernel_size=(3, 3), stride=(1, 1), padding=(1, 1))\n",
       "            (batch_1): BatchNorm2d(32, eps=1e-05, momentum=0.1, affine=True)\n",
       "            (norm_1): ReLU (inplace)\n",
       "            (conv_2): Conv2d(32, 32, kernel_size=(3, 3), stride=(1, 1), padding=(1, 1))\n",
       "            (batch_2): BatchNorm2d(32, eps=1e-05, momentum=0.1, affine=True)\n",
       "          )\n",
       "        )\n",
       "        (res_block_14): ResidualBlock (\n",
       "          (resblock): Sequential (\n",
       "            (conv_1): Conv2d(32, 32, kernel_size=(3, 3), stride=(1, 1), padding=(1, 1))\n",
       "            (batch_1): BatchNorm2d(32, eps=1e-05, momentum=0.1, affine=True)\n",
       "            (norm_1): ReLU (inplace)\n",
       "            (conv_2): Conv2d(32, 32, kernel_size=(3, 3), stride=(1, 1), padding=(1, 1))\n",
       "            (batch_2): BatchNorm2d(32, eps=1e-05, momentum=0.1, affine=True)\n",
       "          )\n",
       "        )\n",
       "        (res_block_15): ResidualBlock (\n",
       "          (resblock): Sequential (\n",
       "            (conv_1): Conv2d(32, 32, kernel_size=(3, 3), stride=(1, 1), padding=(1, 1))\n",
       "            (batch_1): BatchNorm2d(32, eps=1e-05, momentum=0.1, affine=True)\n",
       "            (norm_1): ReLU (inplace)\n",
       "            (conv_2): Conv2d(32, 32, kernel_size=(3, 3), stride=(1, 1), padding=(1, 1))\n",
       "            (batch_2): BatchNorm2d(32, eps=1e-05, momentum=0.1, affine=True)\n",
       "          )\n",
       "        )\n",
       "      )\n",
       "    )\n",
       "  )\n",
       ")"
      ]
     },
     "execution_count": 452,
     "metadata": {},
     "output_type": "execute_result"
    }
   ],
   "source": [
    "test_net"
   ]
  },
  {
   "cell_type": "code",
   "execution_count": 13,
   "metadata": {
    "collapsed": false
   },
   "outputs": [],
   "source": [
    "def vis_patch(img,skg,xcenter=64,ycenter=64,size=40,color='lab'):\n",
    "    if color == 'lab':\n",
    "        ToRGB = transforms.toRGB()\n",
    "        \n",
    "    elif color =='rgb':\n",
    "        ToRGB = transforms.toRGB('RGB')\n",
    "        img = img.cpu().numpy()\n",
    "        skg = skg.cpu().numpy()\n",
    "    img_np = ToRGB(img)[0]\n",
    "    skg_np = ToRGB(skg)[0]\n",
    "    \n",
    "    vis_skg = np.copy(skg_np)\n",
    "    vis_img = np.copy(img_np)\n",
    "    print np.shape(vis_skg)\n",
    "    vis_skg[:,xcenter-size/2:xcenter+size/2,ycenter-size/2:ycenter+size/2] = vis_img[:,xcenter-size/2:xcenter+size/2,ycenter-size/2:ycenter+size/2]\n",
    "    \n",
    "    return (vis_skg)\n",
    "    \n",
    "def vis_image(img,color='lab'):\n",
    "    \n",
    "    if color == 'lab':\n",
    "        ToRGB = transforms.toRGB()\n",
    "        \n",
    "    elif color =='rgb':\n",
    "        ToRGB = transforms.toRGB('RGB')\n",
    "    print np.shape(img)   \n",
    "    img_np = ToRGB(img)[0]\n",
    "   \n",
    "    \n",
    "    return (img_np)"
   ]
  },
  {
   "cell_type": "code",
   "execution_count": 13,
   "metadata": {
    "collapsed": false
   },
   "outputs": [
    {
     "data": {
      "text/plain": [
       "array([[[ 1.,  1.,  1.],\n",
       "        [ 1.,  1.,  1.],\n",
       "        [ 1.,  1.,  1.],\n",
       "        ..., \n",
       "        [ 1.,  1.,  1.],\n",
       "        [ 1.,  1.,  1.],\n",
       "        [ 1.,  1.,  1.]],\n",
       "\n",
       "       [[ 1.,  1.,  1.],\n",
       "        [ 1.,  1.,  1.],\n",
       "        [ 1.,  1.,  1.],\n",
       "        ..., \n",
       "        [ 1.,  1.,  1.],\n",
       "        [ 1.,  1.,  1.],\n",
       "        [ 1.,  1.,  1.]],\n",
       "\n",
       "       [[ 1.,  1.,  1.],\n",
       "        [ 1.,  1.,  1.],\n",
       "        [ 1.,  1.,  1.],\n",
       "        ..., \n",
       "        [ 1.,  1.,  1.],\n",
       "        [ 1.,  1.,  1.],\n",
       "        [ 1.,  1.,  1.]],\n",
       "\n",
       "       ..., \n",
       "       [[ 1.,  1.,  1.],\n",
       "        [ 1.,  1.,  1.],\n",
       "        [ 1.,  1.,  1.],\n",
       "        ..., \n",
       "        [ 1.,  1.,  1.],\n",
       "        [ 1.,  1.,  1.],\n",
       "        [ 1.,  1.,  1.]],\n",
       "\n",
       "       [[ 1.,  1.,  1.],\n",
       "        [ 1.,  1.,  1.],\n",
       "        [ 1.,  1.,  1.],\n",
       "        ..., \n",
       "        [ 1.,  1.,  1.],\n",
       "        [ 1.,  1.,  1.],\n",
       "        [ 1.,  1.,  1.]],\n",
       "\n",
       "       [[ 1.,  1.,  1.],\n",
       "        [ 1.,  1.,  1.],\n",
       "        [ 1.,  1.,  1.],\n",
       "        ..., \n",
       "        [ 1.,  1.,  1.],\n",
       "        [ 1.,  1.,  1.],\n",
       "        [ 1.,  1.,  1.]]])"
      ]
     },
     "execution_count": 13,
     "metadata": {},
     "output_type": "execute_result"
    }
   ],
   "source": [
    "vis_patch(utforms.denormalize_lab(img.cpu()),utforms.denormalize_lab(skg.cpu()),xcenter,ycenter,crop_size,args.color_space)"
   ]
  },
  {
   "cell_type": "code",
   "execution_count": null,
   "metadata": {
    "collapsed": true
   },
   "outputs": [],
   "source": []
  },
  {
   "cell_type": "code",
   "execution_count": 105,
   "metadata": {
    "collapsed": false
   },
   "outputs": [
    {
     "name": "stdout",
     "output_type": "stream",
     "text": [
      "(3, 128, 128)\n"
     ]
    },
    {
     "data": {
      "text/plain": [
       "array([[[ 46.99919373,  -4.81611156,  12.76823997],\n",
       "        [ 36.15340739,  -1.37587154,  -0.85690129],\n",
       "        [ 41.65360928,   1.41638982,  -0.2673547 ],\n",
       "        ..., \n",
       "        [ 39.7200346 , -12.08846855,   5.10191059],\n",
       "        [ 47.25777283, -11.61086082,  -2.0230794 ],\n",
       "        [ 38.6563547 ,   5.44462347, -12.04322052]],\n",
       "\n",
       "       [[ 60.67806259,  -4.91811609,  31.40768623],\n",
       "        [ 46.36092223,   6.7113533 ,  27.90250206],\n",
       "        [ 51.84378587,   2.96418595,  32.05181503],\n",
       "        ..., \n",
       "        [ 42.57362261,  12.69736958,  20.71947289],\n",
       "        [ 46.49449438,   6.50615025,   5.31617308],\n",
       "        [ 45.61737701,   7.07575989, -23.26641273]],\n",
       "\n",
       "       [[ 56.37026727,  -1.81059086,  11.711483  ],\n",
       "        [ 41.29150212,  -9.65163994, -21.63571358],\n",
       "        [ 49.99948833, -11.40242386, -27.07893562],\n",
       "        ..., \n",
       "        [ 40.66488743,  15.49911213, -12.04884434],\n",
       "        [ 48.55920356,   5.98456383, -16.82516861],\n",
       "        [ 53.45241614,  36.24575806, -27.33911133]],\n",
       "\n",
       "       ..., \n",
       "       [[ 50.68318299,   0.78113872,  15.15357018],\n",
       "        [ 42.08639264,   2.98549819, -13.52214718],\n",
       "        [ 43.9770598 , -16.45812798,  -6.42274714],\n",
       "        ..., \n",
       "        [ 46.65412121, -18.87739182,  -4.2402997 ],\n",
       "        [ 43.78913455, -22.45646095, -15.47240353],\n",
       "        [ 52.46170536, -12.12133694, -23.03975487]],\n",
       "\n",
       "       [[ 51.42323179,  11.96501827,  22.87900543],\n",
       "        [ 37.70578206,   8.02615738,   3.90795803],\n",
       "        [ 37.5219658 ,  -5.85294294,   9.63327408],\n",
       "        ..., \n",
       "        [ 37.55828217,   0.51100528,  -5.80695629],\n",
       "        [ 37.26314604,   5.75103474,   2.6939528 ],\n",
       "        [ 49.97441713,  -2.28435683, -17.10643768]],\n",
       "\n",
       "       [[ 45.30321397, -10.64860821,   9.52479649],\n",
       "        [ 37.06112653,   6.85571051,  35.25969315],\n",
       "        [ 37.43981272,   1.11125827,  29.88935089],\n",
       "        ..., \n",
       "        [ 38.20521906,   8.87876797,  33.04319   ],\n",
       "        [ 43.56013089,   4.98496819,  14.70431042],\n",
       "        [ 53.28123756,  20.91475296, -19.19887352]]])"
      ]
     },
     "execution_count": 105,
     "metadata": {},
     "output_type": "execute_result"
    }
   ],
   "source": [
    "#out_img=vis_image(utforms.denormalize_lab(outputG.data.double().cpu()),args.color_space)\n",
    "images = utforms.denormalize_lab(outputG.data.double().cpu())\n",
    "image = images[0]\n",
    "print np.shape(image.numpy())\n",
    "np.transpose(image.cpu().numpy(),(1,2,0))\n",
    "#rgb_img = [color.lab2rgb(np.transpose(np.array(image),(1,2,0))) for image in images]"
   ]
  },
  {
   "cell_type": "code",
   "execution_count": 86,
   "metadata": {
    "collapsed": false
   },
   "outputs": [],
   "source": [
    "tar_img= vis_image(utforms.denormalize_rgb(img.cpu()),args.color_space)\n",
    "tar_img=(tar_img)*255"
   ]
  },
  {
   "cell_type": "code",
   "execution_count": 87,
   "metadata": {
    "collapsed": false
   },
   "outputs": [
    {
     "data": {
      "text/plain": [
       "\n",
       "( 0 , 0 ,.,.) = \n",
       "  0.9961  0.9922  0.9882  ...   0.9922  0.9882  0.9843\n",
       "  0.9569  0.9255  0.8980  ...   0.9922  0.9922  0.9882\n",
       "  0.4510  0.3647  0.2941  ...   0.9882  0.9922  0.9922\n",
       "           ...             ⋱             ...          \n",
       "  1.0000  1.0000  1.0000  ...   1.0000  1.0000  1.0000\n",
       "  1.0000  1.0000  1.0000  ...   1.0000  1.0000  1.0000\n",
       "  1.0000  1.0000  1.0000  ...   1.0000  1.0000  1.0000\n",
       "\n",
       "( 0 , 1 ,.,.) = \n",
       "  0.9961  0.9922  0.9882  ...   1.0000  1.0000  1.0000\n",
       "  0.9569  0.9255  0.8980  ...   1.0000  1.0000  1.0000\n",
       "  0.4510  0.3647  0.2941  ...   0.9961  1.0000  0.9961\n",
       "           ...             ⋱             ...          \n",
       "  1.0000  1.0000  1.0000  ...   1.0000  1.0000  1.0000\n",
       "  1.0000  1.0000  1.0000  ...   1.0000  1.0000  1.0000\n",
       "  1.0000  1.0000  1.0000  ...   1.0000  1.0000  1.0000\n",
       "\n",
       "( 0 , 2 ,.,.) = \n",
       "  1.0000  0.9961  0.9922  ...   0.9922  0.9961  0.9961\n",
       "  0.9608  0.9333  0.9059  ...   0.9961  0.9961  0.9961\n",
       "  0.4588  0.3725  0.3020  ...   1.0000  0.9961  0.9961\n",
       "           ...             ⋱             ...          \n",
       "  1.0000  1.0000  1.0000  ...   1.0000  1.0000  1.0000\n",
       "  1.0000  1.0000  1.0000  ...   1.0000  1.0000  1.0000\n",
       "  1.0000  1.0000  1.0000  ...   1.0000  1.0000  1.0000\n",
       "      ⋮  \n",
       "\n",
       "( 1 , 0 ,.,.) = \n",
       "  1.0000  1.0000  1.0000  ...   1.0000  1.0000  1.0000\n",
       "  1.0000  1.0000  1.0000  ...   1.0000  1.0000  1.0000\n",
       "  1.0000  1.0000  1.0000  ...   1.0000  1.0000  1.0000\n",
       "           ...             ⋱             ...          \n",
       "  0.8980  0.8980  0.9059  ...   0.8588  0.9255  0.9922\n",
       "  0.9294  0.9294  0.9294  ...   0.9020  0.9294  0.9843\n",
       "  0.9569  0.9569  0.9569  ...   0.9412  0.9490  0.9843\n",
       "\n",
       "( 1 , 1 ,.,.) = \n",
       "  1.0000  1.0000  1.0000  ...   1.0000  1.0000  1.0000\n",
       "  1.0000  1.0000  1.0000  ...   1.0000  1.0000  1.0000\n",
       "  1.0000  1.0000  1.0000  ...   1.0000  1.0000  1.0000\n",
       "           ...             ⋱             ...          \n",
       "  0.9020  0.9020  0.9059  ...   0.8588  0.9255  0.9922\n",
       "  0.9294  0.9294  0.9294  ...   0.9020  0.9294  0.9843\n",
       "  0.9569  0.9569  0.9569  ...   0.9412  0.9490  0.9843\n",
       "\n",
       "( 1 , 2 ,.,.) = \n",
       "  1.0000  1.0000  1.0000  ...   1.0000  1.0000  1.0000\n",
       "  1.0000  1.0000  1.0000  ...   1.0000  1.0000  1.0000\n",
       "  1.0000  1.0000  1.0000  ...   1.0000  1.0000  1.0000\n",
       "           ...             ⋱             ...          \n",
       "  0.8902  0.8902  0.8941  ...   0.8510  0.9176  0.9843\n",
       "  0.9255  0.9255  0.9255  ...   0.8941  0.9216  0.9765\n",
       "  0.9569  0.9569  0.9569  ...   0.9333  0.9412  0.9765\n",
       "      ⋮  \n",
       "\n",
       "( 2 , 0 ,.,.) = \n",
       "  1.0000  1.0000  1.0000  ...   1.0000  1.0000  1.0000\n",
       "  1.0000  1.0000  1.0000  ...   1.0000  1.0000  1.0000\n",
       "  1.0000  1.0000  1.0000  ...   1.0000  1.0000  1.0000\n",
       "           ...             ⋱             ...          \n",
       "  1.0000  1.0000  1.0000  ...   0.3647  0.1725  0.1804\n",
       "  1.0000  1.0000  1.0000  ...   0.3373  0.3294  0.1647\n",
       "  1.0000  1.0000  1.0000  ...   0.2000  0.3804  0.2235\n",
       "\n",
       "( 2 , 1 ,.,.) = \n",
       "  1.0000  1.0000  1.0000  ...   1.0000  1.0000  1.0000\n",
       "  1.0000  1.0000  1.0000  ...   1.0000  1.0000  1.0000\n",
       "  1.0000  1.0000  1.0000  ...   1.0000  1.0000  1.0000\n",
       "           ...             ⋱             ...          \n",
       "  1.0000  1.0000  1.0000  ...   0.3137  0.1255  0.1412\n",
       "  1.0000  1.0000  1.0000  ...   0.2824  0.2784  0.1216\n",
       "  1.0000  1.0000  1.0000  ...   0.1451  0.3294  0.1765\n",
       "\n",
       "( 2 , 2 ,.,.) = \n",
       "  1.0000  1.0000  1.0000  ...   1.0000  1.0000  1.0000\n",
       "  1.0000  1.0000  1.0000  ...   1.0000  1.0000  1.0000\n",
       "  1.0000  1.0000  1.0000  ...   1.0000  1.0000  1.0000\n",
       "           ...             ⋱             ...          \n",
       "  1.0000  1.0000  1.0000  ...   0.2510  0.0706  0.0902\n",
       "  1.0000  1.0000  1.0000  ...   0.2235  0.2196  0.0667\n",
       "  1.0000  1.0000  1.0000  ...   0.0824  0.2667  0.1216\n",
       "...     \n",
       "      ⋮  \n",
       "\n",
       "( 5 , 0 ,.,.) = \n",
       "  1.0000  0.9961  0.9961  ...   1.0000  1.0000  1.0000\n",
       "  1.0000  0.9961  0.9961  ...   1.0000  1.0000  1.0000\n",
       "  0.9961  0.9961  0.9922  ...   1.0000  0.9961  0.9961\n",
       "           ...             ⋱             ...          \n",
       "  1.0000  1.0000  1.0000  ...   1.0000  1.0000  1.0000\n",
       "  1.0000  1.0000  1.0000  ...   1.0000  1.0000  1.0000\n",
       "  1.0000  1.0000  1.0000  ...   1.0000  1.0000  1.0000\n",
       "\n",
       "( 5 , 1 ,.,.) = \n",
       "  1.0000  0.9961  0.9961  ...   1.0000  1.0000  1.0000\n",
       "  1.0000  0.9961  0.9961  ...   1.0000  1.0000  1.0000\n",
       "  0.9961  0.9961  0.9922  ...   1.0000  1.0000  1.0000\n",
       "           ...             ⋱             ...          \n",
       "  1.0000  1.0000  1.0000  ...   1.0000  1.0000  1.0000\n",
       "  1.0000  1.0000  1.0000  ...   1.0000  1.0000  1.0000\n",
       "  1.0000  1.0000  1.0000  ...   1.0000  1.0000  1.0000\n",
       "\n",
       "( 5 , 2 ,.,.) = \n",
       "  1.0000  0.9961  0.9961  ...   1.0000  1.0000  1.0000\n",
       "  1.0000  0.9961  0.9961  ...   1.0000  1.0000  1.0000\n",
       "  0.9922  0.9922  0.9843  ...   1.0000  0.9961  0.9961\n",
       "           ...             ⋱             ...          \n",
       "  1.0000  1.0000  1.0000  ...   1.0000  1.0000  1.0000\n",
       "  1.0000  1.0000  1.0000  ...   1.0000  1.0000  1.0000\n",
       "  1.0000  1.0000  1.0000  ...   1.0000  1.0000  1.0000\n",
       "      ⋮  \n",
       "\n",
       "( 6 , 0 ,.,.) = \n",
       "  0.9961  0.9686  0.8863  ...   0.6745  0.6902  0.6863\n",
       "  0.9608  0.8549  0.7725  ...   0.7333  0.7294  0.7569\n",
       "  0.9333  0.8078  0.8000  ...   0.5176  0.4980  0.5137\n",
       "           ...             ⋱             ...          \n",
       "  0.9882  0.9961  1.0000  ...   0.7882  0.7725  0.7608\n",
       "  0.9882  0.9961  1.0000  ...   0.7725  0.7765  0.7765\n",
       "  0.9882  0.9961  1.0000  ...   0.7529  0.7647  0.7647\n",
       "\n",
       "( 6 , 1 ,.,.) = \n",
       "  0.9843  0.9451  0.8314  ...   0.5686  0.5843  0.5765\n",
       "  0.9373  0.8078  0.6902  ...   0.6235  0.6157  0.6353\n",
       "  0.8902  0.7412  0.6980  ...   0.4039  0.3765  0.3804\n",
       "           ...             ⋱             ...          \n",
       "  1.0000  1.0000  1.0000  ...   0.5490  0.5333  0.5216\n",
       "  1.0000  1.0000  1.0000  ...   0.5373  0.5451  0.5412\n",
       "  1.0000  1.0000  1.0000  ...   0.5176  0.5294  0.5294\n",
       "\n",
       "( 6 , 2 ,.,.) = \n",
       "  0.9529  0.9059  0.7725  ...   0.4980  0.5098  0.5098\n",
       "  0.8745  0.7412  0.6039  ...   0.5451  0.5373  0.5608\n",
       "  0.8078  0.6510  0.5922  ...   0.3216  0.2980  0.3020\n",
       "           ...             ⋱             ...          \n",
       "  1.0000  0.9961  0.9922  ...   0.3255  0.3176  0.3059\n",
       "  1.0000  0.9961  0.9922  ...   0.3216  0.3294  0.3255\n",
       "  1.0000  0.9961  0.9922  ...   0.3059  0.3176  0.3176\n",
       "      ⋮  \n",
       "\n",
       "( 7 , 0 ,.,.) = \n",
       "  1.0000  1.0000  1.0000  ...   1.0000  1.0000  1.0000\n",
       "  1.0000  1.0000  1.0000  ...   1.0000  1.0000  1.0000\n",
       "  1.0000  1.0000  1.0000  ...   1.0000  1.0000  1.0000\n",
       "           ...             ⋱             ...          \n",
       "  1.0000  1.0000  1.0000  ...   1.0000  1.0000  1.0000\n",
       "  1.0000  1.0000  1.0000  ...   1.0000  1.0000  1.0000\n",
       "  1.0000  1.0000  1.0000  ...   1.0000  1.0000  1.0000\n",
       "\n",
       "( 7 , 1 ,.,.) = \n",
       "  1.0000  1.0000  1.0000  ...   1.0000  1.0000  1.0000\n",
       "  1.0000  1.0000  1.0000  ...   1.0000  1.0000  1.0000\n",
       "  1.0000  1.0000  1.0000  ...   1.0000  1.0000  1.0000\n",
       "           ...             ⋱             ...          \n",
       "  1.0000  1.0000  1.0000  ...   1.0000  1.0000  1.0000\n",
       "  1.0000  1.0000  1.0000  ...   1.0000  1.0000  1.0000\n",
       "  1.0000  1.0000  1.0000  ...   1.0000  1.0000  1.0000\n",
       "\n",
       "( 7 , 2 ,.,.) = \n",
       "  1.0000  1.0000  1.0000  ...   1.0000  1.0000  1.0000\n",
       "  1.0000  1.0000  1.0000  ...   1.0000  1.0000  1.0000\n",
       "  1.0000  1.0000  1.0000  ...   1.0000  1.0000  1.0000\n",
       "           ...             ⋱             ...          \n",
       "  1.0000  1.0000  1.0000  ...   1.0000  1.0000  1.0000\n",
       "  1.0000  1.0000  1.0000  ...   1.0000  1.0000  1.0000\n",
       "  1.0000  1.0000  1.0000  ...   1.0000  1.0000  1.0000\n",
       "[torch.DoubleTensor of size 8x3x128x128]"
      ]
     },
     "execution_count": 87,
     "metadata": {},
     "output_type": "execute_result"
    }
   ],
   "source": [
    "utforms.denormalize_rgb(img.cpu())"
   ]
  },
  {
   "cell_type": "code",
   "execution_count": 88,
   "metadata": {
    "collapsed": false
   },
   "outputs": [
    {
     "data": {
      "text/plain": [
       "<matplotlib.image.AxesImage at 0x7f484d165d10>"
      ]
     },
     "execution_count": 88,
     "metadata": {},
     "output_type": "execute_result"
    },
    {
     "data": {
      "image/png": "[encoded data removed]",
      "text/plain": [
       "<matplotlib.figure.Figure at 0x7f484d1f2690>"
      ]
     },
     "metadata": {},
     "output_type": "display_data"
    }
   ],
   "source": [
    "plt.imshow((tar_img[0]*255).astype('uint8'))"
   ]
  },
  {
   "cell_type": "code",
   "execution_count": 55,
   "metadata": {
    "collapsed": false
   },
   "outputs": [],
   "source": [
    "#somehow the order matter for me on minsky1, import torch stuff first\n",
    "from skimage import color\n",
    "from PIL import Image\n",
    "import numpy as np\n",
    "import matplotlib.pyplot as plt\n",
    "\n",
    "from IPython.display import display\n",
    "\n",
    "\n",
    "\n",
    "%matplotlib inline"
   ]
  },
  {
   "cell_type": "code",
   "execution_count": 58,
   "metadata": {
    "collapsed": false
   },
   "outputs": [
    {
     "data": {
      "text/plain": [
       "array([[[1, 1, 1, ..., 1, 1, 1],\n",
       "        [1, 1, 1, ..., 1, 1, 1],\n",
       "        [1, 1, 1, ..., 1, 1, 1],\n",
       "        ..., \n",
       "        [1, 1, 1, ..., 0, 0, 0],\n",
       "        [1, 1, 1, ..., 0, 0, 0],\n",
       "        [1, 1, 1, ..., 0, 0, 0]],\n",
       "\n",
       "       [[1, 1, 1, ..., 1, 1, 1],\n",
       "        [1, 1, 1, ..., 1, 1, 1],\n",
       "        [1, 1, 1, ..., 1, 1, 1],\n",
       "        ..., \n",
       "        [1, 1, 1, ..., 0, 0, 0],\n",
       "        [1, 1, 1, ..., 0, 0, 0],\n",
       "        [1, 1, 1, ..., 0, 0, 0]],\n",
       "\n",
       "       [[1, 1, 1, ..., 1, 1, 1],\n",
       "        [1, 1, 1, ..., 1, 1, 1],\n",
       "        [1, 1, 1, ..., 1, 1, 1],\n",
       "        ..., \n",
       "        [1, 1, 1, ..., 0, 0, 0],\n",
       "        [1, 1, 1, ..., 0, 0, 0],\n",
       "        [1, 1, 1, ..., 0, 0, 0]]], dtype=uint8)"
      ]
     },
     "execution_count": 58,
     "metadata": {},
     "output_type": "execute_result"
    }
   ],
   "source": [
    "tar_img"
   ]
  },
  {
   "cell_type": "code",
   "execution_count": 57,
   "metadata": {
    "collapsed": false
   },
   "outputs": [
    {
     "data": {
      "text/plain": [
       "<matplotlib.image.AxesImage at 0x7f4825448850>"
      ]
     },
     "execution_count": 57,
     "metadata": {},
     "output_type": "execute_result"
    },
    {
     "data": {
      "image/png": "[encoded data removed]",
      "text/plain": [
       "<matplotlib.figure.Figure at 0x7f4849b00b10>"
      ]
     },
     "metadata": {},
     "output_type": "display_data"
    }
   ],
   "source": [
    "plt.imshow(tar_img[0])"
   ]
  },
  {
   "cell_type": "code",
   "execution_count": 35,
   "metadata": {
    "collapsed": false
   },
   "outputs": [],
   "source": [
    "def vis_image(img,color='lab'):\n",
    "    \n",
    "    if color == 'lab':\n",
    "        ToRGB = transforms.toRGB()\n",
    "        \n",
    "    elif color =='rgb':\n",
    "        ToRGB = transforms.toRGB('RGB')\n",
    "        \n",
    "    img_np = ToRGB(img)[0]\n",
    "   \n",
    "    \n",
    "    return np.transpose(img_np.cpu().numpy(),(1,2,0))"
   ]
  },
  {
   "cell_type": "code",
   "execution_count": 19,
   "metadata": {
    "collapsed": false
   },
   "outputs": [
    {
     "name": "stdout",
     "output_type": "stream",
     "text": [
      "lab\n",
      "torch.Size([8, 3, 128, 128])\n"
     ]
    },
    {
     "ename": "ValueError",
     "evalue": "axes don't match array",
     "output_type": "error",
     "traceback": [
      "\u001b[0;31m---------------------------------------------------------------------------\u001b[0m",
      "\u001b[0;31mValueError\u001b[0m                                Traceback (most recent call last)",
      "\u001b[0;32m<ipython-input-19-9a034791050b>\u001b[0m in \u001b[0;36m<module>\u001b[0;34m()\u001b[0m\n\u001b[0;32m----> 1\u001b[0;31m \u001b[0mvis_image\u001b[0m\u001b[0;34m(\u001b[0m\u001b[0;34m(\u001b[0m\u001b[0mseg\u001b[0m\u001b[0;34m.\u001b[0m\u001b[0mcpu\u001b[0m\u001b[0;34m(\u001b[0m\u001b[0;34m)\u001b[0m\u001b[0;34m)\u001b[0m\u001b[0;34m)\u001b[0m\u001b[0;34m\u001b[0m\u001b[0m\n\u001b[0m",
      "\u001b[0;32m<ipython-input-18-c967964b0bea>\u001b[0m in \u001b[0;36mvis_image\u001b[0;34m(img, color)\u001b[0m\n\u001b[1;32m      7\u001b[0m         \u001b[0mToRGB\u001b[0m \u001b[0;34m=\u001b[0m \u001b[0mtransforms\u001b[0m\u001b[0;34m.\u001b[0m\u001b[0mtoRGB\u001b[0m\u001b[0;34m(\u001b[0m\u001b[0;34m'RGB'\u001b[0m\u001b[0;34m)\u001b[0m\u001b[0;34m\u001b[0m\u001b[0m\n\u001b[1;32m      8\u001b[0m     \u001b[0;32mprint\u001b[0m \u001b[0mnp\u001b[0m\u001b[0;34m.\u001b[0m\u001b[0mshape\u001b[0m\u001b[0;34m(\u001b[0m\u001b[0mimg\u001b[0m\u001b[0;34m)\u001b[0m\u001b[0;34m\u001b[0m\u001b[0m\n\u001b[0;32m----> 9\u001b[0;31m     \u001b[0mimg_np\u001b[0m \u001b[0;34m=\u001b[0m \u001b[0mToRGB\u001b[0m\u001b[0;34m(\u001b[0m\u001b[0mimg\u001b[0m\u001b[0;34m)\u001b[0m\u001b[0;34m[\u001b[0m\u001b[0;36m0\u001b[0m\u001b[0;34m]\u001b[0m\u001b[0;34m\u001b[0m\u001b[0m\n\u001b[0m\u001b[1;32m     10\u001b[0m     \u001b[0;32mprint\u001b[0m \u001b[0mnp\u001b[0m\u001b[0;34m.\u001b[0m\u001b[0mshape\u001b[0m\u001b[0;34m(\u001b[0m\u001b[0mimg_np\u001b[0m\u001b[0;34m)\u001b[0m\u001b[0;34m\u001b[0m\u001b[0m\n\u001b[1;32m     11\u001b[0m \u001b[0;34m\u001b[0m\u001b[0m\n",
      "\u001b[0;32m/home/psangkloy3/texturegan/TextureGAN_pytorch/utils/transforms.py\u001b[0m in \u001b[0;36m__call__\u001b[0;34m(self, images)\u001b[0m\n\u001b[1;32m     55\u001b[0m         \u001b[0;32mif\u001b[0m \u001b[0mself\u001b[0m\u001b[0;34m.\u001b[0m\u001b[0mspace\u001b[0m \u001b[0;34m==\u001b[0m\u001b[0;34m'LAB'\u001b[0m\u001b[0;34m:\u001b[0m\u001b[0;34m\u001b[0m\u001b[0m\n\u001b[1;32m     56\u001b[0m             \u001b[0;31m#npimg = np.transpose(np.array(images), (1, 2, 0))\u001b[0m\u001b[0;34m\u001b[0m\u001b[0;34m\u001b[0m\u001b[0m\n\u001b[0;32m---> 57\u001b[0;31m             \u001b[0mrgb_img\u001b[0m \u001b[0;34m=\u001b[0m \u001b[0;34m[\u001b[0m\u001b[0mcolor\u001b[0m\u001b[0;34m.\u001b[0m\u001b[0mlab2rgb\u001b[0m\u001b[0;34m(\u001b[0m\u001b[0mnp\u001b[0m\u001b[0;34m.\u001b[0m\u001b[0mtranspose\u001b[0m\u001b[0;34m(\u001b[0m\u001b[0mnp\u001b[0m\u001b[0;34m.\u001b[0m\u001b[0marray\u001b[0m\u001b[0;34m(\u001b[0m\u001b[0mimage\u001b[0m\u001b[0;34m)\u001b[0m\u001b[0;34m,\u001b[0m\u001b[0;34m(\u001b[0m\u001b[0;36m1\u001b[0m\u001b[0;34m,\u001b[0m\u001b[0;36m2\u001b[0m\u001b[0;34m,\u001b[0m\u001b[0;36m0\u001b[0m\u001b[0;34m)\u001b[0m\u001b[0;34m)\u001b[0m\u001b[0;34m)\u001b[0m \u001b[0;32mfor\u001b[0m \u001b[0mimage\u001b[0m \u001b[0;32min\u001b[0m \u001b[0mimages\u001b[0m\u001b[0;34m]\u001b[0m\u001b[0;34m\u001b[0m\u001b[0m\n\u001b[0m\u001b[1;32m     58\u001b[0m         \u001b[0;32melif\u001b[0m \u001b[0mself\u001b[0m\u001b[0;34m.\u001b[0m\u001b[0mspace\u001b[0m \u001b[0;34m==\u001b[0m\u001b[0;34m'RGB'\u001b[0m\u001b[0;34m:\u001b[0m\u001b[0;34m\u001b[0m\u001b[0m\n\u001b[1;32m     59\u001b[0m             \u001b[0;31m#print np.shape(images)\u001b[0m\u001b[0;34m\u001b[0m\u001b[0;34m\u001b[0m\u001b[0m\n",
      "\u001b[0;32m/root/anaconda2/lib/python2.7/site-packages/numpy/core/fromnumeric.pyc\u001b[0m in \u001b[0;36mtranspose\u001b[0;34m(a, axes)\u001b[0m\n\u001b[1;32m    555\u001b[0m     \u001b[0;32mexcept\u001b[0m \u001b[0mAttributeError\u001b[0m\u001b[0;34m:\u001b[0m\u001b[0;34m\u001b[0m\u001b[0m\n\u001b[1;32m    556\u001b[0m         \u001b[0;32mreturn\u001b[0m \u001b[0m_wrapit\u001b[0m\u001b[0;34m(\u001b[0m\u001b[0ma\u001b[0m\u001b[0;34m,\u001b[0m \u001b[0;34m'transpose'\u001b[0m\u001b[0;34m,\u001b[0m \u001b[0maxes\u001b[0m\u001b[0;34m)\u001b[0m\u001b[0;34m\u001b[0m\u001b[0m\n\u001b[0;32m--> 557\u001b[0;31m     \u001b[0;32mreturn\u001b[0m \u001b[0mtranspose\u001b[0m\u001b[0;34m(\u001b[0m\u001b[0maxes\u001b[0m\u001b[0;34m)\u001b[0m\u001b[0;34m\u001b[0m\u001b[0m\n\u001b[0m\u001b[1;32m    558\u001b[0m \u001b[0;34m\u001b[0m\u001b[0m\n\u001b[1;32m    559\u001b[0m \u001b[0;34m\u001b[0m\u001b[0m\n",
      "\u001b[0;31mValueError\u001b[0m: axes don't match array"
     ]
    }
   ],
   "source": [
    "vis_image((seg.cpu()))"
   ]
  },
  {
   "cell_type": "code",
   "execution_count": 8,
   "metadata": {
    "collapsed": false
   },
   "outputs": [],
   "source": [
    "import torch\n",
    "import numpy as np\n",
    "from PIL import Image\n",
    "import utils.transforms as transforms\n"
   ]
  },
  {
   "cell_type": "code",
   "execution_count": 77,
   "metadata": {
    "collapsed": true
   },
   "outputs": [],
   "source": [
    "\n",
    "def vis_patch(img,skg,xcenter=64,ycenter=64,size=40,color='lab'):\n",
    "    if color == 'lab':\n",
    "        ToRGB = transforms.toRGB()\n",
    "        \n",
    "    elif color =='rgb':\n",
    "        ToRGB = transforms.toRGB('RGB')\n",
    "        \n",
    "    img_np = ToRGB(img)[0]\n",
    "    skg_np = ToRGB(skg)[0]\n",
    "    print np.shape(skg_np)\n",
    "    \n",
    "    vis_skg = np.copy(skg_np.cpu().numpy())\n",
    "    vis_img = np.copy(img_np.cpu().numpy())\n",
    "    print np.shape(vis_img)\n",
    "    print xcenter, size, ycenter\n",
    "    vis_skg[:,xcenter-size/2:xcenter+size/2,ycenter-size/2:ycenter+size/2] = vis_img[:,xcenter-size/2:xcenter+size/2,ycenter-size/2:ycenter+size/2]\n",
    "    \n",
    "    return np.transpose(vis_img,(1,2,0))\n"
   ]
  },
  {
   "cell_type": "code",
   "execution_count": 76,
   "metadata": {
    "collapsed": false
   },
   "outputs": [
    {
     "data": {
      "text/plain": [
       "25"
      ]
     },
     "execution_count": 76,
     "metadata": {},
     "output_type": "execute_result"
    }
   ],
   "source": [
    "crop_size"
   ]
  },
  {
   "cell_type": "code",
   "execution_count": 78,
   "metadata": {
    "collapsed": false
   },
   "outputs": [
    {
     "name": "stdout",
     "output_type": "stream",
     "text": [
      "torch.Size([3, 128, 128])\n",
      "(3, 128, 128)\n",
      "43 25 101\n"
     ]
    }
   ],
   "source": [
    "test = vis_patch(utforms.denormalize_rgb(img.cpu()),utforms.denormalize_rgb(skg.cpu()),xcenter,ycenter,crop_size,args.color_space)"
   ]
  },
  {
   "cell_type": "code",
   "execution_count": 79,
   "metadata": {
    "collapsed": false
   },
   "outputs": [
    {
     "data": {
      "text/plain": [
       "(128, 128, 3)"
      ]
     },
     "execution_count": 79,
     "metadata": {},
     "output_type": "execute_result"
    }
   ],
   "source": [
    "np.shape(test)"
   ]
  },
  {
   "cell_type": "code",
   "execution_count": 17,
   "metadata": {
    "collapsed": false
   },
   "outputs": [],
   "source": [
    "img_=utforms.normalize_rgb(img)"
   ]
  },
  {
   "cell_type": "code",
   "execution_count": 19,
   "metadata": {
    "collapsed": true
   },
   "outputs": [],
   "source": [
    "normalize = transforms.Normalize(mean=[0.485, 0.456, 0.406],\n",
    "                                     std=[0.229, 0.224, 0.225])"
   ]
  },
  {
   "cell_type": "code",
   "execution_count": 18,
   "metadata": {
    "collapsed": false
   },
   "outputs": [
    {
     "data": {
      "text/plain": [
       "\n",
       "( 0 , 0 ,.,.) = \n",
       "  0.1083 -0.1314  0.2967  ...   1.2728  1.9749  0.4508\n",
       "  0.1426 -0.1314  0.2796  ...   1.3927  1.9749  0.7077\n",
       "  0.5193  1.5297  1.4783  ...   0.4851  0.7762  0.1426\n",
       "           ...             ⋱             ...          \n",
       "  2.2489  2.2489  2.2489  ...   2.2489  2.2489  2.2489\n",
       "  2.2489  2.2489  2.2489  ...   2.2489  2.2489  2.2489\n",
       "  2.2489  2.2489  2.2489  ...   2.2489  2.2489  2.2489\n",
       "\n",
       "( 0 , 1 ,.,.) = \n",
       " -1.1429 -1.0553 -0.0399  ...   0.7654  1.5357 -0.3375\n",
       " -0.8803 -0.8452  0.0476  ...   0.8004  1.5357 -0.1975\n",
       " -0.2850  1.1856  1.3606  ...  -0.1450  0.2402 -0.8452\n",
       "           ...             ⋱             ...          \n",
       "  2.4286  2.4286  2.4286  ...   2.4286  2.4286  2.4286\n",
       "  2.4286  2.4286  2.4286  ...   2.4286  2.4286  2.4286\n",
       "  2.4286  2.4286  2.4286  ...   2.4286  2.4286  2.4286\n",
       "\n",
       "( 0 , 2 ,.,.) = \n",
       " -0.9678 -0.8981 -0.0092  ...   0.8274  1.6117 -0.1835\n",
       " -0.7587 -0.7064  0.1128  ...   0.8448  1.5594 -0.0964\n",
       " -0.1835  1.2980  1.4897  ...  -0.1487  0.1999 -0.7761\n",
       "           ...             ⋱             ...          \n",
       "  2.6400  2.6400  2.6400  ...   2.6400  2.6400  2.6400\n",
       "  2.6400  2.6400  2.6400  ...   2.6400  2.6400  2.6400\n",
       "  2.6400  2.6400  2.6400  ...   2.6400  2.6400  2.6400\n",
       "      ⋮  \n",
       "\n",
       "( 1 , 0 ,.,.) = \n",
       "  2.1633  2.1633  2.1804  ...   2.1462  2.1462  2.1633\n",
       "  2.2318  2.2318  2.2489  ...   2.2318  2.2489  2.2489\n",
       "  2.2489  2.2147  2.1804  ...   2.0434  2.0605  2.0777\n",
       "           ...             ⋱             ...          \n",
       "  2.2489  2.2489  2.2489  ...   2.2489  2.2489  2.2489\n",
       "  2.2489  2.2489  2.2489  ...   2.2489  2.2489  2.2489\n",
       "  2.2489  2.2489  2.2489  ...   2.2489  2.2489  2.2489\n",
       "\n",
       "( 1 , 1 ,.,.) = \n",
       "  2.4111  2.4111  2.4286  ...   2.4111  2.4111  2.4286\n",
       "  2.3410  2.3235  2.2885  ...   2.2360  2.2360  2.2535\n",
       "  1.9734  1.8859  1.7983  ...   1.4132  1.4307  1.4657\n",
       "           ...             ⋱             ...          \n",
       "  2.4286  2.4286  2.4286  ...   2.4286  2.4286  2.4286\n",
       "  2.4286  2.4286  2.4286  ...   2.4286  2.4286  2.4286\n",
       "  2.4286  2.4286  2.4286  ...   2.4286  2.4286  2.4286\n",
       "\n",
       "( 1 , 2 ,.,.) = \n",
       "  2.5529  2.5529  2.5703  ...   2.5703  2.5703  2.5877\n",
       "  2.5180  2.5006  2.4831  ...   2.4657  2.4657  2.4657\n",
       "  2.2566  2.1694  2.0997  ...   1.8208  1.8383  1.8905\n",
       "           ...             ⋱             ...          \n",
       "  2.6400  2.6400  2.6400  ...   2.6400  2.6400  2.6400\n",
       "  2.6400  2.6400  2.6400  ...   2.6400  2.6400  2.6400\n",
       "  2.6400  2.6400  2.6400  ...   2.6400  2.6400  2.6400\n",
       "      ⋮  \n",
       "\n",
       "( 2 , 0 ,.,.) = \n",
       "  2.2489  2.2489  2.2489  ...   2.2489  2.2489  2.2489\n",
       "  2.2489  2.2489  2.2489  ...   2.2489  2.2489  2.2489\n",
       "  2.2489  2.2489  2.2489  ...   2.2489  2.2489  2.2489\n",
       "           ...             ⋱             ...          \n",
       "  2.2318  2.2489  2.2489  ...   2.2489  2.2489  2.2489\n",
       "  2.2489  2.2489  2.2489  ...   2.2489  2.2489  2.2489\n",
       "  2.1975  2.1975  2.2147  ...   2.2489  2.2489  2.2489\n",
       "\n",
       "( 2 , 1 ,.,.) = \n",
       "  2.4286  2.4286  2.4286  ...   2.4286  2.4286  2.4286\n",
       "  2.4286  2.4286  2.4286  ...   2.4286  2.4286  2.4286\n",
       "  2.4286  2.4286  2.4286  ...   2.4286  2.4286  2.4286\n",
       "           ...             ⋱             ...          \n",
       "  2.3585  2.3410  2.3410  ...   2.4286  2.4286  2.4286\n",
       "  2.3761  2.3761  2.3585  ...   2.4286  2.4286  2.4286\n",
       "  2.4286  2.4286  2.4286  ...   2.4286  2.4286  2.4286\n",
       "\n",
       "( 2 , 2 ,.,.) = \n",
       "  2.6400  2.6400  2.6400  ...   2.6400  2.6400  2.6400\n",
       "  2.6400  2.6400  2.6400  ...   2.6400  2.6400  2.6400\n",
       "  2.6400  2.6400  2.6400  ...   2.6400  2.6400  2.6400\n",
       "           ...             ⋱             ...          \n",
       "  2.6226  2.6226  2.6051  ...   2.6400  2.6400  2.6400\n",
       "  2.6400  2.6400  2.6400  ...   2.6400  2.6400  2.6400\n",
       "  2.6400  2.6400  2.6400  ...   2.6400  2.6400  2.6400\n",
       "...     \n",
       "      ⋮  \n",
       "\n",
       "( 5 , 0 ,.,.) = \n",
       "  2.2489  2.2489  2.2489  ...   2.2489  2.2489  2.2489\n",
       "  2.2489  2.2489  2.2489  ...   2.2489  2.2489  2.2489\n",
       "  2.2489  2.2489  2.2489  ...   2.2489  2.2489  2.2489\n",
       "           ...             ⋱             ...          \n",
       "  2.2489  2.2489  2.2318  ...   0.8447  0.9988  1.0502\n",
       "  2.2489  2.2489  2.2489  ...   1.8722  1.8893  1.9235\n",
       "  2.2489  2.2489  2.2489  ...   2.2318  2.2318  2.2318\n",
       "\n",
       "( 5 , 1 ,.,.) = \n",
       "  2.4286  2.4286  2.4286  ...   2.4286  2.4286  2.4286\n",
       "  2.4286  2.4286  2.4286  ...   2.4286  2.4286  2.4286\n",
       "  2.4286  2.4286  2.4286  ...   2.4286  2.4286  2.4286\n",
       "           ...             ⋱             ...          \n",
       "  2.4286  2.4286  2.4111  ...   0.6604  0.8529  0.9405\n",
       "  2.4286  2.4286  2.4286  ...   1.8508  1.9209  1.9559\n",
       "  2.4286  2.4286  2.4286  ...   2.3410  2.3585  2.3585\n",
       "\n",
       "( 5 , 2 ,.,.) = \n",
       "  2.6400  2.6400  2.6400  ...   2.6400  2.6400  2.6400\n",
       "  2.6400  2.6400  2.6400  ...   2.6400  2.6400  2.6400\n",
       "  2.6400  2.6400  2.6400  ...   2.6400  2.6400  2.6400\n",
       "           ...             ⋱             ...          \n",
       "  2.6400  2.6400  2.6226  ...   0.1128  0.3568  0.5136\n",
       "  2.6400  2.6400  2.6400  ...   1.6814  1.8034  1.9254\n",
       "  2.6400  2.6400  2.6400  ...   2.4831  2.5354  2.5703\n",
       "      ⋮  \n",
       "\n",
       "( 6 , 0 ,.,.) = \n",
       "  2.2489  2.2489  2.2489  ...   2.2489  2.2489  2.2489\n",
       "  2.2489  2.2489  2.2489  ...   2.2489  2.2489  2.2489\n",
       "  2.2489  2.2489  2.2489  ...   2.2489  2.2489  2.2489\n",
       "           ...             ⋱             ...          \n",
       "  2.2489  2.2489  2.2489  ...   2.2489  2.2489  2.2489\n",
       "  2.2489  2.2489  2.2489  ...   2.2489  2.2489  2.2489\n",
       "  2.2489  2.2489  2.2489  ...   2.2489  2.2489  2.2489\n",
       "\n",
       "( 6 , 1 ,.,.) = \n",
       "  2.4286  2.4286  2.4286  ...   2.4286  2.4286  2.4286\n",
       "  2.4286  2.4286  2.4286  ...   2.4286  2.4286  2.4286\n",
       "  2.4286  2.4286  2.4286  ...   2.4286  2.4286  2.4286\n",
       "           ...             ⋱             ...          \n",
       "  2.4286  2.4286  2.4286  ...   2.4286  2.4286  2.4286\n",
       "  2.4286  2.4286  2.4286  ...   2.4286  2.4286  2.4286\n",
       "  2.4286  2.4286  2.4286  ...   2.4286  2.4286  2.4286\n",
       "\n",
       "( 6 , 2 ,.,.) = \n",
       "  2.6400  2.6400  2.6400  ...   2.6400  2.6400  2.6400\n",
       "  2.6400  2.6400  2.6400  ...   2.6400  2.6400  2.6400\n",
       "  2.6400  2.6400  2.6400  ...   2.6400  2.6400  2.6400\n",
       "           ...             ⋱             ...          \n",
       "  2.6400  2.6400  2.6400  ...   2.6400  2.6400  2.6400\n",
       "  2.6400  2.6400  2.6400  ...   2.6400  2.6400  2.6400\n",
       "  2.6400  2.6400  2.6400  ...   2.6400  2.6400  2.6400\n",
       "      ⋮  \n",
       "\n",
       "( 7 , 0 ,.,.) = \n",
       "  2.2489  2.2489  2.2489  ...   2.2489  2.2489  2.2489\n",
       "  2.2489  2.2489  2.2489  ...   2.2489  2.2489  2.2489\n",
       "  2.2489  2.2489  2.2489  ...   2.2489  2.2489  2.2489\n",
       "           ...             ⋱             ...          \n",
       "  2.2489  2.2489  2.2489  ...   2.2489  2.2489  2.2489\n",
       "  2.2489  2.2489  2.2489  ...   2.2489  2.2489  2.2489\n",
       "  2.2489  2.2489  2.2489  ...   2.2489  2.2489  2.2489\n",
       "\n",
       "( 7 , 1 ,.,.) = \n",
       "  2.4286  2.4286  2.4286  ...   2.4286  2.4286  2.4286\n",
       "  2.4286  2.4286  2.4286  ...   2.4286  2.4286  2.4286\n",
       "  2.4286  2.4286  2.4286  ...   2.4286  2.4286  2.4286\n",
       "           ...             ⋱             ...          \n",
       "  2.4286  2.4286  2.4286  ...   2.4286  2.4286  2.4286\n",
       "  2.4286  2.4286  2.4286  ...   2.4286  2.4286  2.4286\n",
       "  2.4286  2.4286  2.4286  ...   2.4286  2.4286  2.4286\n",
       "\n",
       "( 7 , 2 ,.,.) = \n",
       "  2.6400  2.6400  2.6400  ...   2.6400  2.6400  2.6400\n",
       "  2.6400  2.6400  2.6400  ...   2.6400  2.6400  2.6400\n",
       "  2.6400  2.6400  2.6400  ...   2.6400  2.6400  2.6400\n",
       "           ...             ⋱             ...          \n",
       "  2.6400  2.6400  2.6400  ...   2.6400  2.6400  2.6400\n",
       "  2.6400  2.6400  2.6400  ...   2.6400  2.6400  2.6400\n",
       "  2.6400  2.6400  2.6400  ...   2.6400  2.6400  2.6400\n",
       "[torch.DoubleTensor of size 8x3x128x128]"
      ]
     },
     "execution_count": 18,
     "metadata": {},
     "output_type": "execute_result"
    }
   ],
   "source": [
    "img_"
   ]
  },
  {
   "cell_type": "code",
   "execution_count": 16,
   "metadata": {
    "collapsed": false
   },
   "outputs": [
    {
     "data": {
      "text/plain": [
       "\n",
       "( 0 , 0 ,.,.) = \n",
       "  0.5098  0.4549  0.5529  ...   0.7765  0.9373  0.5882\n",
       "  0.5176  0.4549  0.5490  ...   0.8039  0.9373  0.6471\n",
       "  0.6039  0.8353  0.8235  ...   0.5961  0.6627  0.5176\n",
       "           ...             ⋱             ...          \n",
       "  1.0000  1.0000  1.0000  ...   1.0000  1.0000  1.0000\n",
       "  1.0000  1.0000  1.0000  ...   1.0000  1.0000  1.0000\n",
       "  1.0000  1.0000  1.0000  ...   1.0000  1.0000  1.0000\n",
       "\n",
       "( 0 , 1 ,.,.) = \n",
       "  0.2000  0.2196  0.4471  ...   0.6275  0.8000  0.3804\n",
       "  0.2588  0.2667  0.4667  ...   0.6353  0.8000  0.4118\n",
       "  0.3922  0.7216  0.7608  ...   0.4235  0.5098  0.2667\n",
       "           ...             ⋱             ...          \n",
       "  1.0000  1.0000  1.0000  ...   1.0000  1.0000  1.0000\n",
       "  1.0000  1.0000  1.0000  ...   1.0000  1.0000  1.0000\n",
       "  1.0000  1.0000  1.0000  ...   1.0000  1.0000  1.0000\n",
       "\n",
       "( 0 , 2 ,.,.) = \n",
       "  0.1882  0.2039  0.4039  ...   0.5922  0.7686  0.3647\n",
       "  0.2353  0.2471  0.4314  ...   0.5961  0.7569  0.3843\n",
       "  0.3647  0.6980  0.7412  ...   0.3725  0.4510  0.2314\n",
       "           ...             ⋱             ...          \n",
       "  1.0000  1.0000  1.0000  ...   1.0000  1.0000  1.0000\n",
       "  1.0000  1.0000  1.0000  ...   1.0000  1.0000  1.0000\n",
       "  1.0000  1.0000  1.0000  ...   1.0000  1.0000  1.0000\n",
       "      ⋮  \n",
       "\n",
       "( 1 , 0 ,.,.) = \n",
       "  0.9804  0.9804  0.9843  ...   0.9765  0.9765  0.9804\n",
       "  0.9961  0.9961  1.0000  ...   0.9961  1.0000  1.0000\n",
       "  1.0000  0.9922  0.9843  ...   0.9529  0.9569  0.9608\n",
       "           ...             ⋱             ...          \n",
       "  1.0000  1.0000  1.0000  ...   1.0000  1.0000  1.0000\n",
       "  1.0000  1.0000  1.0000  ...   1.0000  1.0000  1.0000\n",
       "  1.0000  1.0000  1.0000  ...   1.0000  1.0000  1.0000\n",
       "\n",
       "( 1 , 1 ,.,.) = \n",
       "  0.9961  0.9961  1.0000  ...   0.9961  0.9961  1.0000\n",
       "  0.9804  0.9765  0.9686  ...   0.9569  0.9569  0.9608\n",
       "  0.8980  0.8784  0.8588  ...   0.7725  0.7765  0.7843\n",
       "           ...             ⋱             ...          \n",
       "  1.0000  1.0000  1.0000  ...   1.0000  1.0000  1.0000\n",
       "  1.0000  1.0000  1.0000  ...   1.0000  1.0000  1.0000\n",
       "  1.0000  1.0000  1.0000  ...   1.0000  1.0000  1.0000\n",
       "\n",
       "( 1 , 2 ,.,.) = \n",
       "  0.9804  0.9804  0.9843  ...   0.9843  0.9843  0.9882\n",
       "  0.9725  0.9686  0.9647  ...   0.9608  0.9608  0.9608\n",
       "  0.9137  0.8941  0.8784  ...   0.8157  0.8196  0.8314\n",
       "           ...             ⋱             ...          \n",
       "  1.0000  1.0000  1.0000  ...   1.0000  1.0000  1.0000\n",
       "  1.0000  1.0000  1.0000  ...   1.0000  1.0000  1.0000\n",
       "  1.0000  1.0000  1.0000  ...   1.0000  1.0000  1.0000\n",
       "      ⋮  \n",
       "\n",
       "( 2 , 0 ,.,.) = \n",
       "  1.0000  1.0000  1.0000  ...   1.0000  1.0000  1.0000\n",
       "  1.0000  1.0000  1.0000  ...   1.0000  1.0000  1.0000\n",
       "  1.0000  1.0000  1.0000  ...   1.0000  1.0000  1.0000\n",
       "           ...             ⋱             ...          \n",
       "  0.9961  1.0000  1.0000  ...   1.0000  1.0000  1.0000\n",
       "  1.0000  1.0000  1.0000  ...   1.0000  1.0000  1.0000\n",
       "  0.9882  0.9882  0.9922  ...   1.0000  1.0000  1.0000\n",
       "\n",
       "( 2 , 1 ,.,.) = \n",
       "  1.0000  1.0000  1.0000  ...   1.0000  1.0000  1.0000\n",
       "  1.0000  1.0000  1.0000  ...   1.0000  1.0000  1.0000\n",
       "  1.0000  1.0000  1.0000  ...   1.0000  1.0000  1.0000\n",
       "           ...             ⋱             ...          \n",
       "  0.9843  0.9804  0.9804  ...   1.0000  1.0000  1.0000\n",
       "  0.9882  0.9882  0.9843  ...   1.0000  1.0000  1.0000\n",
       "  1.0000  1.0000  1.0000  ...   1.0000  1.0000  1.0000\n",
       "\n",
       "( 2 , 2 ,.,.) = \n",
       "  1.0000  1.0000  1.0000  ...   1.0000  1.0000  1.0000\n",
       "  1.0000  1.0000  1.0000  ...   1.0000  1.0000  1.0000\n",
       "  1.0000  1.0000  1.0000  ...   1.0000  1.0000  1.0000\n",
       "           ...             ⋱             ...          \n",
       "  0.9961  0.9961  0.9922  ...   1.0000  1.0000  1.0000\n",
       "  1.0000  1.0000  1.0000  ...   1.0000  1.0000  1.0000\n",
       "  1.0000  1.0000  1.0000  ...   1.0000  1.0000  1.0000\n",
       "...     \n",
       "      ⋮  \n",
       "\n",
       "( 5 , 0 ,.,.) = \n",
       "  1.0000  1.0000  1.0000  ...   1.0000  1.0000  1.0000\n",
       "  1.0000  1.0000  1.0000  ...   1.0000  1.0000  1.0000\n",
       "  1.0000  1.0000  1.0000  ...   1.0000  1.0000  1.0000\n",
       "           ...             ⋱             ...          \n",
       "  1.0000  1.0000  0.9961  ...   0.6784  0.7137  0.7255\n",
       "  1.0000  1.0000  1.0000  ...   0.9137  0.9176  0.9255\n",
       "  1.0000  1.0000  1.0000  ...   0.9961  0.9961  0.9961\n",
       "\n",
       "( 5 , 1 ,.,.) = \n",
       "  1.0000  1.0000  1.0000  ...   1.0000  1.0000  1.0000\n",
       "  1.0000  1.0000  1.0000  ...   1.0000  1.0000  1.0000\n",
       "  1.0000  1.0000  1.0000  ...   1.0000  1.0000  1.0000\n",
       "           ...             ⋱             ...          \n",
       "  1.0000  1.0000  0.9961  ...   0.6039  0.6471  0.6667\n",
       "  1.0000  1.0000  1.0000  ...   0.8706  0.8863  0.8941\n",
       "  1.0000  1.0000  1.0000  ...   0.9804  0.9843  0.9843\n",
       "\n",
       "( 5 , 2 ,.,.) = \n",
       "  1.0000  1.0000  1.0000  ...   1.0000  1.0000  1.0000\n",
       "  1.0000  1.0000  1.0000  ...   1.0000  1.0000  1.0000\n",
       "  1.0000  1.0000  1.0000  ...   1.0000  1.0000  1.0000\n",
       "           ...             ⋱             ...          \n",
       "  1.0000  1.0000  0.9961  ...   0.4314  0.4863  0.5216\n",
       "  1.0000  1.0000  1.0000  ...   0.7843  0.8118  0.8392\n",
       "  1.0000  1.0000  1.0000  ...   0.9647  0.9765  0.9843\n",
       "      ⋮  \n",
       "\n",
       "( 6 , 0 ,.,.) = \n",
       "  1.0000  1.0000  1.0000  ...   1.0000  1.0000  1.0000\n",
       "  1.0000  1.0000  1.0000  ...   1.0000  1.0000  1.0000\n",
       "  1.0000  1.0000  1.0000  ...   1.0000  1.0000  1.0000\n",
       "           ...             ⋱             ...          \n",
       "  1.0000  1.0000  1.0000  ...   1.0000  1.0000  1.0000\n",
       "  1.0000  1.0000  1.0000  ...   1.0000  1.0000  1.0000\n",
       "  1.0000  1.0000  1.0000  ...   1.0000  1.0000  1.0000\n",
       "\n",
       "( 6 , 1 ,.,.) = \n",
       "  1.0000  1.0000  1.0000  ...   1.0000  1.0000  1.0000\n",
       "  1.0000  1.0000  1.0000  ...   1.0000  1.0000  1.0000\n",
       "  1.0000  1.0000  1.0000  ...   1.0000  1.0000  1.0000\n",
       "           ...             ⋱             ...          \n",
       "  1.0000  1.0000  1.0000  ...   1.0000  1.0000  1.0000\n",
       "  1.0000  1.0000  1.0000  ...   1.0000  1.0000  1.0000\n",
       "  1.0000  1.0000  1.0000  ...   1.0000  1.0000  1.0000\n",
       "\n",
       "( 6 , 2 ,.,.) = \n",
       "  1.0000  1.0000  1.0000  ...   1.0000  1.0000  1.0000\n",
       "  1.0000  1.0000  1.0000  ...   1.0000  1.0000  1.0000\n",
       "  1.0000  1.0000  1.0000  ...   1.0000  1.0000  1.0000\n",
       "           ...             ⋱             ...          \n",
       "  1.0000  1.0000  1.0000  ...   1.0000  1.0000  1.0000\n",
       "  1.0000  1.0000  1.0000  ...   1.0000  1.0000  1.0000\n",
       "  1.0000  1.0000  1.0000  ...   1.0000  1.0000  1.0000\n",
       "      ⋮  \n",
       "\n",
       "( 7 , 0 ,.,.) = \n",
       "  1.0000  1.0000  1.0000  ...   1.0000  1.0000  1.0000\n",
       "  1.0000  1.0000  1.0000  ...   1.0000  1.0000  1.0000\n",
       "  1.0000  1.0000  1.0000  ...   1.0000  1.0000  1.0000\n",
       "           ...             ⋱             ...          \n",
       "  1.0000  1.0000  1.0000  ...   1.0000  1.0000  1.0000\n",
       "  1.0000  1.0000  1.0000  ...   1.0000  1.0000  1.0000\n",
       "  1.0000  1.0000  1.0000  ...   1.0000  1.0000  1.0000\n",
       "\n",
       "( 7 , 1 ,.,.) = \n",
       "  1.0000  1.0000  1.0000  ...   1.0000  1.0000  1.0000\n",
       "  1.0000  1.0000  1.0000  ...   1.0000  1.0000  1.0000\n",
       "  1.0000  1.0000  1.0000  ...   1.0000  1.0000  1.0000\n",
       "           ...             ⋱             ...          \n",
       "  1.0000  1.0000  1.0000  ...   1.0000  1.0000  1.0000\n",
       "  1.0000  1.0000  1.0000  ...   1.0000  1.0000  1.0000\n",
       "  1.0000  1.0000  1.0000  ...   1.0000  1.0000  1.0000\n",
       "\n",
       "( 7 , 2 ,.,.) = \n",
       "  1.0000  1.0000  1.0000  ...   1.0000  1.0000  1.0000\n",
       "  1.0000  1.0000  1.0000  ...   1.0000  1.0000  1.0000\n",
       "  1.0000  1.0000  1.0000  ...   1.0000  1.0000  1.0000\n",
       "           ...             ⋱             ...          \n",
       "  1.0000  1.0000  1.0000  ...   1.0000  1.0000  1.0000\n",
       "  1.0000  1.0000  1.0000  ...   1.0000  1.0000  1.0000\n",
       "  1.0000  1.0000  1.0000  ...   1.0000  1.0000  1.0000\n",
       "[torch.DoubleTensor of size 8x3x128x128]"
      ]
     },
     "execution_count": 16,
     "metadata": {},
     "output_type": "execute_result"
    }
   ],
   "source": [
    "img"
   ]
  },
  {
   "cell_type": "code",
   "execution_count": 63,
   "metadata": {
    "collapsed": true
   },
   "outputs": [],
   "source": [
    "patchsize = 50\n",
    "x = int( rand_between(patchsize,args.image_size-patchsize))\n",
    "y = int( rand_between(patchsize,args.image_size-patchsize))\n",
    "\n",
    "texture_patch = outputlll[:,:,x:(x+patchsize),y:(y+patchsize)]\n",
    "texture_feat = Extract_content(test)[0]"
   ]
  },
  {
   "cell_type": "code",
   "execution_count": 64,
   "metadata": {
    "collapsed": true
   },
   "outputs": [],
   "source": [
    "texture_patch = outputlll[:,:,x:(x+patchsize),y:(y+patchsize)]"
   ]
  },
  {
   "cell_type": "code",
   "execution_count": 65,
   "metadata": {
    "collapsed": true
   },
   "outputs": [],
   "source": [
    "test2 = Extract_content(test)[0]"
   ]
  },
  {
   "cell_type": "code",
   "execution_count": 66,
   "metadata": {
    "collapsed": false
   },
   "outputs": [
    {
     "data": {
      "text/plain": [
       "torch.Size([8, 256, 12, 12])"
      ]
     },
     "execution_count": 66,
     "metadata": {},
     "output_type": "execute_result"
    }
   ],
   "source": [
    "test2.size()"
   ]
  },
  {
   "cell_type": "code",
   "execution_count": 14,
   "metadata": {
    "collapsed": false
   },
   "outputs": [
    {
     "data": {
      "text/plain": [
       "\n",
       "( 0 , 0 ,.,.) = \n",
       "  100  100  100  ...   100  100  100\n",
       "  100  100  100  ...   100  100  100\n",
       "  100  100  100  ...   100  100  100\n",
       "      ...         ⋱        ...      \n",
       "  100  100  100  ...   100  100  100\n",
       "  100  100  100  ...   100  100  100\n",
       "  100  100  100  ...   100  100  100\n",
       "\n",
       "( 0 , 1 ,.,.) = \n",
       " -128 -128 -128  ...  -128 -128 -128\n",
       " -128 -128 -128  ...  -128 -128 -128\n",
       " -128 -128 -128  ...  -128 -128 -128\n",
       "      ...         ⋱        ...      \n",
       " -128 -128 -128  ...  -128 -128 -128\n",
       " -128 -128 -128  ...  -128 -128 -128\n",
       " -128 -128 -128  ...  -128 -128 -128\n",
       "\n",
       "( 0 , 2 ,.,.) = \n",
       "  128  128  128  ...   128  128  128\n",
       "  128  128  128  ...   128  128  128\n",
       "  128  128  128  ...   128  128  128\n",
       "      ...         ⋱        ...      \n",
       "  128  128  128  ...   128  128  128\n",
       "  128  128  128  ...   128  128  128\n",
       "  128  128  128  ...   128  128  128\n",
       "      ⋮  \n",
       "\n",
       "( 1 , 0 ,.,.) = \n",
       "  100  100  100  ...   100  100  100\n",
       "  100  100  100  ...   100  100  100\n",
       "  100  100  100  ...   100  100  100\n",
       "      ...         ⋱        ...      \n",
       "  100  100  100  ...   100  100  100\n",
       "  100  100  100  ...   100  100  100\n",
       "  100  100  100  ...   100  100  100\n",
       "\n",
       "( 1 , 1 ,.,.) = \n",
       " -128 -128 -128  ...  -128 -128 -128\n",
       " -128 -128 -128  ...  -128 -128 -128\n",
       " -128 -128 -128  ...  -128 -128 -128\n",
       "      ...         ⋱        ...      \n",
       " -128 -128 -128  ...  -128 -128 -128\n",
       " -128 -128 -128  ...  -128 -128 -128\n",
       " -128 -128 -128  ...  -128 -128 -128\n",
       "\n",
       "( 1 , 2 ,.,.) = \n",
       "  128  128  128  ...   128  128  128\n",
       "  128  128  128  ...   128  128  128\n",
       "  128  128  128  ...   128  128  128\n",
       "      ...         ⋱        ...      \n",
       "  128  128  128  ...   128  128  128\n",
       "  128  128  128  ...   128  128  128\n",
       "  128  128  128  ...   128  128  128\n",
       "      ⋮  \n",
       "\n",
       "( 2 , 0 ,.,.) = \n",
       "  100  100  100  ...   100  100  100\n",
       "  100  100  100  ...   100  100  100\n",
       "  100  100  100  ...   100  100  100\n",
       "      ...         ⋱        ...      \n",
       "  100  100  100  ...   100  100  100\n",
       "  100  100  100  ...   100  100  100\n",
       "  100  100  100  ...   100  100  100\n",
       "\n",
       "( 2 , 1 ,.,.) = \n",
       " -128 -128 -128  ...  -128 -128 -128\n",
       " -128 -128 -128  ...  -128 -128 -128\n",
       " -128 -128 -128  ...  -128 -128 -128\n",
       "      ...         ⋱        ...      \n",
       " -128 -128 -128  ...  -128 -128 -128\n",
       " -128 -128 -128  ...  -128 -128 -128\n",
       " -128 -128 -128  ...  -128 -128 -128\n",
       "\n",
       "( 2 , 2 ,.,.) = \n",
       "  128  128  128  ...   128  128  128\n",
       "  128  128  128  ...   128  128  128\n",
       "  128  128  128  ...   128  128  128\n",
       "      ...         ⋱        ...      \n",
       "  128  128  128  ...   128  128  128\n",
       "  128  128  128  ...   128  128  128\n",
       "  128  128  128  ...   128  128  128\n",
       "...     \n",
       "      ⋮  \n",
       "\n",
       "( 5 , 0 ,.,.) = \n",
       "  100    0  100  ...   100  100  100\n",
       "  100    0  100  ...   100  100  100\n",
       "  100    0  100  ...   100  100  100\n",
       "      ...         ⋱        ...      \n",
       "  100  100  100  ...   100  100  100\n",
       "  100  100  100  ...   100  100  100\n",
       "  100  100  100  ...   100  100  100\n",
       "\n",
       "( 5 , 1 ,.,.) = \n",
       " -128 -128 -128  ...  -128 -128 -128\n",
       " -128 -128 -128  ...  -128 -128 -128\n",
       " -128 -128 -128  ...  -128 -128 -128\n",
       "      ...         ⋱        ...      \n",
       " -128 -128 -128  ...  -128 -128 -128\n",
       " -128 -128 -128  ...  -128 -128 -128\n",
       " -128 -128 -128  ...  -128 -128 -128\n",
       "\n",
       "( 5 , 2 ,.,.) = \n",
       "  128  128  128  ...   128  128  128\n",
       "  128  128  128  ...   128  128  128\n",
       "  128  128  128  ...   128  128  128\n",
       "      ...         ⋱        ...      \n",
       "  128  128  128  ...   128  128  128\n",
       "  128  128  128  ...   128  128  128\n",
       "  128  128  128  ...   128  128  128\n",
       "      ⋮  \n",
       "\n",
       "( 6 , 0 ,.,.) = \n",
       "  100  100  100  ...   100  100  100\n",
       "  100  100  100  ...   100  100  100\n",
       "  100  100  100  ...   100  100  100\n",
       "      ...         ⋱        ...      \n",
       "  100  100  100  ...   100  100  100\n",
       "  100  100  100  ...   100  100  100\n",
       "  100  100  100  ...   100  100  100\n",
       "\n",
       "( 6 , 1 ,.,.) = \n",
       " -128 -128 -128  ...  -128 -128 -128\n",
       " -128 -128 -128  ...  -128 -128 -128\n",
       " -128 -128 -128  ...  -128 -128 -128\n",
       "      ...         ⋱        ...      \n",
       " -128 -128 -128  ...  -128 -128 -128\n",
       " -128 -128 -128  ...  -128 -128 -128\n",
       " -128 -128 -128  ...  -128 -128 -128\n",
       "\n",
       "( 6 , 2 ,.,.) = \n",
       "  128  128  128  ...   128  128  128\n",
       "  128  128  128  ...   128  128  128\n",
       "  128  128  128  ...   128  128  128\n",
       "      ...         ⋱        ...      \n",
       "  128  128  128  ...   128  128  128\n",
       "  128  128  128  ...   128  128  128\n",
       "  128  128  128  ...   128  128  128\n",
       "      ⋮  \n",
       "\n",
       "( 7 , 0 ,.,.) = \n",
       "  100  100  100  ...   100  100  100\n",
       "  100  100  100  ...   100  100  100\n",
       "  100  100  100  ...   100  100  100\n",
       "      ...         ⋱        ...      \n",
       "  100  100  100  ...   100  100  100\n",
       "  100  100  100  ...   100  100  100\n",
       "  100  100  100  ...   100  100  100\n",
       "\n",
       "( 7 , 1 ,.,.) = \n",
       " -128 -128 -128  ...  -128 -128 -128\n",
       " -128 -128 -128  ...  -128 -128 -128\n",
       " -128 -128 -128  ...  -128 -128 -128\n",
       "      ...         ⋱        ...      \n",
       " -128 -128 -128  ...  -128 -128 -128\n",
       " -128 -128 -128  ...  -128 -128 -128\n",
       " -128 -128 -128  ...  -128 -128 -128\n",
       "\n",
       "( 7 , 2 ,.,.) = \n",
       "  128  128  128  ...   128  128  128\n",
       "  128  128  128  ...   128  128  128\n",
       "  128  128  128  ...   128  128  128\n",
       "      ...         ⋱        ...      \n",
       "  128  128  128  ...   128  128  128\n",
       "  128  128  128  ...   128  128  128\n",
       "  128  128  128  ...   128  128  128\n",
       "[torch.DoubleTensor of size 8x3x128x128]"
      ]
     },
     "execution_count": 14,
     "metadata": {},
     "output_type": "execute_result"
    }
   ],
   "source": [
    "utforms.denormalize_lab(skg)"
   ]
  },
  {
   "cell_type": "code",
   "execution_count": 129,
   "metadata": {
    "collapsed": false
   },
   "outputs": [],
   "source": [
    "def rand_between(a,b):\n",
    "    return a + torch.round(torch.rand(1)*(b-a))[0]\n",
    "    "
   ]
  },
  {
   "cell_type": "code",
   "execution_count": 131,
   "metadata": {
    "collapsed": false
   },
   "outputs": [
    {
     "name": "stdout",
     "output_type": "stream",
     "text": [
      "yay\n",
      "yay\n",
      "yay\n",
      "yay\n",
      "yay\n",
      "yay\n",
      "yay\n"
     ]
    }
   ],
   "source": [
    "for i in range(100):\n",
    "    test = rand_between(5,10)\n",
    "    if test==10:\n",
    "        print 'yay'"
   ]
  },
  {
   "cell_type": "code",
   "execution_count": 140,
   "metadata": {
    "collapsed": false
   },
   "outputs": [],
   "source": [
    "crop_size = rand_between(args.crop_size_min, args.crop_size_max)\n",
    "xcenter = rand_between(crop_size/2,args.image_size-crop_size/2)\n",
    "ycenter = rand_between(crop_size/2,args.image_size-crop_size/2)"
   ]
  },
  {
   "cell_type": "code",
   "execution_count": 143,
   "metadata": {
    "collapsed": false
   },
   "outputs": [
    {
     "data": {
      "text/plain": [
       "56.0"
      ]
     },
     "execution_count": 143,
     "metadata": {},
     "output_type": "execute_result"
    }
   ],
   "source": [
    "ycenter"
   ]
  },
  {
   "cell_type": "code",
   "execution_count": 71,
   "metadata": {
    "collapsed": false
   },
   "outputs": [
    {
     "data": {
      "text/plain": [
       "Variable containing:\n",
       "( 0 , 0 ,.,.) = \n",
       " -6.1151e-02 -5.0124e-02 -1.0696e-01  ...   1.9763e-03  5.0756e-02  1.7801e-02\n",
       "  2.8003e-02 -7.6340e-02 -4.8401e-02  ...  -6.7431e-02 -1.0512e-02  2.5269e-02\n",
       " -8.4945e-02 -5.7028e-03  2.2068e-02  ...   5.9485e-02  4.8279e-04  1.2685e-02\n",
       "                 ...                   ⋱                   ...                \n",
       "  1.9536e-02  2.8663e-02  7.8787e-02  ...   4.1614e-02  8.6871e-02  8.7179e-02\n",
       "  5.3318e-02  9.9141e-02  7.0438e-02  ...   4.5543e-02  1.0288e-01 -3.3481e-02\n",
       "  4.6934e-02  5.6280e-02  9.8700e-02  ...   6.6231e-02  2.5655e-02 -1.1471e-02\n",
       "\n",
       "( 0 , 1 ,.,.) = \n",
       " -6.1151e-02 -5.0124e-02 -1.0696e-01  ...   1.9763e-03  5.0756e-02  1.7801e-02\n",
       "  2.8003e-02 -7.6340e-02 -4.8401e-02  ...  -6.7431e-02 -1.0512e-02  2.5269e-02\n",
       " -8.4945e-02 -5.7028e-03  2.2068e-02  ...   5.9485e-02  4.8279e-04  1.2685e-02\n",
       "                 ...                   ⋱                   ...                \n",
       "  1.9536e-02  2.8663e-02  7.8787e-02  ...   4.1614e-02  8.6871e-02  8.7179e-02\n",
       "  5.3318e-02  9.9141e-02  7.0438e-02  ...   4.5543e-02  1.0288e-01 -3.3481e-02\n",
       "  4.6934e-02  5.6280e-02  9.8700e-02  ...   6.6231e-02  2.5655e-02 -1.1471e-02\n",
       "\n",
       "( 0 , 2 ,.,.) = \n",
       " -6.1151e-02 -5.0124e-02 -1.0696e-01  ...   1.9763e-03  5.0756e-02  1.7801e-02\n",
       "  2.8003e-02 -7.6340e-02 -4.8401e-02  ...  -6.7431e-02 -1.0512e-02  2.5269e-02\n",
       " -8.4945e-02 -5.7028e-03  2.2068e-02  ...   5.9485e-02  4.8279e-04  1.2685e-02\n",
       "                 ...                   ⋱                   ...                \n",
       "  1.9536e-02  2.8663e-02  7.8787e-02  ...   4.1614e-02  8.6871e-02  8.7179e-02\n",
       "  5.3318e-02  9.9141e-02  7.0438e-02  ...   4.5543e-02  1.0288e-01 -3.3481e-02\n",
       "  4.6934e-02  5.6280e-02  9.8700e-02  ...   6.6231e-02  2.5655e-02 -1.1471e-02\n",
       "      ⋮  \n",
       "\n",
       "( 1 , 0 ,.,.) = \n",
       " -4.5977e-02 -2.5795e-02 -1.1544e-01  ...   1.8565e-02  5.6552e-02  2.0452e-02\n",
       "  3.9078e-02 -8.6601e-02 -5.5827e-02  ...  -5.8608e-02 -1.6015e-02  2.5832e-02\n",
       " -7.9459e-02 -4.0875e-03  1.5139e-02  ...   4.6462e-02 -8.8068e-03 -1.3579e-04\n",
       "                 ...                   ⋱                   ...                \n",
       "  1.7568e-02  4.8252e-02  1.7323e-02  ...   2.5491e-02  1.1968e-01  5.7045e-02\n",
       "  1.3084e-02  9.9697e-02  5.8869e-02  ...   6.0081e-02  8.2226e-02 -2.1201e-02\n",
       "  6.4863e-02  3.4481e-02  1.1757e-01  ...   5.7922e-02  5.0237e-02 -1.1761e-03\n",
       "\n",
       "( 1 , 1 ,.,.) = \n",
       " -4.5977e-02 -2.5795e-02 -1.1544e-01  ...   1.8565e-02  5.6552e-02  2.0452e-02\n",
       "  3.9078e-02 -8.6601e-02 -5.5827e-02  ...  -5.8608e-02 -1.6015e-02  2.5832e-02\n",
       " -7.9459e-02 -4.0875e-03  1.5139e-02  ...   4.6462e-02 -8.8068e-03 -1.3579e-04\n",
       "                 ...                   ⋱                   ...                \n",
       "  1.7568e-02  4.8252e-02  1.7323e-02  ...   2.5491e-02  1.1968e-01  5.7045e-02\n",
       "  1.3084e-02  9.9697e-02  5.8869e-02  ...   6.0081e-02  8.2226e-02 -2.1201e-02\n",
       "  6.4863e-02  3.4481e-02  1.1757e-01  ...   5.7922e-02  5.0237e-02 -1.1761e-03\n",
       "\n",
       "( 1 , 2 ,.,.) = \n",
       " -4.5977e-02 -2.5795e-02 -1.1544e-01  ...   1.8565e-02  5.6552e-02  2.0452e-02\n",
       "  3.9078e-02 -8.6601e-02 -5.5827e-02  ...  -5.8608e-02 -1.6015e-02  2.5832e-02\n",
       " -7.9459e-02 -4.0875e-03  1.5139e-02  ...   4.6462e-02 -8.8068e-03 -1.3579e-04\n",
       "                 ...                   ⋱                   ...                \n",
       "  1.7568e-02  4.8252e-02  1.7323e-02  ...   2.5491e-02  1.1968e-01  5.7045e-02\n",
       "  1.3084e-02  9.9697e-02  5.8869e-02  ...   6.0081e-02  8.2226e-02 -2.1201e-02\n",
       "  6.4863e-02  3.4481e-02  1.1757e-01  ...   5.7922e-02  5.0237e-02 -1.1761e-03\n",
       "      ⋮  \n",
       "\n",
       "( 2 , 0 ,.,.) = \n",
       " -5.8650e-02 -4.2993e-02 -1.0939e-01  ...   3.0315e-03  5.1309e-02  1.7997e-02\n",
       "  2.5812e-02 -7.3471e-02 -5.4407e-02  ...  -6.8008e-02 -1.1002e-02  2.4267e-02\n",
       " -7.2603e-02 -1.1912e-02  2.5973e-02  ...   6.2601e-02  1.7724e-03  1.2978e-02\n",
       "                 ...                   ⋱                   ...                \n",
       " -6.9569e-03  3.7255e-02  5.6458e-02  ...  -2.8364e-02  1.2869e-01  6.2668e-02\n",
       "  4.1370e-02  8.2060e-02  9.9176e-02  ...   1.1184e-01  6.1232e-02 -9.4329e-02\n",
       "  5.4974e-02  4.5917e-02  1.2317e-01  ...   4.9602e-02  2.6127e-02 -1.8856e-03\n",
       "\n",
       "( 2 , 1 ,.,.) = \n",
       " -5.8650e-02 -4.2993e-02 -1.0939e-01  ...   3.0315e-03  5.1309e-02  1.7997e-02\n",
       "  2.5812e-02 -7.3471e-02 -5.4407e-02  ...  -6.8008e-02 -1.1002e-02  2.4267e-02\n",
       " -7.2603e-02 -1.1912e-02  2.5973e-02  ...   6.2601e-02  1.7724e-03  1.2978e-02\n",
       "                 ...                   ⋱                   ...                \n",
       " -6.9569e-03  3.7255e-02  5.6458e-02  ...  -2.8364e-02  1.2869e-01  6.2668e-02\n",
       "  4.1370e-02  8.2060e-02  9.9176e-02  ...   1.1184e-01  6.1232e-02 -9.4329e-02\n",
       "  5.4974e-02  4.5917e-02  1.2317e-01  ...   4.9602e-02  2.6127e-02 -1.8856e-03\n",
       "\n",
       "( 2 , 2 ,.,.) = \n",
       " -5.8650e-02 -4.2993e-02 -1.0939e-01  ...   3.0315e-03  5.1309e-02  1.7997e-02\n",
       "  2.5812e-02 -7.3471e-02 -5.4407e-02  ...  -6.8008e-02 -1.1002e-02  2.4267e-02\n",
       " -7.2603e-02 -1.1912e-02  2.5973e-02  ...   6.2601e-02  1.7724e-03  1.2978e-02\n",
       "                 ...                   ⋱                   ...                \n",
       " -6.9569e-03  3.7255e-02  5.6458e-02  ...  -2.8364e-02  1.2869e-01  6.2668e-02\n",
       "  4.1370e-02  8.2060e-02  9.9176e-02  ...   1.1184e-01  6.1232e-02 -9.4329e-02\n",
       "  5.4974e-02  4.5917e-02  1.2317e-01  ...   4.9602e-02  2.6127e-02 -1.8856e-03\n",
       "...     \n",
       "      ⋮  \n",
       "\n",
       "( 5 , 0 ,.,.) = \n",
       " -5.8143e-02 -4.6356e-02 -1.1183e-01  ...   2.1059e-03  5.1133e-02  1.7210e-02\n",
       "  2.4527e-02 -6.9815e-02 -5.3854e-02  ...  -7.0660e-02 -1.3707e-02  2.3318e-02\n",
       " -8.3861e-02 -1.4551e-02  2.1517e-02  ...   5.8568e-02  6.4008e-03  1.8346e-02\n",
       "                 ...                   ⋱                   ...                \n",
       "  2.0493e-02  1.8413e-02  7.7434e-02  ...   5.7611e-02  8.7819e-02  8.1422e-02\n",
       "  2.7682e-02  9.7839e-02  1.0488e-01  ...   1.0458e-01  5.8430e-02  2.3259e-02\n",
       "  5.6425e-02  5.0648e-02  1.0365e-01  ...   3.8137e-02  1.6934e-02 -1.1995e-02\n",
       "\n",
       "( 5 , 1 ,.,.) = \n",
       " -5.8143e-02 -4.6356e-02 -1.1183e-01  ...   2.1059e-03  5.1133e-02  1.7210e-02\n",
       "  2.4527e-02 -6.9815e-02 -5.3854e-02  ...  -7.0660e-02 -1.3707e-02  2.3318e-02\n",
       " -8.3861e-02 -1.4551e-02  2.1517e-02  ...   5.8568e-02  6.4008e-03  1.8346e-02\n",
       "                 ...                   ⋱                   ...                \n",
       "  2.0493e-02  1.8413e-02  7.7434e-02  ...   5.7611e-02  8.7819e-02  8.1422e-02\n",
       "  2.7682e-02  9.7839e-02  1.0488e-01  ...   1.0458e-01  5.8430e-02  2.3259e-02\n",
       "  5.6425e-02  5.0648e-02  1.0365e-01  ...   3.8137e-02  1.6934e-02 -1.1995e-02\n",
       "\n",
       "( 5 , 2 ,.,.) = \n",
       " -5.8143e-02 -4.6356e-02 -1.1183e-01  ...   2.1059e-03  5.1133e-02  1.7210e-02\n",
       "  2.4527e-02 -6.9815e-02 -5.3854e-02  ...  -7.0660e-02 -1.3707e-02  2.3318e-02\n",
       " -8.3861e-02 -1.4551e-02  2.1517e-02  ...   5.8568e-02  6.4008e-03  1.8346e-02\n",
       "                 ...                   ⋱                   ...                \n",
       "  2.0493e-02  1.8413e-02  7.7434e-02  ...   5.7611e-02  8.7819e-02  8.1422e-02\n",
       "  2.7682e-02  9.7839e-02  1.0488e-01  ...   1.0458e-01  5.8430e-02  2.3259e-02\n",
       "  5.6425e-02  5.0648e-02  1.0365e-01  ...   3.8137e-02  1.6934e-02 -1.1995e-02\n",
       "      ⋮  \n",
       "\n",
       "( 6 , 0 ,.,.) = \n",
       " -5.8593e-02 -4.2849e-02 -1.0951e-01  ...   2.9907e-03  5.0931e-02  1.8160e-02\n",
       "  2.6100e-02 -7.3516e-02 -5.4337e-02  ...  -6.8414e-02 -1.0464e-02  2.5304e-02\n",
       " -7.2563e-02 -1.1797e-02  2.5951e-02  ...   6.2941e-02  6.3197e-04  1.2956e-02\n",
       "                 ...                   ⋱                   ...                \n",
       " -6.7386e-03  1.4237e-02  6.8067e-02  ...   5.8322e-02  1.0084e-01  8.5438e-02\n",
       "  4.1774e-02  1.1449e-01  1.0827e-01  ...   1.0309e-01  6.7233e-02  1.1788e-02\n",
       "  3.9949e-02  4.1547e-02  1.0845e-01  ...   3.8019e-02  8.6587e-03 -1.1331e-02\n",
       "\n",
       "( 6 , 1 ,.,.) = \n",
       " -5.8593e-02 -4.2849e-02 -1.0951e-01  ...   2.9907e-03  5.0931e-02  1.8160e-02\n",
       "  2.6100e-02 -7.3516e-02 -5.4337e-02  ...  -6.8414e-02 -1.0464e-02  2.5304e-02\n",
       " -7.2563e-02 -1.1797e-02  2.5951e-02  ...   6.2941e-02  6.3197e-04  1.2956e-02\n",
       "                 ...                   ⋱                   ...                \n",
       " -6.7386e-03  1.4237e-02  6.8067e-02  ...   5.8322e-02  1.0084e-01  8.5438e-02\n",
       "  4.1774e-02  1.1449e-01  1.0827e-01  ...   1.0309e-01  6.7233e-02  1.1788e-02\n",
       "  3.9949e-02  4.1547e-02  1.0845e-01  ...   3.8019e-02  8.6587e-03 -1.1331e-02\n",
       "\n",
       "( 6 , 2 ,.,.) = \n",
       " -5.8593e-02 -4.2849e-02 -1.0951e-01  ...   2.9907e-03  5.0931e-02  1.8160e-02\n",
       "  2.6100e-02 -7.3516e-02 -5.4337e-02  ...  -6.8414e-02 -1.0464e-02  2.5304e-02\n",
       " -7.2563e-02 -1.1797e-02  2.5951e-02  ...   6.2941e-02  6.3197e-04  1.2956e-02\n",
       "                 ...                   ⋱                   ...                \n",
       " -6.7386e-03  1.4237e-02  6.8067e-02  ...   5.8322e-02  1.0084e-01  8.5438e-02\n",
       "  4.1774e-02  1.1449e-01  1.0827e-01  ...   1.0309e-01  6.7233e-02  1.1788e-02\n",
       "  3.9949e-02  4.1547e-02  1.0845e-01  ...   3.8019e-02  8.6587e-03 -1.1331e-02\n",
       "      ⋮  \n",
       "\n",
       "( 7 , 0 ,.,.) = \n",
       " -8.8558e-02 -4.3119e-02 -1.2252e-01  ...   5.7693e-02  2.9479e-02  3.1198e-02\n",
       "  4.0545e-02 -6.6428e-02 -1.1754e-01  ...  -5.1929e-02 -1.9626e-03 -2.3372e-03\n",
       " -8.9459e-02  4.4674e-02  4.3535e-02  ...   6.8568e-02  5.2268e-03  6.6947e-02\n",
       "                 ...                   ⋱                   ...                \n",
       "  2.4659e-02 -2.8718e-02  4.5182e-03  ...   3.2281e-02  1.6718e-01  1.0156e-01\n",
       "  2.6771e-02  1.5023e-01  1.1011e-01  ...   1.0847e-01  9.6139e-02  2.9220e-02\n",
       "  6.5103e-02  3.8721e-03  1.4313e-01  ...   1.8680e-02  5.3124e-02 -1.3515e-02\n",
       "\n",
       "( 7 , 1 ,.,.) = \n",
       " -8.8558e-02 -4.3119e-02 -1.2252e-01  ...   5.7693e-02  2.9479e-02  3.1198e-02\n",
       "  4.0545e-02 -6.6428e-02 -1.1754e-01  ...  -5.1929e-02 -1.9626e-03 -2.3372e-03\n",
       " -8.9459e-02  4.4674e-02  4.3535e-02  ...   6.8568e-02  5.2268e-03  6.6947e-02\n",
       "                 ...                   ⋱                   ...                \n",
       "  2.4659e-02 -2.8718e-02  4.5182e-03  ...   3.2281e-02  1.6718e-01  1.0156e-01\n",
       "  2.6771e-02  1.5023e-01  1.1011e-01  ...   1.0847e-01  9.6139e-02  2.9220e-02\n",
       "  6.5103e-02  3.8721e-03  1.4313e-01  ...   1.8680e-02  5.3124e-02 -1.3515e-02\n",
       "\n",
       "( 7 , 2 ,.,.) = \n",
       " -8.8558e-02 -4.3119e-02 -1.2252e-01  ...   5.7693e-02  2.9479e-02  3.1198e-02\n",
       "  4.0545e-02 -6.6428e-02 -1.1754e-01  ...  -5.1929e-02 -1.9626e-03 -2.3372e-03\n",
       " -8.9459e-02  4.4674e-02  4.3535e-02  ...   6.8568e-02  5.2268e-03  6.6947e-02\n",
       "                 ...                   ⋱                   ...                \n",
       "  2.4659e-02 -2.8718e-02  4.5182e-03  ...   3.2281e-02  1.6718e-01  1.0156e-01\n",
       "  2.6771e-02  1.5023e-01  1.1011e-01  ...   1.0847e-01  9.6139e-02  2.9220e-02\n",
       "  6.5103e-02  3.8721e-03  1.4313e-01  ...   1.8680e-02  5.3124e-02 -1.3515e-02\n",
       "[torch.cuda.FloatTensor of size 8x3x128x128 (GPU 1)]"
      ]
     },
     "execution_count": 71,
     "metadata": {},
     "output_type": "execute_result"
    }
   ],
   "source": [
    "torch.cat((outputl,outputl,outputl),1)"
   ]
  },
  {
   "cell_type": "code",
   "execution_count": 72,
   "metadata": {
    "collapsed": false
   },
   "outputs": [
    {
     "data": {
      "text/plain": [
       "Variable containing:\n",
       "( 0 , 0 ,.,.) = \n",
       "  1.8850e+00  1.8850e+00  1.8850e+00  ...   1.8850e+00  1.8850e+00  1.8850e+00\n",
       "  1.8850e+00  1.8850e+00  1.8850e+00  ...   1.8850e+00  1.8850e+00  1.8850e+00\n",
       "  1.8850e+00  1.8850e+00  1.8850e+00  ...   1.8850e+00  1.8850e+00  1.8850e+00\n",
       "                 ...                   ⋱                   ...                \n",
       "  1.7038e+00  1.7038e+00  1.7038e+00  ...   1.6402e+00  1.6530e+00  1.6503e+00\n",
       "  1.7626e+00  1.7626e+00  1.7626e+00  ...   1.7119e+00  1.7065e+00  1.7065e+00\n",
       "  1.7978e+00  1.7978e+00  1.7978e+00  ...   1.7725e+00  1.7572e+00  1.7572e+00\n",
       "\n",
       "( 0 , 1 ,.,.) = \n",
       "  2.0565e+00  2.0565e+00  2.0565e+00  ...   2.0565e+00  2.0565e+00  2.0565e+00\n",
       "  2.0565e+00  2.0565e+00  2.0565e+00  ...   2.0565e+00  2.0565e+00  2.0565e+00\n",
       "  2.0565e+00  2.0565e+00  2.0565e+00  ...   2.0565e+00  2.0565e+00  2.0565e+00\n",
       "                 ...                   ⋱                   ...                \n",
       "  1.8713e+00  1.8713e+00  1.8713e+00  ...   1.8063e+00  1.8193e+00  1.8166e+00\n",
       "  1.9314e+00  1.9314e+00  1.9314e+00  ...   1.8796e+00  1.8741e+00  1.8741e+00\n",
       "  1.9674e+00  1.9674e+00  1.9674e+00  ...   1.9416e+00  1.9259e+00  1.9259e+00\n",
       "\n",
       "( 0 , 2 ,.,.) = \n",
       "  2.2696e+00  2.2696e+00  2.2696e+00  ...   2.2696e+00  2.2696e+00  2.2696e+00\n",
       "  2.2696e+00  2.2696e+00  2.2696e+00  ...   2.2696e+00  2.2696e+00  2.2696e+00\n",
       "  2.2696e+00  2.2696e+00  2.2696e+00  ...   2.2696e+00  2.2696e+00  2.2696e+00\n",
       "                 ...                   ⋱                   ...                \n",
       "  2.0852e+00  2.0852e+00  2.0852e+00  ...   2.0205e+00  2.0335e+00  2.0307e+00\n",
       "  2.1450e+00  2.1450e+00  2.1450e+00  ...   2.0935e+00  2.0880e+00  2.0880e+00\n",
       "  2.1809e+00  2.1809e+00  2.1809e+00  ...   2.1552e+00  2.1395e+00  2.1395e+00\n",
       "      ⋮  \n",
       "\n",
       "( 1 , 0 ,.,.) = \n",
       "  1.7157e+00  1.7283e+00  1.7283e+00  ...   1.7157e+00  1.7157e+00  1.7157e+00\n",
       "  1.7157e+00  1.7157e+00  1.7157e+00  ...   1.7157e+00  1.7157e+00  1.7157e+00\n",
       "  1.7157e+00  1.7157e+00  1.7157e+00  ...   1.7157e+00  1.7157e+00  1.7157e+00\n",
       "                 ...                   ⋱                   ...                \n",
       "  1.6139e+00  1.6139e+00  1.6148e+00  ...   1.4471e+00  1.4471e+00  1.4600e+00\n",
       "  1.6267e+00  1.6394e+00  1.6276e+00  ...   1.5115e+00  1.5115e+00  1.5243e+00\n",
       "  1.6139e+00  1.6267e+00  1.6276e+00  ...   1.5115e+00  1.5115e+00  1.5115e+00\n",
       "\n",
       "( 1 , 1 ,.,.) = \n",
       "  1.8834e+00  1.8964e+00  1.8964e+00  ...   1.8834e+00  1.8834e+00  1.8834e+00\n",
       "  1.8834e+00  1.8834e+00  1.8834e+00  ...   1.8834e+00  1.8834e+00  1.8834e+00\n",
       "  1.8834e+00  1.8834e+00  1.8834e+00  ...   1.8834e+00  1.8834e+00  1.8834e+00\n",
       "                 ...                   ⋱                   ...                \n",
       "  1.7794e+00  1.7794e+00  1.7804e+00  ...   1.6089e+00  1.6089e+00  1.6220e+00\n",
       "  1.7924e+00  1.8055e+00  1.7934e+00  ...   1.6747e+00  1.6747e+00  1.6878e+00\n",
       "  1.7794e+00  1.7924e+00  1.7934e+00  ...   1.6747e+00  1.6747e+00  1.6747e+00\n",
       "\n",
       "( 1 , 2 ,.,.) = \n",
       "  2.0973e+00  2.1102e+00  2.1102e+00  ...   2.0973e+00  2.0973e+00  2.0973e+00\n",
       "  2.0973e+00  2.0973e+00  2.0973e+00  ...   2.0973e+00  2.0973e+00  2.0973e+00\n",
       "  2.0973e+00  2.0973e+00  2.0973e+00  ...   2.0973e+00  2.0973e+00  2.0973e+00\n",
       "                 ...                   ⋱                   ...                \n",
       "  1.9937e+00  1.9937e+00  1.9947e+00  ...   1.8239e+00  1.8239e+00  1.8371e+00\n",
       "  2.0067e+00  2.0197e+00  2.0076e+00  ...   1.8894e+00  1.8894e+00  1.9025e+00\n",
       "  1.9937e+00  2.0067e+00  2.0076e+00  ...   1.8894e+00  1.8894e+00  1.8894e+00\n",
       "      ⋮  \n",
       "\n",
       "( 2 , 0 ,.,.) = \n",
       "  1.8850e+00  1.8850e+00  1.8850e+00  ...   1.8850e+00  1.8850e+00  1.8850e+00\n",
       "  1.8850e+00  1.8850e+00  1.8850e+00  ...   1.8850e+00  1.8850e+00  1.8850e+00\n",
       "  1.8850e+00  1.8850e+00  1.8850e+00  ...   1.8850e+00  1.8850e+00  1.8850e+00\n",
       "                 ...                   ⋱                   ...                \n",
       "  1.8850e+00  1.8850e+00  1.8850e+00  ...   1.8850e+00  1.8850e+00  1.8850e+00\n",
       "  1.8850e+00  1.8850e+00  1.8850e+00  ...   1.8850e+00  1.8850e+00  1.8850e+00\n",
       "  1.8850e+00  1.8850e+00  1.8850e+00  ...   1.8850e+00  1.8850e+00  1.8850e+00\n",
       "\n",
       "( 2 , 1 ,.,.) = \n",
       "  2.0565e+00  2.0565e+00  2.0565e+00  ...   2.0565e+00  2.0565e+00  2.0565e+00\n",
       "  2.0565e+00  2.0565e+00  2.0565e+00  ...   2.0565e+00  2.0565e+00  2.0565e+00\n",
       "  2.0565e+00  2.0565e+00  2.0565e+00  ...   2.0565e+00  2.0565e+00  2.0565e+00\n",
       "                 ...                   ⋱                   ...                \n",
       "  2.0565e+00  2.0565e+00  2.0565e+00  ...   2.0565e+00  2.0565e+00  2.0565e+00\n",
       "  2.0565e+00  2.0565e+00  2.0565e+00  ...   2.0565e+00  2.0565e+00  2.0565e+00\n",
       "  2.0565e+00  2.0565e+00  2.0565e+00  ...   2.0565e+00  2.0565e+00  2.0565e+00\n",
       "\n",
       "( 2 , 2 ,.,.) = \n",
       "  2.2696e+00  2.2696e+00  2.2696e+00  ...   2.2696e+00  2.2696e+00  2.2696e+00\n",
       "  2.2696e+00  2.2696e+00  2.2696e+00  ...   2.2696e+00  2.2696e+00  2.2696e+00\n",
       "  2.2696e+00  2.2696e+00  2.2696e+00  ...   2.2696e+00  2.2696e+00  2.2696e+00\n",
       "                 ...                   ⋱                   ...                \n",
       "  2.2696e+00  2.2696e+00  2.2696e+00  ...   2.2696e+00  2.2696e+00  2.2696e+00\n",
       "  2.2696e+00  2.2696e+00  2.2696e+00  ...   2.2696e+00  2.2696e+00  2.2696e+00\n",
       "  2.2696e+00  2.2696e+00  2.2696e+00  ...   2.2696e+00  2.2696e+00  2.2696e+00\n",
       "...     \n",
       "      ⋮  \n",
       "\n",
       "( 5 , 0 ,.,.) = \n",
       "  1.8850e+00  1.8850e+00  1.8850e+00  ...   1.8850e+00  1.8850e+00  1.8850e+00\n",
       "  1.8850e+00  1.8850e+00  1.8850e+00  ...   1.8850e+00  1.8850e+00  1.8850e+00\n",
       "  1.8850e+00  1.8850e+00  1.8850e+00  ...   1.8850e+00  1.8850e+00  1.8850e+00\n",
       "                 ...                   ⋱                   ...                \n",
       "  1.8850e+00  1.8850e+00  1.8850e+00  ...   1.8850e+00  1.8850e+00  1.8850e+00\n",
       "  1.8850e+00  1.8850e+00  1.8850e+00  ...   1.8850e+00  1.8850e+00  1.8850e+00\n",
       "  1.8850e+00  1.8850e+00  1.8850e+00  ...   1.8850e+00  1.8850e+00  1.8850e+00\n",
       "\n",
       "( 5 , 1 ,.,.) = \n",
       "  2.0565e+00  2.0565e+00  2.0565e+00  ...   2.0565e+00  2.0565e+00  2.0565e+00\n",
       "  2.0565e+00  2.0565e+00  2.0565e+00  ...   2.0565e+00  2.0565e+00  2.0565e+00\n",
       "  2.0565e+00  2.0565e+00  2.0565e+00  ...   2.0565e+00  2.0565e+00  2.0565e+00\n",
       "                 ...                   ⋱                   ...                \n",
       "  2.0565e+00  2.0565e+00  2.0565e+00  ...   2.0565e+00  2.0565e+00  2.0565e+00\n",
       "  2.0565e+00  2.0565e+00  2.0565e+00  ...   2.0565e+00  2.0565e+00  2.0565e+00\n",
       "  2.0565e+00  2.0565e+00  2.0565e+00  ...   2.0565e+00  2.0565e+00  2.0565e+00\n",
       "\n",
       "( 5 , 2 ,.,.) = \n",
       "  2.2696e+00  2.2696e+00  2.2696e+00  ...   2.2696e+00  2.2696e+00  2.2696e+00\n",
       "  2.2696e+00  2.2696e+00  2.2696e+00  ...   2.2696e+00  2.2696e+00  2.2696e+00\n",
       "  2.2696e+00  2.2696e+00  2.2696e+00  ...   2.2696e+00  2.2696e+00  2.2696e+00\n",
       "                 ...                   ⋱                   ...                \n",
       "  2.2696e+00  2.2696e+00  2.2696e+00  ...   2.2696e+00  2.2696e+00  2.2696e+00\n",
       "  2.2696e+00  2.2696e+00  2.2696e+00  ...   2.2696e+00  2.2696e+00  2.2696e+00\n",
       "  2.2696e+00  2.2696e+00  2.2696e+00  ...   2.2696e+00  2.2696e+00  2.2696e+00\n",
       "      ⋮  \n",
       "\n",
       "( 6 , 0 ,.,.) = \n",
       "  1.8850e+00  1.8850e+00  1.8850e+00  ...   1.8850e+00  1.8850e+00  1.8850e+00\n",
       "  1.8850e+00  1.8850e+00  1.8850e+00  ...   1.8850e+00  1.8850e+00  1.8850e+00\n",
       "  1.8850e+00  1.8850e+00  1.8850e+00  ...   1.8850e+00  1.8850e+00  1.8850e+00\n",
       "                 ...                   ⋱                   ...                \n",
       "  1.8850e+00  1.8850e+00  1.8850e+00  ...   1.8850e+00  1.8850e+00  1.8850e+00\n",
       "  1.8850e+00  1.8850e+00  1.8850e+00  ...   1.8850e+00  1.8850e+00  1.8850e+00\n",
       "  1.8850e+00  1.8850e+00  1.8850e+00  ...   1.8850e+00  1.8850e+00  1.8850e+00\n",
       "\n",
       "( 6 , 1 ,.,.) = \n",
       "  2.0565e+00  2.0565e+00  2.0565e+00  ...   2.0565e+00  2.0565e+00  2.0565e+00\n",
       "  2.0565e+00  2.0565e+00  2.0565e+00  ...   2.0565e+00  2.0565e+00  2.0565e+00\n",
       "  2.0565e+00  2.0565e+00  2.0565e+00  ...   2.0565e+00  2.0565e+00  2.0565e+00\n",
       "                 ...                   ⋱                   ...                \n",
       "  2.0565e+00  2.0565e+00  2.0565e+00  ...   2.0565e+00  2.0565e+00  2.0565e+00\n",
       "  2.0565e+00  2.0565e+00  2.0565e+00  ...   2.0565e+00  2.0565e+00  2.0565e+00\n",
       "  2.0565e+00  2.0565e+00  2.0565e+00  ...   2.0565e+00  2.0565e+00  2.0565e+00\n",
       "\n",
       "( 6 , 2 ,.,.) = \n",
       "  2.2696e+00  2.2696e+00  2.2696e+00  ...   2.2696e+00  2.2696e+00  2.2696e+00\n",
       "  2.2696e+00  2.2696e+00  2.2696e+00  ...   2.2696e+00  2.2696e+00  2.2696e+00\n",
       "  2.2696e+00  2.2696e+00  2.2696e+00  ...   2.2696e+00  2.2696e+00  2.2696e+00\n",
       "                 ...                   ⋱                   ...                \n",
       "  2.2696e+00  2.2696e+00  2.2696e+00  ...   2.2696e+00  2.2696e+00  2.2696e+00\n",
       "  2.2696e+00  2.2696e+00  2.2696e+00  ...   2.2696e+00  2.2696e+00  2.2696e+00\n",
       "  2.2696e+00  2.2696e+00  2.2696e+00  ...   2.2696e+00  2.2696e+00  2.2696e+00\n",
       "      ⋮  \n",
       "\n",
       "( 7 , 0 ,.,.) = \n",
       "  1.8850e+00  1.8850e+00  1.8850e+00  ...   1.8850e+00  1.8850e+00  1.8850e+00\n",
       "  1.8850e+00  1.8850e+00  1.8850e+00  ...   1.8850e+00  1.8850e+00  1.8850e+00\n",
       "  1.8850e+00  1.8850e+00  1.8850e+00  ...   1.8850e+00  1.8850e+00  1.8850e+00\n",
       "                 ...                   ⋱                   ...                \n",
       " -5.7793e-01 -4.0468e-01 -4.1439e-01  ...   3.9375e-01 -9.3570e-02 -3.7757e-01\n",
       " -1.1503e+00 -1.0964e+00 -1.0286e+00  ...  -1.4169e+00 -1.1503e+00 -8.4899e-01\n",
       " -1.0480e+00 -1.0467e+00 -1.0311e+00  ...  -1.1676e+00 -7.0408e-01  2.1021e-01\n",
       "\n",
       "( 7 , 1 ,.,.) = \n",
       "  2.0565e+00  2.0565e+00  2.0565e+00  ...   2.0565e+00  2.0565e+00  2.0565e+00\n",
       "  2.0565e+00  2.0565e+00  2.0565e+00  ...   2.0565e+00  2.0565e+00  2.0565e+00\n",
       "  2.0565e+00  2.0565e+00  2.0565e+00  ...   2.0565e+00  2.0565e+00  2.0565e+00\n",
       "                 ...                   ⋱                   ...                \n",
       " -4.6136e-01 -2.8425e-01 -2.9417e-01  ...   5.3201e-01  3.3805e-02 -2.5654e-01\n",
       " -1.0465e+00 -9.9137e-01 -9.2211e-01  ...  -1.3191e+00 -1.0465e+00 -7.3848e-01\n",
       " -9.4188e-01 -9.4062e-01 -9.2465e-01  ...  -1.0642e+00 -5.9033e-01  3.4437e-01\n",
       "\n",
       "( 7 , 2 ,.,.) = \n",
       "  2.2696e+00  2.2696e+00  2.2696e+00  ...   2.2696e+00  2.2696e+00  2.2696e+00\n",
       "  2.2696e+00  2.2696e+00  2.2696e+00  ...   2.2696e+00  2.2696e+00  2.2696e+00\n",
       "  2.2696e+00  2.2696e+00  2.2696e+00  ...   2.2696e+00  2.2696e+00  2.2696e+00\n",
       "                 ...                   ⋱                   ...                \n",
       " -2.3709e-01 -6.0767e-02 -7.0643e-02  ...   7.5187e-01  2.5588e-01 -3.3176e-02\n",
       " -8.1966e-01 -7.6474e-01 -6.9579e-01  ...  -1.0910e+00 -8.1966e-01 -5.1298e-01\n",
       " -7.1547e-01 -7.1422e-01 -6.9831e-01  ...  -8.3724e-01 -3.6548e-01  5.6506e-01\n",
       "[torch.cuda.FloatTensor of size 8x3x128x128 (GPU 1)]"
      ]
     },
     "execution_count": 72,
     "metadata": {},
     "output_type": "execute_result"
    }
   ],
   "source": [
    "targetlll"
   ]
  },
  {
   "cell_type": "code",
   "execution_count": 65,
   "metadata": {
    "collapsed": false,
    "scrolled": true
   },
   "outputs": [
    {
     "data": {
      "text/plain": [
       "\n",
       "( 0 ,.,.) = \n",
       "  1.8850e+00  1.8850e+00  1.8850e+00  ...   1.8850e+00  1.8850e+00  1.8850e+00\n",
       "  1.8850e+00  1.8850e+00  1.8850e+00  ...   1.8850e+00  1.8850e+00  1.8850e+00\n",
       "  1.8850e+00  1.8850e+00  1.8850e+00  ...   1.8850e+00  1.8850e+00  1.8850e+00\n",
       "                 ...                   ⋱                   ...                \n",
       "  1.7038e+00  1.7038e+00  1.7038e+00  ...   1.6402e+00  1.6530e+00  1.6503e+00\n",
       "  1.7626e+00  1.7626e+00  1.7626e+00  ...   1.7119e+00  1.7065e+00  1.7065e+00\n",
       "  1.7978e+00  1.7978e+00  1.7978e+00  ...   1.7725e+00  1.7572e+00  1.7572e+00\n",
       "\n",
       "( 1 ,.,.) = \n",
       "  2.0565e+00  2.0565e+00  2.0565e+00  ...   2.0565e+00  2.0565e+00  2.0565e+00\n",
       "  2.0565e+00  2.0565e+00  2.0565e+00  ...   2.0565e+00  2.0565e+00  2.0565e+00\n",
       "  2.0565e+00  2.0565e+00  2.0565e+00  ...   2.0565e+00  2.0565e+00  2.0565e+00\n",
       "                 ...                   ⋱                   ...                \n",
       "  1.8713e+00  1.8713e+00  1.8713e+00  ...   1.8063e+00  1.8193e+00  1.8166e+00\n",
       "  1.9314e+00  1.9314e+00  1.9314e+00  ...   1.8796e+00  1.8741e+00  1.8741e+00\n",
       "  1.9674e+00  1.9674e+00  1.9674e+00  ...   1.9416e+00  1.9259e+00  1.9259e+00\n",
       "\n",
       "( 2 ,.,.) = \n",
       "  2.2696e+00  2.2696e+00  2.2696e+00  ...   2.2696e+00  2.2696e+00  2.2696e+00\n",
       "  2.2696e+00  2.2696e+00  2.2696e+00  ...   2.2696e+00  2.2696e+00  2.2696e+00\n",
       "  2.2696e+00  2.2696e+00  2.2696e+00  ...   2.2696e+00  2.2696e+00  2.2696e+00\n",
       "                 ...                   ⋱                   ...                \n",
       "  2.0852e+00  2.0852e+00  2.0852e+00  ...   2.0205e+00  2.0335e+00  2.0307e+00\n",
       "  2.1450e+00  2.1450e+00  2.1450e+00  ...   2.0935e+00  2.0880e+00  2.0880e+00\n",
       "  2.1809e+00  2.1809e+00  2.1809e+00  ...   2.1552e+00  2.1395e+00  2.1395e+00\n",
       "[torch.FloatTensor of size 3x128x128]"
      ]
     },
     "execution_count": 65,
     "metadata": {},
     "output_type": "execute_result"
    }
   ],
   "source": [
    "targetlll[0].data.cpu()"
   ]
  },
  {
   "cell_type": "code",
   "execution_count": null,
   "metadata": {
    "collapsed": true
   },
   "outputs": [],
   "source": []
  },
  {
   "cell_type": "code",
   "execution_count": 67,
   "metadata": {
    "collapsed": false
   },
   "outputs": [
    {
     "data": {
      "image/png": "[encoded data removed]",
      "text/plain": [
       "<PIL.Image.Image image mode=RGB size=128x128 at 0x7FC57FEB1CD0>"
      ]
     },
     "execution_count": 67,
     "metadata": {},
     "output_type": "execute_result"
    }
   ],
   "source": [
    "import torchvision.transforms\n",
    "test = targetlll[0].data.cpu()\n",
    "to_pil = torchvision.transforms.ToPILImage()\n",
    "img_ = to_pil(test)\n",
    "img_"
   ]
  },
  {
   "cell_type": "code",
   "execution_count": 29,
   "metadata": {
    "collapsed": false
   },
   "outputs": [
    {
     "data": {
      "text/plain": [
       "\n",
       "( 0 , 0 ,.,.) = \n",
       "  8.3333e-01  8.3333e-01  8.3333e-01  ...   8.3333e-01  8.3333e-01  8.3333e-01\n",
       "  8.3333e-01  8.3333e-01  8.3333e-01  ...   8.3333e-01  8.3333e-01  8.3333e-01\n",
       "  8.3333e-01  8.3333e-01  8.3333e-01  ...   8.3333e-01  8.3333e-01  8.3333e-01\n",
       "                 ...                   ⋱                   ...                \n",
       "  8.3333e-01  8.3333e-01  8.3333e-01  ...   8.3333e-01  8.3333e-01  8.3333e-01\n",
       "  8.3333e-01  8.3333e-01  8.3333e-01  ...   8.3333e-01  8.3333e-01  8.3333e-01\n",
       "  8.3333e-01  8.3333e-01  8.3333e-01  ...   8.3333e-01  8.3333e-01  8.3333e-01\n",
       "\n",
       "( 0 , 1 ,.,.) = \n",
       " -1.5343e-05 -1.5343e-05 -1.5343e-05  ...  -1.5343e-05 -1.5343e-05 -1.5343e-05\n",
       " -1.5343e-05 -1.5343e-05 -1.5343e-05  ...  -1.5343e-05 -1.5343e-05 -1.5343e-05\n",
       " -1.5343e-05 -1.5343e-05 -1.5343e-05  ...  -1.5343e-05 -1.5343e-05 -1.5343e-05\n",
       "                 ...                   ⋱                   ...                \n",
       " -1.5343e-05 -1.5343e-05 -1.5343e-05  ...  -1.5343e-05 -1.5343e-05 -1.5343e-05\n",
       " -1.5343e-05 -1.5343e-05 -1.5343e-05  ...  -1.5343e-05 -1.5343e-05 -1.5343e-05\n",
       " -1.5343e-05 -1.5343e-05 -1.5343e-05  ...  -1.5343e-05 -1.5343e-05 -1.5343e-05\n",
       "\n",
       "( 0 , 2 ,.,.) = \n",
       "  2.9084e-05  2.9084e-05  2.9084e-05  ...   2.9084e-05  2.9084e-05  2.9084e-05\n",
       "  2.9084e-05  2.9084e-05  2.9084e-05  ...   2.9084e-05  2.9084e-05  2.9084e-05\n",
       "  2.9084e-05  2.9084e-05  2.9084e-05  ...   2.9084e-05  2.9084e-05  2.9084e-05\n",
       "                 ...                   ⋱                   ...                \n",
       "  2.9084e-05  2.9084e-05  2.9084e-05  ...   2.9084e-05  2.9084e-05  2.9084e-05\n",
       "  2.9084e-05  2.9084e-05  2.9084e-05  ...   2.9084e-05  2.9084e-05  2.9084e-05\n",
       "  2.9084e-05  2.9084e-05  2.9084e-05  ...   2.9084e-05  2.9084e-05  2.9084e-05\n",
       "      ⋮  \n",
       "\n",
       "( 1 , 0 ,.,.) = \n",
       "  8.3333e-01  8.3333e-01  8.3333e-01  ...   8.3333e-01  8.3333e-01  8.3333e-01\n",
       "  8.3333e-01  8.3333e-01  8.3333e-01  ...   8.3333e-01  8.3333e-01  8.3333e-01\n",
       "  8.3333e-01  8.3333e-01  8.3333e-01  ...   8.3333e-01  8.3333e-01  8.3333e-01\n",
       "                 ...                   ⋱                   ...                \n",
       " -3.3756e-01 -3.2973e-01 -2.9434e-01  ...   8.3333e-01  8.3333e-01  8.3333e-01\n",
       " -3.8741e-01 -3.1714e-01 -3.5078e-01  ...   8.3333e-01  8.3333e-01  8.3333e-01\n",
       " -2.8193e-01 -3.4395e-01 -3.8508e-01  ...   8.3333e-01  8.3333e-01  8.3333e-01\n",
       "\n",
       "( 1 , 1 ,.,.) = \n",
       " -1.5343e-05 -1.5343e-05 -1.5343e-05  ...  -1.5343e-05 -1.5343e-05 -1.5343e-05\n",
       " -1.5343e-05 -1.5343e-05 -1.5343e-05  ...  -1.5343e-05 -1.5343e-05 -1.5343e-05\n",
       " -1.5343e-05 -1.5343e-05 -1.5343e-05  ...  -1.5343e-05 -1.5343e-05 -1.5343e-05\n",
       "                 ...                   ⋱                   ...                \n",
       " -9.6569e-02 -9.6165e-02 -9.6844e-02  ...  -1.5343e-05 -1.5343e-05 -1.5343e-05\n",
       " -9.5723e-02 -9.8931e-02 -9.6335e-02  ...  -1.5343e-05 -1.5343e-05 -1.5343e-05\n",
       " -9.6495e-02 -9.5008e-02 -9.2420e-02  ...  -1.5343e-05 -1.5343e-05 -1.5343e-05\n",
       "\n",
       "( 1 , 2 ,.,.) = \n",
       "  2.9084e-05  2.9084e-05  2.9084e-05  ...   2.9084e-05  2.9084e-05  2.9084e-05\n",
       "  2.9084e-05  2.9084e-05  2.9084e-05  ...   2.9084e-05  2.9084e-05  2.9084e-05\n",
       "  2.9084e-05  2.9084e-05  2.9084e-05  ...   2.9084e-05  2.9084e-05  2.9084e-05\n",
       "                 ...                   ⋱                   ...                \n",
       " -3.3816e-02 -2.5327e-02 -1.7417e-02  ...   2.9084e-05  2.9084e-05  2.9084e-05\n",
       " -3.7685e-02 -3.0333e-02 -2.1007e-02  ...   2.9084e-05  2.9084e-05  2.9084e-05\n",
       " -4.2285e-02 -3.3377e-02 -2.3970e-02  ...   2.9084e-05  2.9084e-05  2.9084e-05\n",
       "      ⋮  \n",
       "\n",
       "( 2 , 0 ,.,.) = \n",
       "  8.3333e-01  8.3333e-01  8.3333e-01  ...   8.3333e-01  8.3333e-01  8.3333e-01\n",
       "  8.3333e-01  8.3333e-01  8.3333e-01  ...   8.3333e-01  8.3333e-01  8.3333e-01\n",
       "  8.3333e-01  8.3333e-01  8.3333e-01  ...   8.3333e-01  8.3333e-01  8.3333e-01\n",
       "                 ...                   ⋱                   ...                \n",
       "  8.3333e-01  8.3333e-01  8.3333e-01  ...   8.3333e-01  8.3333e-01  8.3333e-01\n",
       "  8.3333e-01  8.3333e-01  8.3333e-01  ...   8.3333e-01  8.3333e-01  8.3333e-01\n",
       "  8.3333e-01  8.3333e-01  8.3333e-01  ...   8.3333e-01  8.3333e-01  8.3333e-01\n",
       "\n",
       "( 2 , 1 ,.,.) = \n",
       " -1.5343e-05 -1.5343e-05 -1.5343e-05  ...  -1.5343e-05 -1.5343e-05 -1.5343e-05\n",
       " -1.5343e-05 -1.5343e-05 -1.5343e-05  ...  -1.5343e-05 -1.5343e-05 -1.5343e-05\n",
       " -1.5343e-05 -1.5343e-05 -1.5343e-05  ...  -1.5343e-05 -1.5343e-05 -1.5343e-05\n",
       "                 ...                   ⋱                   ...                \n",
       " -1.5343e-05 -1.5343e-05 -1.5343e-05  ...  -1.5343e-05 -1.5343e-05 -1.5343e-05\n",
       " -1.5343e-05 -1.5343e-05 -1.5343e-05  ...  -1.5343e-05 -1.5343e-05 -1.5343e-05\n",
       " -1.5343e-05 -1.5343e-05 -1.5343e-05  ...  -1.5343e-05 -1.5343e-05 -1.5343e-05\n",
       "\n",
       "( 2 , 2 ,.,.) = \n",
       "  2.9084e-05  2.9084e-05  2.9084e-05  ...   2.9084e-05  2.9084e-05  2.9084e-05\n",
       "  2.9084e-05  2.9084e-05  2.9084e-05  ...   2.9084e-05  2.9084e-05  2.9084e-05\n",
       "  2.9084e-05  2.9084e-05  2.9084e-05  ...   2.9084e-05  2.9084e-05  2.9084e-05\n",
       "                 ...                   ⋱                   ...                \n",
       "  2.9084e-05  2.9084e-05  2.9084e-05  ...   2.9084e-05  2.9084e-05  2.9084e-05\n",
       "  2.9084e-05  2.9084e-05  2.9084e-05  ...   2.9084e-05  2.9084e-05  2.9084e-05\n",
       "  2.9084e-05  2.9084e-05  2.9084e-05  ...   2.9084e-05  2.9084e-05  2.9084e-05\n",
       "...     \n",
       "      ⋮  \n",
       "\n",
       "( 5 , 0 ,.,.) = \n",
       "  8.3333e-01  8.3333e-01  8.3333e-01  ...   8.3333e-01  8.3333e-01  8.3333e-01\n",
       "  8.3333e-01  8.3333e-01  8.3333e-01  ...   8.3333e-01  8.3333e-01  8.3333e-01\n",
       "  8.3333e-01  8.3333e-01  8.3333e-01  ...   8.3333e-01  8.3333e-01  8.3333e-01\n",
       "                 ...                   ⋱                   ...                \n",
       "  7.9510e-01  7.9510e-01  7.9510e-01  ...   8.1526e-01  8.1526e-01  8.1939e-01\n",
       "  8.2969e-01  8.2969e-01  8.2969e-01  ...   8.2470e-01  8.2470e-01  8.2678e-01\n",
       "  8.3211e-01  8.3211e-01  8.3211e-01  ...   8.2881e-01  8.2881e-01  8.2800e-01\n",
       "\n",
       "( 5 , 1 ,.,.) = \n",
       " -1.5343e-05 -1.5343e-05 -1.5343e-05  ...  -1.5343e-05 -1.5343e-05 -1.5343e-05\n",
       " -1.5343e-05 -1.5343e-05 -1.5343e-05  ...  -1.5343e-05 -1.5343e-05 -1.5343e-05\n",
       " -1.5343e-05 -1.5343e-05 -1.5343e-05  ...  -1.5343e-05 -1.5343e-05 -1.5343e-05\n",
       "                 ...                   ⋱                   ...                \n",
       " -6.1988e-03 -6.1988e-03 -6.1988e-03  ...   9.4591e-03  9.4591e-03 -4.1283e-03\n",
       " -6.1715e-03 -6.1715e-03 -6.1715e-03  ...   5.1986e-03  5.1986e-03 -9.7181e-04\n",
       " -2.0702e-03 -2.0702e-03 -2.0702e-03  ...   2.0439e-03  2.0439e-03  1.0809e-03\n",
       "\n",
       "( 5 , 2 ,.,.) = \n",
       "  2.9084e-05  2.9084e-05  2.9084e-05  ...   2.9084e-05  2.9084e-05  2.9084e-05\n",
       "  2.9084e-05  2.9084e-05  2.9084e-05  ...   2.9084e-05  2.9084e-05  2.9084e-05\n",
       "  2.9084e-05  2.9084e-05  2.9084e-05  ...   2.9084e-05  2.9084e-05  2.9084e-05\n",
       "                 ...                   ⋱                   ...                \n",
       " -2.1419e-03 -2.1419e-03 -2.1419e-03  ...  -6.7271e-03 -6.7271e-03 -1.4167e-03\n",
       " -2.1319e-03 -2.1319e-03 -2.1319e-03  ...  -1.4939e-03 -1.4939e-03 -3.6721e-03\n",
       " -6.9404e-04 -6.9404e-04 -6.9404e-04  ...   7.5545e-04  7.5545e-04 -2.9484e-03\n",
       "      ⋮  \n",
       "\n",
       "( 6 , 0 ,.,.) = \n",
       "  8.3333e-01  8.3333e-01  8.3333e-01  ...   8.3333e-01  8.3333e-01  8.3333e-01\n",
       "  8.3333e-01  8.3333e-01  8.3333e-01  ...   8.3333e-01  8.3333e-01  8.3333e-01\n",
       "  8.3333e-01  8.3333e-01  8.3333e-01  ...   8.3333e-01  8.3333e-01  8.3333e-01\n",
       "                 ...                   ⋱                   ...                \n",
       "  8.3333e-01  8.3333e-01  8.3333e-01  ...   8.3333e-01  8.3333e-01  8.3333e-01\n",
       "  8.3333e-01  8.3333e-01  8.3333e-01  ...   8.3333e-01  8.3333e-01  8.3333e-01\n",
       "  8.3333e-01  8.3333e-01  8.3333e-01  ...   8.3333e-01  8.3333e-01  8.3333e-01\n",
       "\n",
       "( 6 , 1 ,.,.) = \n",
       " -1.5343e-05 -1.5343e-05 -1.5343e-05  ...  -1.5343e-05 -1.5343e-05 -1.5343e-05\n",
       " -1.5343e-05 -1.5343e-05 -1.5343e-05  ...  -1.5343e-05 -1.5343e-05 -1.5343e-05\n",
       " -1.5343e-05 -1.5343e-05 -1.5343e-05  ...  -1.5343e-05 -1.5343e-05 -1.5343e-05\n",
       "                 ...                   ⋱                   ...                \n",
       " -1.5343e-05 -1.5343e-05 -1.5343e-05  ...  -1.5343e-05 -1.5343e-05 -1.5343e-05\n",
       " -1.5343e-05 -1.5343e-05 -1.5343e-05  ...  -1.5343e-05 -1.5343e-05 -1.5343e-05\n",
       " -1.5343e-05 -1.5343e-05 -1.5343e-05  ...  -1.5343e-05 -1.5343e-05 -1.5343e-05\n",
       "\n",
       "( 6 , 2 ,.,.) = \n",
       "  2.9084e-05  2.9084e-05  2.9084e-05  ...   2.9084e-05  2.9084e-05  2.9084e-05\n",
       "  2.9084e-05  2.9084e-05  2.9084e-05  ...   2.9084e-05  2.9084e-05  2.9084e-05\n",
       "  2.9084e-05  2.9084e-05  2.9084e-05  ...   2.9084e-05  2.9084e-05  2.9084e-05\n",
       "                 ...                   ⋱                   ...                \n",
       "  2.9084e-05  2.9084e-05  2.9084e-05  ...   2.9084e-05  2.9084e-05  2.9084e-05\n",
       "  2.9084e-05  2.9084e-05  2.9084e-05  ...   2.9084e-05  2.9084e-05  2.9084e-05\n",
       "  2.9084e-05  2.9084e-05  2.9084e-05  ...   2.9084e-05  2.9084e-05  2.9084e-05\n",
       "      ⋮  \n",
       "\n",
       "( 7 , 0 ,.,.) = \n",
       "  8.3333e-01  8.2922e-01  8.1813e-01  ...   8.1373e-01  8.1443e-01  8.1400e-01\n",
       "  8.3333e-01  8.2922e-01  8.0874e-01  ...   8.2086e-01  8.2148e-01  8.2223e-01\n",
       "  8.3333e-01  8.2922e-01  8.1283e-01  ...   7.6872e-01  7.6483e-01  7.5395e-01\n",
       "                 ...                   ⋱                   ...                \n",
       "  8.3333e-01  8.3333e-01  8.3333e-01  ...   8.3333e-01  8.3333e-01  8.3333e-01\n",
       "  8.3333e-01  8.3333e-01  8.3333e-01  ...   8.3333e-01  8.3333e-01  8.3333e-01\n",
       "  8.3333e-01  8.3333e-01  8.3333e-01  ...   8.3333e-01  8.3333e-01  8.3333e-01\n",
       "\n",
       "( 7 , 1 ,.,.) = \n",
       " -1.5343e-05  3.1364e-03  4.2393e-03  ...  -1.4546e-02 -3.1723e-03  6.1849e-03\n",
       " -1.5343e-05  3.1364e-03  1.8955e-02  ...  -2.2879e-02 -1.1533e-02 -1.2897e-04\n",
       " -1.5343e-05  3.1364e-03  1.5783e-02  ...   1.6660e-02  3.0428e-02  4.2138e-02\n",
       "                 ...                   ⋱                   ...                \n",
       " -1.5343e-05 -1.5343e-05 -1.5343e-05  ...  -1.5343e-05 -1.5343e-05 -1.5343e-05\n",
       " -1.5343e-05 -1.5343e-05 -1.5343e-05  ...  -1.5343e-05 -1.5343e-05 -1.5343e-05\n",
       " -1.5343e-05 -1.5343e-05 -1.5343e-05  ...  -1.5343e-05 -1.5343e-05 -1.5343e-05\n",
       "\n",
       "( 7 , 2 ,.,.) = \n",
       "  2.9084e-05 -2.2220e-03 -5.2061e-03  ...   1.6891e-03  2.2872e-03  2.2215e-03\n",
       "  2.9084e-05 -2.2220e-03 -1.3466e-02  ...   5.5350e-03  6.0909e-03  6.7189e-03\n",
       "  2.9084e-05 -2.2220e-03 -1.1219e-02  ...   1.2745e-02  7.5667e-03  1.6738e-03\n",
       "                 ...                   ⋱                   ...                \n",
       "  2.9084e-05  2.9084e-05  2.9084e-05  ...   2.9084e-05  2.9084e-05  2.9084e-05\n",
       "  2.9084e-05  2.9084e-05  2.9084e-05  ...   2.9084e-05  2.9084e-05  2.9084e-05\n",
       "  2.9084e-05  2.9084e-05  2.9084e-05  ...   2.9084e-05  2.9084e-05  2.9084e-05\n",
       "[torch.cuda.DoubleTensor of size 8x3x128x128 (GPU 1)]"
      ]
     },
     "execution_count": 29,
     "metadata": {},
     "output_type": "execute_result"
    }
   ],
   "source": [
    "img.clone()"
   ]
  },
  {
   "cell_type": "code",
   "execution_count": 22,
   "metadata": {
    "collapsed": true
   },
   "outputs": [],
   "source": [
    "def renormalize(img):\n",
    "    '''\n",
    "    Renormalizes the input image to meet requirements for VGG-19 pretrained network\n",
    "    '''\n",
    "    \n",
    "    forward_norm = torch.ones(img.data.size())*0.5\n",
    "    forward_norm = Variable(forward_norm.cuda())\n",
    "    img=img*(forward_norm)+forward_norm #add previous norm \n",
    "    mean = img.data.new(img.data.size())\n",
    "    std = img.data.new(img.data.size())\n",
    "    mean[:, 0, :, :] = 0.485\n",
    "    mean[:, 1, :, :] = 0.456\n",
    "    mean[:, 2, :, :] = 0.406\n",
    "    std[:, 0, :, :] = 0.229\n",
    "    std[:, 1, :, :] = 0.224\n",
    "    std[:, 2, :, :] = 0.225\n",
    "    img -= Variable(mean)\n",
    "    img = img / Variable(std)\n",
    "    \n",
    "    return img"
   ]
  },
  {
   "cell_type": "code",
   "execution_count": 60,
   "metadata": {
    "collapsed": true
   },
   "outputs": [],
   "source": [
    "target_img=vis_image(utforms.denormalize_lab(fake.data.double().cpu()))\n",
    "target_img=(target_img*255).astype('uint8')"
   ]
  },
  {
   "cell_type": "code",
   "execution_count": 56,
   "metadata": {
    "collapsed": true
   },
   "outputs": [],
   "source": [
    "target_img=vis_image(utforms.denormalize_lab(img.cpu()))\n",
    "target_img=(target_img*255).astype('uint8')\n",
    "#target_img=np.transpose(target_img,(2,0,1))"
   ]
  },
  {
   "cell_type": "code",
   "execution_count": 45,
   "metadata": {
    "collapsed": false
   },
   "outputs": [
    {
     "data": {
      "text/plain": [
       "<matplotlib.image.AxesImage at 0x7f45ac034310>"
      ]
     },
     "execution_count": 45,
     "metadata": {},
     "output_type": "execute_result"
    },
    {
     "data": {
      "image/png": "[encoded data removed]",
      "text/plain": [
       "<matplotlib.figure.Figure at 0x7f45adaff090>"
      ]
     },
     "metadata": {},
     "output_type": "display_data"
    }
   ],
   "source": [
    "%matplotlib inline\n",
    "plt.imshow(test)"
   ]
  },
  {
   "cell_type": "code",
   "execution_count": 61,
   "metadata": {
    "collapsed": false
   },
   "outputs": [
    {
     "data": {
      "text/plain": [
       "<matplotlib.image.AxesImage at 0x7f459c33a390>"
      ]
     },
     "execution_count": 61,
     "metadata": {},
     "output_type": "execute_result"
    },
    {
     "data": {
      "image/png": "[encoded data removed]",
      "text/plain": [
       "<matplotlib.figure.Figure at 0x7f459c3bbe50>"
      ]
     },
     "metadata": {},
     "output_type": "display_data"
    }
   ],
   "source": [
    "plt.imshow(target_img)"
   ]
  },
  {
   "cell_type": "code",
   "execution_count": 188,
   "metadata": {
    "collapsed": false
   },
   "outputs": [
    {
     "data": {
      "text/plain": [
       "torch.Size([8, 1, 128, 128])"
      ]
     },
     "execution_count": 188,
     "metadata": {},
     "output_type": "execute_result"
    }
   ],
   "source": [
    "test2.size()"
   ]
  },
  {
   "cell_type": "code",
   "execution_count": 186,
   "metadata": {
    "collapsed": false
   },
   "outputs": [],
   "source": [
    "test1,test2 = torch.chunk((fake),2,dim=1)"
   ]
  },
  {
   "cell_type": "code",
   "execution_count": 246,
   "metadata": {
    "collapsed": false
   },
   "outputs": [
    {
     "data": {
      "text/plain": [
       "Scribbler (\n",
       "  (model): Sequential (\n",
       "    (res_block_1): ResidualBlock (\n",
       "      (resblock): Sequential (\n",
       "        (conv_1): Conv2d(3, 3, kernel_size=(3, 3), stride=(1, 1), padding=(1, 1))\n",
       "        (batch_1): BatchNorm2d(3, eps=1e-05, momentum=0.1, affine=True)\n",
       "        (norm_1): ReLU (inplace)\n",
       "        (conv_2): Conv2d(3, 3, kernel_size=(3, 3), stride=(1, 1), padding=(1, 1))\n",
       "        (batch_2): BatchNorm2d(3, eps=1e-05, momentum=0.1, affine=True)\n",
       "      )\n",
       "    )\n",
       "  )\n",
       ")"
      ]
     },
     "execution_count": 246,
     "metadata": {},
     "output_type": "execute_result"
    }
   ],
   "source": [
    "netG"
   ]
  },
  {
   "cell_type": "code",
   "execution_count": 229,
   "metadata": {
    "collapsed": false
   },
   "outputs": [
    {
     "data": {
      "text/plain": [
       "torch.Size([8, 64, 64])"
      ]
     },
     "execution_count": 229,
     "metadata": {},
     "output_type": "execute_result"
    }
   ],
   "source": [
    "gram_y.size()"
   ]
  },
  {
   "cell_type": "code",
   "execution_count": 216,
   "metadata": {
    "collapsed": false
   },
   "outputs": [
    {
     "data": {
      "text/plain": [
       "torch.Size([8, 64, 128, 128])"
      ]
     },
     "execution_count": 216,
     "metadata": {},
     "output_type": "execute_result"
    }
   ],
   "source": [
    "output_feat_[m].size()"
   ]
  },
  {
   "cell_type": "code",
   "execution_count": 217,
   "metadata": {
    "collapsed": false
   },
   "outputs": [
    {
     "data": {
      "text/plain": [
       "torch.Size([512, 512])"
      ]
     },
     "execution_count": 217,
     "metadata": {},
     "output_type": "execute_result"
    }
   ],
   "source": [
    "gram(output_feat_[m]).size()"
   ]
  },
  {
   "cell_type": "code",
   "execution_count": 205,
   "metadata": {
    "collapsed": false
   },
   "outputs": [
    {
     "data": {
      "text/plain": [
       "torch.Size([4096, 4096])"
      ]
     },
     "execution_count": 205,
     "metadata": {},
     "output_type": "execute_result"
    }
   ],
   "source": [
    "gram(target_feat_[m]).size()"
   ]
  },
  {
   "cell_type": "code",
   "execution_count": 218,
   "metadata": {
    "collapsed": false
   },
   "outputs": [
    {
     "data": {
      "text/plain": [
       "6"
      ]
     },
     "execution_count": 218,
     "metadata": {},
     "output_type": "execute_result"
    }
   ],
   "source": [
    "len(output_feat_)"
   ]
  },
  {
   "cell_type": "code",
   "execution_count": 208,
   "metadata": {
    "collapsed": true
   },
   "outputs": [],
   "source": [
    "test = [gram(y) for y in target_feat_]"
   ]
  },
  {
   "cell_type": "code",
   "execution_count": 209,
   "metadata": {
    "collapsed": false
   },
   "outputs": [
    {
     "data": {
      "text/plain": [
       "torch.Size([512, 512])"
      ]
     },
     "execution_count": 209,
     "metadata": {},
     "output_type": "execute_result"
    }
   ],
   "source": [
    "test[0].size()"
   ]
  },
  {
   "cell_type": "code",
   "execution_count": 194,
   "metadata": {
    "collapsed": false
   },
   "outputs": [
    {
     "data": {
      "text/plain": [
       "Variable containing:\n",
       " 0\n",
       "[torch.cuda.FloatTensor of size 1 (GPU 1)]"
      ]
     },
     "execution_count": 194,
     "metadata": {},
     "output_type": "execute_result"
    }
   ],
   "source": [
    "err_style"
   ]
  },
  {
   "cell_type": "code",
   "execution_count": 170,
   "metadata": {
    "collapsed": false
   },
   "outputs": [],
   "source": [
    "def gen_input(img,skg,xcenter=64,ycenter=64,size=40):\n",
    "    #generate input skg with random patch from img\n",
    "    #input img,skg [bsx3xwxh], xcenter,ycenter, size \n",
    "    #output bsx5xwxh\n",
    "       \n",
    "    w,h = img.size()[2:4]\n",
    "\n",
    "    xstart = max(xcenter-size/2,0)\n",
    "    ystart = max(ycenter-size/2,0)\n",
    "    xend = min(xcenter + size/2,w)\n",
    "    yend = min(ycenter + size/2,h)\n",
    "\n",
    "\n",
    "    input_texture = torch.zeros(img.size())\n",
    "    input_sketch = skg[:,0:1,:,:] #L channel from skg\n",
    "    input_mask = torch.zeros(input_sketch.size())\n",
    "\n",
    "    input_mask[:,:,xstart:xend,ystart:yend] = 1\n",
    "    input_texture[:,:,xstart:xend,ystart:yend] = img[:,:,xstart:xend,ystart:yend]\n",
    "\n",
    "    return torch.cat((input_sketch.float(),input_texture,input_mask),1)\n",
    "     "
   ]
  },
  {
   "cell_type": "code",
   "execution_count": 167,
   "metadata": {
    "collapsed": false
   },
   "outputs": [],
   "source": [
    "#################\n",
    "xcenter = 0\n",
    "ycenter = 0\n",
    "size = 40\n",
    "\n",
    "w,h = img.size()[2:4]\n",
    "\n",
    "xstart = max(xcenter-size/2,0)\n",
    "ystart = max(ycenter-size/2,0)\n",
    "xend = min(xcenter + size/2,w)\n",
    "yend = min(ycenter + size/2,h)\n",
    "\n",
    "\n",
    "input_texture = torch.zeros(img.size())\n",
    "input_sketch = skg[:,0:1,:,:] #L channel from skg\n",
    "input_mask = torch.zeros(input_sketch.size())\n",
    "\n",
    "input_mask[:,:,xstart:xend,ystart:yend] = 1\n",
    "input_texture[:,:,xstart:xend,ystart:yend] = img[:,:,xstart:xend,ystart:yend]\n",
    "\n",
    "results = torch.cat((input_sketch.float(),input_texture,input_mask),1)\n",
    "\n",
    "#vis_img[xcenter-size/2:xcenter+size/2,ycenter-size/2:ycenter+size/2,:] = img_np[xcenter-size/2:xcenter+size/2,ycenter-size/2:ycenter+size/2,:]\n"
   ]
  },
  {
   "cell_type": "code",
   "execution_count": 168,
   "metadata": {
    "collapsed": false
   },
   "outputs": [
    {
     "data": {
      "image/png": "[encoded data removed]",
      "text/plain": [
       "<PIL.Image.Image image mode=RGB size=128x128 at 0x7FB6D1D8B710>"
      ]
     },
     "execution_count": 168,
     "metadata": {},
     "output_type": "execute_result"
    }
   ],
   "source": [
    "import torchvision.transforms\n",
    "test = (results[0,1,:,:].expand(3,128,128))\n",
    "to_pil = torchvision.transforms.ToPILImage()\n",
    "img_ = to_pil(test)\n",
    "img_"
   ]
  },
  {
   "cell_type": "code",
   "execution_count": 31,
   "metadata": {
    "collapsed": false
   },
   "outputs": [],
   "source": [
    "skg = torch.round(skg)\n"
   ]
  },
  {
   "cell_type": "code",
   "execution_count": 35,
   "metadata": {
    "collapsed": false
   },
   "outputs": [
    {
     "data": {
      "text/plain": [
       "torch.Size([8, 1, 128, 128])"
      ]
     },
     "execution_count": 35,
     "metadata": {},
     "output_type": "execute_result"
    }
   ],
   "source": [
    "#L channel sketch\n",
    "skg[:,0:1,:,:]\n",
    "\n",
    "#LAB channel patch\n",
    "patch = gen_input()"
   ]
  },
  {
   "cell_type": "code",
   "execution_count": 30,
   "metadata": {
    "collapsed": false
   },
   "outputs": [
    {
     "data": {
      "text/plain": [
       "array([[[ 0.99999999,  0.99999999,  0.99999999],\n",
       "        [ 0.99999999,  0.99999999,  0.99999999],\n",
       "        [ 0.99999999,  0.99999999,  0.99999999],\n",
       "        ..., \n",
       "        [ 0.99999999,  0.99999999,  0.99999999],\n",
       "        [ 0.99999999,  0.99999999,  0.99999999],\n",
       "        [ 0.99999999,  0.99999999,  0.99999999]],\n",
       "\n",
       "       [[ 0.99999999,  0.99999999,  0.99999999],\n",
       "        [ 0.99999999,  0.99999999,  0.99999999],\n",
       "        [ 0.99999999,  0.99999999,  0.99999999],\n",
       "        ..., \n",
       "        [ 0.99999999,  0.99999999,  0.99999999],\n",
       "        [ 0.99999999,  0.99999999,  0.99999999],\n",
       "        [ 0.99999999,  0.99999999,  0.99999999]],\n",
       "\n",
       "       [[ 0.99999999,  0.99999999,  0.99999999],\n",
       "        [ 0.99999999,  0.99999999,  0.99999999],\n",
       "        [ 0.99999999,  0.99999999,  0.99999999],\n",
       "        ..., \n",
       "        [ 0.99999999,  0.99999999,  0.99999999],\n",
       "        [ 0.99999999,  0.99999999,  0.99999999],\n",
       "        [ 0.99999999,  0.99999999,  0.99999999]],\n",
       "\n",
       "       ..., \n",
       "       [[ 0.99999999,  0.99999999,  0.99999999],\n",
       "        [ 0.99999999,  0.99999999,  0.99999999],\n",
       "        [ 0.99999999,  0.99999999,  0.99999999],\n",
       "        ..., \n",
       "        [ 0.99999999,  0.99999999,  0.99999999],\n",
       "        [ 0.99999999,  0.99999999,  0.99999999],\n",
       "        [ 0.99999999,  0.99999999,  0.99999999]],\n",
       "\n",
       "       [[ 0.99999999,  0.99999999,  0.99999999],\n",
       "        [ 0.99999999,  0.99999999,  0.99999999],\n",
       "        [ 0.99999999,  0.99999999,  0.99999999],\n",
       "        ..., \n",
       "        [ 0.99999999,  0.99999999,  0.99999999],\n",
       "        [ 0.99999999,  0.99999999,  0.99999999],\n",
       "        [ 0.99999999,  0.99999999,  0.99999999]],\n",
       "\n",
       "       [[ 0.99999999,  0.99999999,  0.99999999],\n",
       "        [ 0.99999999,  0.99999999,  0.99999999],\n",
       "        [ 0.99999999,  0.99999999,  0.99999999],\n",
       "        ..., \n",
       "        [ 0.99999999,  0.99999999,  0.99999999],\n",
       "        [ 0.99999999,  0.99999999,  0.99999999],\n",
       "        [ 0.99999999,  0.99999999,  0.99999999]]])"
      ]
     },
     "execution_count": 30,
     "metadata": {},
     "output_type": "execute_result"
    }
   ],
   "source": [
    "test"
   ]
  },
  {
   "cell_type": "code",
   "execution_count": 37,
   "metadata": {
    "collapsed": false
   },
   "outputs": [
    {
     "data": {
      "text/plain": [
       "(3, 128, 128)"
      ]
     },
     "execution_count": 37,
     "metadata": {},
     "output_type": "execute_result"
    }
   ],
   "source": [
    "np.shape(np.transpose(test,(2,0,1)))"
   ]
  },
  {
   "cell_type": "code",
   "execution_count": 40,
   "metadata": {
    "collapsed": false
   },
   "outputs": [],
   "source": [
    "aaa = np.array(np.transpose(test,(2,0,1)))"
   ]
  },
  {
   "cell_type": "code",
   "execution_count": 17,
   "metadata": {
    "collapsed": false
   },
   "outputs": [
    {
     "data": {
      "text/plain": [
       "\n",
       "( 0 , 0 ,.,.) = \n",
       "  1.0000e+02  1.0000e+02  1.0000e+02  ...   1.0000e+02  1.0000e+02  1.0000e+02\n",
       "  1.0000e+02  1.0000e+02  1.0000e+02  ...   1.0000e+02  1.0000e+02  1.0000e+02\n",
       "  1.0000e+02  1.0000e+02  1.0000e+02  ...   1.0000e+02  1.0000e+02  1.0000e+02\n",
       "                 ...                   ⋱                   ...                \n",
       "  1.0000e+02  1.0000e+02  1.0000e+02  ...   1.0000e+02  1.0000e+02  1.0000e+02\n",
       "  1.0000e+02  1.0000e+02  1.0000e+02  ...   1.0000e+02  1.0000e+02  1.0000e+02\n",
       "  1.0000e+02  1.0000e+02  1.0000e+02  ...   1.0000e+02  1.0000e+02  1.0000e+02\n",
       "\n",
       "( 0 , 1 ,.,.) = \n",
       " -2.4549e-03 -2.4549e-03 -2.4549e-03  ...  -2.4549e-03 -2.4549e-03 -2.4549e-03\n",
       " -2.4549e-03 -2.4549e-03 -2.4549e-03  ...  -2.4549e-03 -2.4549e-03 -2.4549e-03\n",
       " -2.4549e-03 -2.4549e-03 -2.4549e-03  ...  -2.4549e-03 -2.4549e-03 -2.4549e-03\n",
       "                 ...                   ⋱                   ...                \n",
       " -2.4549e-03 -2.4549e-03 -2.4549e-03  ...  -2.4549e-03 -2.4549e-03 -2.4549e-03\n",
       " -2.4549e-03 -2.4549e-03 -2.4549e-03  ...  -2.4549e-03 -2.4549e-03 -2.4549e-03\n",
       " -2.4549e-03 -2.4549e-03 -2.4549e-03  ...  -2.4549e-03 -2.4549e-03 -2.4549e-03\n",
       "\n",
       "( 0 , 2 ,.,.) = \n",
       "  4.6534e-03  4.6534e-03  4.6534e-03  ...   4.6534e-03  4.6534e-03  4.6534e-03\n",
       "  4.6534e-03  4.6534e-03  4.6534e-03  ...   4.6534e-03  4.6534e-03  4.6534e-03\n",
       "  4.6534e-03  4.6534e-03  4.6534e-03  ...   4.6534e-03  4.6534e-03  4.6534e-03\n",
       "                 ...                   ⋱                   ...                \n",
       "  4.6534e-03  4.6534e-03  4.6534e-03  ...   4.6534e-03  4.6534e-03  4.6534e-03\n",
       "  4.6534e-03  4.6534e-03  4.6534e-03  ...   4.6534e-03  4.6534e-03  4.6534e-03\n",
       "  4.6534e-03  4.6534e-03  4.6534e-03  ...   4.6534e-03  4.6534e-03  4.6534e-03\n",
       "      ⋮  \n",
       "\n",
       "( 1 , 0 ,.,.) = \n",
       "  1.0000e+02  1.0000e+02  1.0000e+02  ...   1.0000e+02  1.0000e+02  1.0000e+02\n",
       "  1.0000e+02  1.0000e+02  1.0000e+02  ...   1.0000e+02  1.0000e+02  1.0000e+02\n",
       "  1.0000e+02  1.0000e+02  1.0000e+02  ...   1.0000e+02  1.0000e+02  1.0000e+02\n",
       "                 ...                   ⋱                   ...                \n",
       "  9.8568e+01  9.8890e+01  8.3336e+01  ...   9.9655e+01  9.9655e+01  1.0000e+02\n",
       "  9.9557e+01  9.9853e+01  9.5493e+01  ...   1.0000e+02  1.0000e+02  1.0000e+02\n",
       "  1.0000e+02  9.9877e+01  9.9581e+01  ...   1.0000e+02  1.0000e+02  1.0000e+02\n",
       "\n",
       "( 1 , 1 ,.,.) = \n",
       " -2.4549e-03 -2.4549e-03 -2.4549e-03  ...  -2.4549e-03 -2.4549e-03 -2.4549e-03\n",
       " -2.4549e-03 -2.4549e-03 -2.4549e-03  ...  -2.4549e-03 -2.4549e-03 -2.4549e-03\n",
       " -2.4549e-03 -2.4549e-03 -2.4549e-03  ...  -2.4549e-03 -2.4549e-03 -2.4549e-03\n",
       "                 ...                   ⋱                   ...                \n",
       " -3.5205e-01 -5.2551e-01  2.4045e+00  ...  -2.4476e-03 -2.4476e-03 -2.4549e-03\n",
       " -5.0682e-01 -8.5495e-01 -1.9495e-01  ...  -2.4549e-03 -2.4549e-03 -2.4549e-03\n",
       " -2.4549e-03 -6.8103e-01 -5.2477e-01  ...  -2.4549e-03 -2.4549e-03 -2.4549e-03\n",
       "\n",
       "( 1 , 2 ,.,.) = \n",
       "  4.6534e-03  4.6534e-03  4.6534e-03  ...   4.6534e-03  4.6534e-03  4.6534e-03\n",
       "  4.6534e-03  4.6534e-03  4.6534e-03  ...   4.6534e-03  4.6534e-03  4.6534e-03\n",
       "  4.6534e-03  4.6534e-03  4.6534e-03  ...   4.6534e-03  4.6534e-03  4.6534e-03\n",
       "                 ...                   ⋱                   ...                \n",
       "  9.6012e-01  1.4371e+00  1.9792e+00  ...   4.6396e-03  4.6396e-03  4.6534e-03\n",
       "  3.6544e-01  1.3182e+00  1.5653e+00  ...   4.6534e-03  4.6534e-03  4.6534e-03\n",
       "  4.6534e-03  8.4162e-01  1.4350e+00  ...   4.6534e-03  4.6534e-03  4.6534e-03\n",
       "      ⋮  \n",
       "\n",
       "( 2 , 0 ,.,.) = \n",
       "  1.0000e+02  1.0000e+02  1.0000e+02  ...   1.0000e+02  1.0000e+02  1.0000e+02\n",
       "  1.0000e+02  1.0000e+02  1.0000e+02  ...   1.0000e+02  1.0000e+02  1.0000e+02\n",
       "  1.0000e+02  1.0000e+02  1.0000e+02  ...   1.0000e+02  1.0000e+02  1.0000e+02\n",
       "                 ...                   ⋱                   ...                \n",
       "  1.0000e+02  1.0000e+02  1.0000e+02  ...   1.0000e+02  1.0000e+02  1.0000e+02\n",
       "  1.0000e+02  1.0000e+02  1.0000e+02  ...   1.0000e+02  1.0000e+02  1.0000e+02\n",
       "  1.0000e+02  1.0000e+02  1.0000e+02  ...   1.0000e+02  1.0000e+02  1.0000e+02\n",
       "\n",
       "( 2 , 1 ,.,.) = \n",
       " -2.4549e-03 -2.4549e-03 -2.4549e-03  ...  -2.4549e-03 -2.4549e-03 -2.4549e-03\n",
       " -2.4549e-03 -2.4549e-03 -2.4549e-03  ...  -2.4549e-03 -2.4549e-03 -2.4549e-03\n",
       " -2.4549e-03 -2.4549e-03 -2.4549e-03  ...  -2.4549e-03 -2.4549e-03 -2.4549e-03\n",
       "                 ...                   ⋱                   ...                \n",
       " -2.4549e-03 -2.4549e-03 -2.4549e-03  ...  -2.4549e-03 -2.4549e-03 -2.4549e-03\n",
       " -2.4549e-03 -2.4549e-03 -2.4549e-03  ...  -2.4549e-03 -2.4549e-03 -2.4549e-03\n",
       " -2.4549e-03 -2.4549e-03 -2.4549e-03  ...  -2.4549e-03 -2.4549e-03 -2.4549e-03\n",
       "\n",
       "( 2 , 2 ,.,.) = \n",
       "  4.6534e-03  4.6534e-03  4.6534e-03  ...   4.6534e-03  4.6534e-03  4.6534e-03\n",
       "  4.6534e-03  4.6534e-03  4.6534e-03  ...   4.6534e-03  4.6534e-03  4.6534e-03\n",
       "  4.6534e-03  4.6534e-03  4.6534e-03  ...   4.6534e-03  4.6534e-03  4.6534e-03\n",
       "                 ...                   ⋱                   ...                \n",
       "  4.6534e-03  4.6534e-03  4.6534e-03  ...   4.6534e-03  4.6534e-03  4.6534e-03\n",
       "  4.6534e-03  4.6534e-03  4.6534e-03  ...   4.6534e-03  4.6534e-03  4.6534e-03\n",
       "  4.6534e-03  4.6534e-03  4.6534e-03  ...   4.6534e-03  4.6534e-03  4.6534e-03\n",
       "...     \n",
       "      ⋮  \n",
       "\n",
       "( 5 , 0 ,.,.) = \n",
       "  9.9089e+01  9.9434e+01  9.9755e+01  ...   1.0000e+02  1.0000e+02  1.0000e+02\n",
       "  9.9187e+01  9.9434e+01  9.9410e+01  ...   1.0000e+02  1.0000e+02  1.0000e+02\n",
       "  9.9187e+01  9.9532e+01  9.9731e+01  ...   1.0000e+02  1.0000e+02  1.0000e+02\n",
       "                 ...                   ⋱                   ...                \n",
       "  1.0000e+02  1.0000e+02  1.0000e+02  ...   1.0000e+02  1.0000e+02  1.0000e+02\n",
       "  1.0000e+02  1.0000e+02  1.0000e+02  ...   1.0000e+02  1.0000e+02  1.0000e+02\n",
       "  1.0000e+02  1.0000e+02  1.0000e+02  ...   1.0000e+02  1.0000e+02  1.0000e+02\n",
       "\n",
       "( 5 , 1 ,.,.) = \n",
       " -1.1868e+00 -1.1859e+00 -1.3589e+00  ...  -2.4549e-03 -2.4549e-03 -2.4549e-03\n",
       " -6.8202e-01 -1.1859e+00 -1.3599e+00  ...  -2.4549e-03 -2.4549e-03 -2.4549e-03\n",
       " -6.8202e-01 -6.8152e-01 -1.5322e+00  ...  -2.4549e-03 -2.4549e-03 -2.4549e-03\n",
       "                 ...                   ⋱                   ...                \n",
       " -2.4549e-03 -2.4549e-03 -2.4549e-03  ...  -2.4549e-03 -2.4549e-03 -2.4549e-03\n",
       " -2.4549e-03 -2.4549e-03 -2.4549e-03  ...  -2.4549e-03 -2.4549e-03 -2.4549e-03\n",
       " -2.4549e-03 -2.4549e-03 -2.4549e-03  ...  -2.4549e-03 -2.4549e-03 -2.4549e-03\n",
       "\n",
       "( 5 , 2 ,.,.) = \n",
       "  1.2048e+00  1.2039e+00  1.6798e+00  ...   4.6534e-03  4.6534e-03  4.6534e-03\n",
       "  8.4284e-01  1.2039e+00  1.6810e+00  ...   4.6534e-03  4.6534e-03  4.6534e-03\n",
       "  8.4284e-01  8.4223e-01  2.1568e+00  ...   4.6534e-03  4.6534e-03  4.6534e-03\n",
       "                 ...                   ⋱                   ...                \n",
       "  4.6534e-03  4.6534e-03  4.6534e-03  ...   4.6534e-03  4.6534e-03  4.6534e-03\n",
       "  4.6534e-03  4.6534e-03  4.6534e-03  ...   4.6534e-03  4.6534e-03  4.6534e-03\n",
       "  4.6534e-03  4.6534e-03  4.6534e-03  ...   4.6534e-03  4.6534e-03  4.6534e-03\n",
       "      ⋮  \n",
       "\n",
       "( 6 , 0 ,.,.) = \n",
       "  1.0000e+02  1.0000e+02  1.0000e+02  ...   1.0000e+02  1.0000e+02  1.0000e+02\n",
       "  1.0000e+02  1.0000e+02  1.0000e+02  ...   1.0000e+02  1.0000e+02  1.0000e+02\n",
       "  1.0000e+02  1.0000e+02  1.0000e+02  ...   1.0000e+02  1.0000e+02  1.0000e+02\n",
       "                 ...                   ⋱                   ...                \n",
       "  1.0000e+02  1.0000e+02  1.0000e+02  ...   5.0000e+01  9.3748e+01  9.9310e+01\n",
       "  1.0000e+02  1.0000e+02  1.0000e+02  ...   8.5270e+01  9.9655e+01  9.9655e+01\n",
       "  1.0000e+02  1.0000e+02  1.0000e+02  ...   9.8618e+01  1.0000e+02  1.0000e+02\n",
       "\n",
       "( 6 , 1 ,.,.) = \n",
       " -2.4549e-03 -2.4549e-03 -2.4549e-03  ...  -2.4549e-03 -2.4549e-03 -2.4549e-03\n",
       " -2.4549e-03 -2.4549e-03 -2.4549e-03  ...  -2.4549e-03 -2.4549e-03 -2.4549e-03\n",
       " -2.4549e-03 -2.4549e-03 -2.4549e-03  ...  -2.4549e-03 -2.4549e-03 -2.4549e-03\n",
       "                 ...                   ⋱                   ...                \n",
       " -2.4549e-03 -2.4549e-03 -2.4549e-03  ...  -1.3213e-03 -2.3226e-03 -2.4403e-03\n",
       " -2.4549e-03 -2.4549e-03 -2.4549e-03  ...  -2.1432e-03 -2.4476e-03 -2.4476e-03\n",
       " -2.4549e-03 -2.4549e-03 -2.4549e-03  ...  -2.4257e-03 -2.4549e-03 -2.4549e-03\n",
       "\n",
       "( 6 , 2 ,.,.) = \n",
       "  4.6534e-03  4.6534e-03  4.6534e-03  ...   4.6534e-03  4.6534e-03  4.6534e-03\n",
       "  4.6534e-03  4.6534e-03  4.6534e-03  ...   4.6534e-03  4.6534e-03  4.6534e-03\n",
       "  4.6534e-03  4.6534e-03  4.6534e-03  ...   4.6534e-03  4.6534e-03  4.6534e-03\n",
       "                 ...                   ⋱                   ...                \n",
       "  4.6534e-03  4.6534e-03  4.6534e-03  ...   2.5046e-03  4.4026e-03  4.6257e-03\n",
       "  4.6534e-03  4.6534e-03  4.6534e-03  ...   4.0625e-03  4.6396e-03  4.6396e-03\n",
       "  4.6534e-03  4.6534e-03  4.6534e-03  ...   4.5980e-03  4.6534e-03  4.6534e-03\n",
       "      ⋮  \n",
       "\n",
       "( 7 , 0 ,.,.) = \n",
       "  1.0000e+02  1.0000e+02  1.0000e+02  ...   1.0000e+02  1.0000e+02  1.0000e+02\n",
       "  1.0000e+02  1.0000e+02  1.0000e+02  ...   1.0000e+02  1.0000e+02  1.0000e+02\n",
       "  1.0000e+02  1.0000e+02  1.0000e+02  ...   1.0000e+02  1.0000e+02  1.0000e+02\n",
       "                 ...                   ⋱                   ...                \n",
       "  1.0000e+02  1.0000e+02  1.0000e+02  ...   1.0000e+02  1.0000e+02  1.0000e+02\n",
       "  1.0000e+02  1.0000e+02  1.0000e+02  ...   1.0000e+02  1.0000e+02  1.0000e+02\n",
       "  1.0000e+02  1.0000e+02  1.0000e+02  ...   1.0000e+02  1.0000e+02  1.0000e+02\n",
       "\n",
       "( 7 , 1 ,.,.) = \n",
       " -2.4549e-03 -2.4549e-03 -2.4549e-03  ...  -2.4549e-03 -2.4549e-03 -2.4549e-03\n",
       " -2.4549e-03 -2.4549e-03 -2.4549e-03  ...  -2.4549e-03 -2.4549e-03 -2.4549e-03\n",
       " -2.4549e-03 -2.4549e-03 -2.4549e-03  ...  -2.4549e-03 -2.4549e-03 -2.4549e-03\n",
       "                 ...                   ⋱                   ...                \n",
       " -2.4549e-03 -2.4549e-03 -2.4549e-03  ...  -2.4549e-03 -2.4549e-03 -2.4549e-03\n",
       " -2.4549e-03 -2.4549e-03 -2.4549e-03  ...  -2.4549e-03 -2.4549e-03 -2.4549e-03\n",
       " -2.4549e-03 -2.4549e-03 -2.4549e-03  ...  -2.4549e-03 -2.4549e-03 -2.4549e-03\n",
       "\n",
       "( 7 , 2 ,.,.) = \n",
       "  4.6534e-03  4.6534e-03  4.6534e-03  ...   4.6534e-03  4.6534e-03  4.6534e-03\n",
       "  4.6534e-03  4.6534e-03  4.6534e-03  ...   4.6534e-03  4.6534e-03  4.6534e-03\n",
       "  4.6534e-03  4.6534e-03  4.6534e-03  ...   4.6534e-03  4.6534e-03  4.6534e-03\n",
       "                 ...                   ⋱                   ...                \n",
       "  4.6534e-03  4.6534e-03  4.6534e-03  ...   4.6534e-03  4.6534e-03  4.6534e-03\n",
       "  4.6534e-03  4.6534e-03  4.6534e-03  ...   4.6534e-03  4.6534e-03  4.6534e-03\n",
       "  4.6534e-03  4.6534e-03  4.6534e-03  ...   4.6534e-03  4.6534e-03  4.6534e-03\n",
       "[torch.DoubleTensor of size 8x3x128x128]"
      ]
     },
     "execution_count": 17,
     "metadata": {},
     "output_type": "execute_result"
    }
   ],
   "source": [
    "utforms.denormalize_lab(test_img)"
   ]
  },
  {
   "cell_type": "code",
   "execution_count": 16,
   "metadata": {
    "collapsed": false
   },
   "outputs": [
    {
     "data": {
      "text/plain": [
       "\n",
       "( 0 , 0 ,.,.) = \n",
       "  0.8333  0.8333  0.8333  ...   0.8333  0.8333  0.8333\n",
       "  0.8333  0.8333  0.8333  ...   0.8333  0.8333  0.8333\n",
       "  0.8333  0.8333  0.8333  ...   0.8333  0.8333  0.8333\n",
       "           ...             ⋱             ...          \n",
       "  0.8333  0.8333  0.8333  ...   0.8333  0.8333  0.8333\n",
       "  0.8333  0.8333  0.8333  ...   0.8333  0.8333  0.8333\n",
       "  0.8333  0.8333  0.8333  ...   0.8333  0.8333  0.8333\n",
       "\n",
       "( 0 , 1 ,.,.) = \n",
       " -0.0000 -0.0000 -0.0000  ...  -0.0000 -0.0000 -0.0000\n",
       " -0.0000 -0.0000 -0.0000  ...  -0.0000 -0.0000 -0.0000\n",
       " -0.0000 -0.0000 -0.0000  ...  -0.0000 -0.0000 -0.0000\n",
       "           ...             ⋱             ...          \n",
       " -0.0000 -0.0000 -0.0000  ...  -0.0000 -0.0000 -0.0000\n",
       " -0.0000 -0.0000 -0.0000  ...  -0.0000 -0.0000 -0.0000\n",
       " -0.0000 -0.0000 -0.0000  ...  -0.0000 -0.0000 -0.0000\n",
       "\n",
       "( 0 , 2 ,.,.) = \n",
       "  0.0000  0.0000  0.0000  ...   0.0000  0.0000  0.0000\n",
       "  0.0000  0.0000  0.0000  ...   0.0000  0.0000  0.0000\n",
       "  0.0000  0.0000  0.0000  ...   0.0000  0.0000  0.0000\n",
       "           ...             ⋱             ...          \n",
       "  0.0000  0.0000  0.0000  ...   0.0000  0.0000  0.0000\n",
       "  0.0000  0.0000  0.0000  ...   0.0000  0.0000  0.0000\n",
       "  0.0000  0.0000  0.0000  ...   0.0000  0.0000  0.0000\n",
       "      ⋮  \n",
       "\n",
       "( 1 , 0 ,.,.) = \n",
       "  0.8333  0.8333  0.8333  ...   0.8333  0.8333  0.8333\n",
       "  0.8333  0.8333  0.8333  ...   0.8333  0.8333  0.8333\n",
       "  0.8333  0.8333  0.8333  ...   0.8333  0.8333  0.8333\n",
       "           ...             ⋱             ...          \n",
       "  0.8095  0.8148  0.5556  ...   0.8276  0.8276  0.8333\n",
       "  0.8259  0.8309  0.7582  ...   0.8333  0.8333  0.8333\n",
       "  0.8333  0.8313  0.8263  ...   0.8333  0.8333  0.8333\n",
       "\n",
       "( 1 , 1 ,.,.) = \n",
       " -0.0000 -0.0000 -0.0000  ...  -0.0000 -0.0000 -0.0000\n",
       " -0.0000 -0.0000 -0.0000  ...  -0.0000 -0.0000 -0.0000\n",
       " -0.0000 -0.0000 -0.0000  ...  -0.0000 -0.0000 -0.0000\n",
       "           ...             ⋱             ...          \n",
       " -0.0022 -0.0033  0.0150  ...  -0.0000 -0.0000 -0.0000\n",
       " -0.0032 -0.0053 -0.0012  ...  -0.0000 -0.0000 -0.0000\n",
       " -0.0000 -0.0043 -0.0033  ...  -0.0000 -0.0000 -0.0000\n",
       "\n",
       "( 1 , 2 ,.,.) = \n",
       "  0.0000  0.0000  0.0000  ...   0.0000  0.0000  0.0000\n",
       "  0.0000  0.0000  0.0000  ...   0.0000  0.0000  0.0000\n",
       "  0.0000  0.0000  0.0000  ...   0.0000  0.0000  0.0000\n",
       "           ...             ⋱             ...          \n",
       "  0.0060  0.0090  0.0124  ...   0.0000  0.0000  0.0000\n",
       "  0.0023  0.0082  0.0098  ...   0.0000  0.0000  0.0000\n",
       "  0.0000  0.0053  0.0090  ...   0.0000  0.0000  0.0000\n",
       "      ⋮  \n",
       "\n",
       "( 2 , 0 ,.,.) = \n",
       "  0.8333  0.8333  0.8333  ...   0.8333  0.8333  0.8333\n",
       "  0.8333  0.8333  0.8333  ...   0.8333  0.8333  0.8333\n",
       "  0.8333  0.8333  0.8333  ...   0.8333  0.8333  0.8333\n",
       "           ...             ⋱             ...          \n",
       "  0.8333  0.8333  0.8333  ...   0.8333  0.8333  0.8333\n",
       "  0.8333  0.8333  0.8333  ...   0.8333  0.8333  0.8333\n",
       "  0.8333  0.8333  0.8333  ...   0.8333  0.8333  0.8333\n",
       "\n",
       "( 2 , 1 ,.,.) = \n",
       " -0.0000 -0.0000 -0.0000  ...  -0.0000 -0.0000 -0.0000\n",
       " -0.0000 -0.0000 -0.0000  ...  -0.0000 -0.0000 -0.0000\n",
       " -0.0000 -0.0000 -0.0000  ...  -0.0000 -0.0000 -0.0000\n",
       "           ...             ⋱             ...          \n",
       " -0.0000 -0.0000 -0.0000  ...  -0.0000 -0.0000 -0.0000\n",
       " -0.0000 -0.0000 -0.0000  ...  -0.0000 -0.0000 -0.0000\n",
       " -0.0000 -0.0000 -0.0000  ...  -0.0000 -0.0000 -0.0000\n",
       "\n",
       "( 2 , 2 ,.,.) = \n",
       "  0.0000  0.0000  0.0000  ...   0.0000  0.0000  0.0000\n",
       "  0.0000  0.0000  0.0000  ...   0.0000  0.0000  0.0000\n",
       "  0.0000  0.0000  0.0000  ...   0.0000  0.0000  0.0000\n",
       "           ...             ⋱             ...          \n",
       "  0.0000  0.0000  0.0000  ...   0.0000  0.0000  0.0000\n",
       "  0.0000  0.0000  0.0000  ...   0.0000  0.0000  0.0000\n",
       "  0.0000  0.0000  0.0000  ...   0.0000  0.0000  0.0000\n",
       "...     \n",
       "      ⋮  \n",
       "\n",
       "( 5 , 0 ,.,.) = \n",
       "  0.8181  0.8239  0.8292  ...   0.8333  0.8333  0.8333\n",
       "  0.8198  0.8239  0.8235  ...   0.8333  0.8333  0.8333\n",
       "  0.8198  0.8255  0.8288  ...   0.8333  0.8333  0.8333\n",
       "           ...             ⋱             ...          \n",
       "  0.8333  0.8333  0.8333  ...   0.8333  0.8333  0.8333\n",
       "  0.8333  0.8333  0.8333  ...   0.8333  0.8333  0.8333\n",
       "  0.8333  0.8333  0.8333  ...   0.8333  0.8333  0.8333\n",
       "\n",
       "( 5 , 1 ,.,.) = \n",
       " -0.0074 -0.0074 -0.0085  ...  -0.0000 -0.0000 -0.0000\n",
       " -0.0043 -0.0074 -0.0085  ...  -0.0000 -0.0000 -0.0000\n",
       " -0.0043 -0.0043 -0.0096  ...  -0.0000 -0.0000 -0.0000\n",
       "           ...             ⋱             ...          \n",
       " -0.0000 -0.0000 -0.0000  ...  -0.0000 -0.0000 -0.0000\n",
       " -0.0000 -0.0000 -0.0000  ...  -0.0000 -0.0000 -0.0000\n",
       " -0.0000 -0.0000 -0.0000  ...  -0.0000 -0.0000 -0.0000\n",
       "\n",
       "( 5 , 2 ,.,.) = \n",
       "  0.0075  0.0075  0.0105  ...   0.0000  0.0000  0.0000\n",
       "  0.0053  0.0075  0.0105  ...   0.0000  0.0000  0.0000\n",
       "  0.0053  0.0053  0.0135  ...   0.0000  0.0000  0.0000\n",
       "           ...             ⋱             ...          \n",
       "  0.0000  0.0000  0.0000  ...   0.0000  0.0000  0.0000\n",
       "  0.0000  0.0000  0.0000  ...   0.0000  0.0000  0.0000\n",
       "  0.0000  0.0000  0.0000  ...   0.0000  0.0000  0.0000\n",
       "      ⋮  \n",
       "\n",
       "( 6 , 0 ,.,.) = \n",
       "  0.8333  0.8333  0.8333  ...   0.8333  0.8333  0.8333\n",
       "  0.8333  0.8333  0.8333  ...   0.8333  0.8333  0.8333\n",
       "  0.8333  0.8333  0.8333  ...   0.8333  0.8333  0.8333\n",
       "           ...             ⋱             ...          \n",
       "  0.8333  0.8333  0.8333  ...   0.0000  0.7291  0.8218\n",
       "  0.8333  0.8333  0.8333  ...   0.5878  0.8276  0.8276\n",
       "  0.8333  0.8333  0.8333  ...   0.8103  0.8333  0.8333\n",
       "\n",
       "( 6 , 1 ,.,.) = \n",
       " -0.0000 -0.0000 -0.0000  ...  -0.0000 -0.0000 -0.0000\n",
       " -0.0000 -0.0000 -0.0000  ...  -0.0000 -0.0000 -0.0000\n",
       " -0.0000 -0.0000 -0.0000  ...  -0.0000 -0.0000 -0.0000\n",
       "           ...             ⋱             ...          \n",
       " -0.0000 -0.0000 -0.0000  ...  -0.0000 -0.0000 -0.0000\n",
       " -0.0000 -0.0000 -0.0000  ...  -0.0000 -0.0000 -0.0000\n",
       " -0.0000 -0.0000 -0.0000  ...  -0.0000 -0.0000 -0.0000\n",
       "\n",
       "( 6 , 2 ,.,.) = \n",
       "  0.0000  0.0000  0.0000  ...   0.0000  0.0000  0.0000\n",
       "  0.0000  0.0000  0.0000  ...   0.0000  0.0000  0.0000\n",
       "  0.0000  0.0000  0.0000  ...   0.0000  0.0000  0.0000\n",
       "           ...             ⋱             ...          \n",
       "  0.0000  0.0000  0.0000  ...   0.0000  0.0000  0.0000\n",
       "  0.0000  0.0000  0.0000  ...   0.0000  0.0000  0.0000\n",
       "  0.0000  0.0000  0.0000  ...   0.0000  0.0000  0.0000\n",
       "      ⋮  \n",
       "\n",
       "( 7 , 0 ,.,.) = \n",
       "  0.8333  0.8333  0.8333  ...   0.8333  0.8333  0.8333\n",
       "  0.8333  0.8333  0.8333  ...   0.8333  0.8333  0.8333\n",
       "  0.8333  0.8333  0.8333  ...   0.8333  0.8333  0.8333\n",
       "           ...             ⋱             ...          \n",
       "  0.8333  0.8333  0.8333  ...   0.8333  0.8333  0.8333\n",
       "  0.8333  0.8333  0.8333  ...   0.8333  0.8333  0.8333\n",
       "  0.8333  0.8333  0.8333  ...   0.8333  0.8333  0.8333\n",
       "\n",
       "( 7 , 1 ,.,.) = \n",
       " -0.0000 -0.0000 -0.0000  ...  -0.0000 -0.0000 -0.0000\n",
       " -0.0000 -0.0000 -0.0000  ...  -0.0000 -0.0000 -0.0000\n",
       " -0.0000 -0.0000 -0.0000  ...  -0.0000 -0.0000 -0.0000\n",
       "           ...             ⋱             ...          \n",
       " -0.0000 -0.0000 -0.0000  ...  -0.0000 -0.0000 -0.0000\n",
       " -0.0000 -0.0000 -0.0000  ...  -0.0000 -0.0000 -0.0000\n",
       " -0.0000 -0.0000 -0.0000  ...  -0.0000 -0.0000 -0.0000\n",
       "\n",
       "( 7 , 2 ,.,.) = \n",
       "  0.0000  0.0000  0.0000  ...   0.0000  0.0000  0.0000\n",
       "  0.0000  0.0000  0.0000  ...   0.0000  0.0000  0.0000\n",
       "  0.0000  0.0000  0.0000  ...   0.0000  0.0000  0.0000\n",
       "           ...             ⋱             ...          \n",
       "  0.0000  0.0000  0.0000  ...   0.0000  0.0000  0.0000\n",
       "  0.0000  0.0000  0.0000  ...   0.0000  0.0000  0.0000\n",
       "  0.0000  0.0000  0.0000  ...   0.0000  0.0000  0.0000\n",
       "[torch.DoubleTensor of size 8x3x128x128]"
      ]
     },
     "execution_count": 16,
     "metadata": {},
     "output_type": "execute_result"
    }
   ],
   "source": [
    "test_img=clamp_image(fake.data.double().cpu())\n",
    "test_img"
   ]
  },
  {
   "cell_type": "code",
   "execution_count": 7,
   "metadata": {
    "collapsed": false
   },
   "outputs": [
    {
     "data": {
      "text/plain": [
       "Scribbler (\n",
       "  (model): Sequential (\n",
       "  )\n",
       ")"
      ]
     },
     "execution_count": 7,
     "metadata": {},
     "output_type": "execute_result"
    }
   ],
   "source": [
    "scribbler.Scribbler(3,3,32)"
   ]
  },
  {
   "cell_type": "code",
   "execution_count": 7,
   "metadata": {
    "collapsed": false
   },
   "outputs": [],
   "source": [
    "class GramMatrix(nn.Module):\n",
    "\n",
    "    def forward(self, input):\n",
    "        a, b, c, d = input.size()  # a=batch size(=1)\n",
    "        # b=number of feature maps\n",
    "        # (c,d)=dimensions of a f. map (N=c*d)\n",
    "\n",
    "        features = input.view(a * b, c * d)  # resise F_XL into \\hat F_XL\n",
    "        #ignore batch transpose\n",
    "        G = torch.bmm(features, features.t(1,2))  # compute the gram product\n",
    "\n",
    "        # normalize the values of the gram matrix\n",
    "        # by dividing by the number of element in each feature maps.\n",
    "        return G.div(a * b * c * d)"
   ]
  },
  {
   "cell_type": "code",
   "execution_count": 8,
   "metadata": {
    "collapsed": true
   },
   "outputs": [],
   "source": [
    "class FeatureExtractor(nn.Module):\n",
    "    # Extract features from intermediate layers of a network\n",
    "\n",
    "    def __init__(self, submodule, extracted_layers):\n",
    "        super(FeatureExtractor,self).__init__()\n",
    "        self.submodule = submodule\n",
    "        self.extracted_layers=extracted_layers\n",
    "\n",
    "    def forward(self, x):\n",
    "        outputs = []\n",
    "        for name, module in self.submodule._modules.items():\n",
    "            x = module(x)\n",
    "            if name in self.extracted_layers:\n",
    "                outputs += [x]\n",
    "        return outputs + [x]"
   ]
  },
  {
   "cell_type": "code",
   "execution_count": 9,
   "metadata": {
    "collapsed": false
   },
   "outputs": [],
   "source": [
    "def renormalize(lab_img):\n",
    "    \"\"\"\n",
    "    Normalizes the LAB image to lie in range 0-1\n",
    "    \n",
    "    Args:\n",
    "    lab_img : torch.Tensor img in lab space\n",
    "    \n",
    "    Returns:\n",
    "    lab_img : torch.Tensor Normalized lab_img \n",
    "    \"\"\"\n",
    "    mean = torch.zeros(lab_img.size())\n",
    "    stds = torch.zeros(lab_img.size())\n",
    "    \n",
    "    mean[:,0,:,:] = -0.5+0.485\n",
    "    mean[:,1,:,:] = -0.5+0.456\n",
    "    mean[:,2,:,:] = -0.5+0.406\n",
    "    \n",
    "    stds[:,0,:,:] = 0.229\n",
    "    stds[:,1,:,:] = 0.224\n",
    "    stds[:,2,:,:] = 0.225\n",
    "    \n",
    "    return (lab_img - mean)/stds\n"
   ]
  },
  {
   "cell_type": "code",
   "execution_count": 21,
   "metadata": {
    "collapsed": false,
    "scrolled": true
   },
   "outputs": [
    {
     "ename": "RuntimeError",
     "evalue": "in-place operations can be only used on variables that don't share storage with any other variables, but detected that there are 3 objects sharing it",
     "output_type": "error",
     "traceback": [
      "\u001b[0;31m---------------------------------------------------------------------------\u001b[0m",
      "\u001b[0;31mRuntimeError\u001b[0m                              Traceback (most recent call last)",
      "\u001b[0;32m<ipython-input-21-a40f1f6c28d1>\u001b[0m in \u001b[0;36m<module>\u001b[0;34m()\u001b[0m\n\u001b[1;32m      1\u001b[0m \u001b[0mtest\u001b[0m \u001b[0;34m=\u001b[0m \u001b[0mtransforms\u001b[0m\u001b[0;34m.\u001b[0m\u001b[0mCompose\u001b[0m\u001b[0;34m(\u001b[0m\u001b[0;34m[\u001b[0m\u001b[0mrenormalize\u001b[0m\u001b[0;34m]\u001b[0m\u001b[0;34m)\u001b[0m\u001b[0;34m\u001b[0m\u001b[0m\n\u001b[0;32m----> 2\u001b[0;31m \u001b[0ma\u001b[0m\u001b[0;34m=\u001b[0m\u001b[0mtest\u001b[0m\u001b[0;34m(\u001b[0m\u001b[0mfake\u001b[0m\u001b[0;34m)\u001b[0m\u001b[0;34m\u001b[0m\u001b[0m\n\u001b[0m",
      "\u001b[0;32m/root/anaconda2/lib/python2.7/site-packages/torchvision/transforms.pyc\u001b[0m in \u001b[0;36m__call__\u001b[0;34m(self, img)\u001b[0m\n\u001b[1;32m     27\u001b[0m     \u001b[0;32mdef\u001b[0m \u001b[0m__call__\u001b[0m\u001b[0;34m(\u001b[0m\u001b[0mself\u001b[0m\u001b[0;34m,\u001b[0m \u001b[0mimg\u001b[0m\u001b[0;34m)\u001b[0m\u001b[0;34m:\u001b[0m\u001b[0;34m\u001b[0m\u001b[0m\n\u001b[1;32m     28\u001b[0m         \u001b[0;32mfor\u001b[0m \u001b[0mt\u001b[0m \u001b[0;32min\u001b[0m \u001b[0mself\u001b[0m\u001b[0;34m.\u001b[0m\u001b[0mtransforms\u001b[0m\u001b[0;34m:\u001b[0m\u001b[0;34m\u001b[0m\u001b[0m\n\u001b[0;32m---> 29\u001b[0;31m             \u001b[0mimg\u001b[0m \u001b[0;34m=\u001b[0m \u001b[0mt\u001b[0m\u001b[0;34m(\u001b[0m\u001b[0mimg\u001b[0m\u001b[0;34m)\u001b[0m\u001b[0;34m\u001b[0m\u001b[0m\n\u001b[0m\u001b[1;32m     30\u001b[0m         \u001b[0;32mreturn\u001b[0m \u001b[0mimg\u001b[0m\u001b[0;34m\u001b[0m\u001b[0m\n\u001b[1;32m     31\u001b[0m \u001b[0;34m\u001b[0m\u001b[0m\n",
      "\u001b[0;32m/root/anaconda2/lib/python2.7/site-packages/torchvision/transforms.pyc\u001b[0m in \u001b[0;36m__call__\u001b[0;34m(self, tensor)\u001b[0m\n\u001b[1;32m    110\u001b[0m         \u001b[0;31m# TODO: make efficient\u001b[0m\u001b[0;34m\u001b[0m\u001b[0;34m\u001b[0m\u001b[0m\n\u001b[1;32m    111\u001b[0m         \u001b[0;32mfor\u001b[0m \u001b[0mt\u001b[0m\u001b[0;34m,\u001b[0m \u001b[0mm\u001b[0m\u001b[0;34m,\u001b[0m \u001b[0ms\u001b[0m \u001b[0;32min\u001b[0m \u001b[0mzip\u001b[0m\u001b[0;34m(\u001b[0m\u001b[0mtensor\u001b[0m\u001b[0;34m,\u001b[0m \u001b[0mself\u001b[0m\u001b[0;34m.\u001b[0m\u001b[0mmean\u001b[0m\u001b[0;34m,\u001b[0m \u001b[0mself\u001b[0m\u001b[0;34m.\u001b[0m\u001b[0mstd\u001b[0m\u001b[0;34m)\u001b[0m\u001b[0;34m:\u001b[0m\u001b[0;34m\u001b[0m\u001b[0m\n\u001b[0;32m--> 112\u001b[0;31m             \u001b[0mt\u001b[0m\u001b[0;34m.\u001b[0m\u001b[0msub_\u001b[0m\u001b[0;34m(\u001b[0m\u001b[0mm\u001b[0m\u001b[0;34m)\u001b[0m\u001b[0;34m.\u001b[0m\u001b[0mdiv_\u001b[0m\u001b[0;34m(\u001b[0m\u001b[0ms\u001b[0m\u001b[0;34m)\u001b[0m\u001b[0;34m\u001b[0m\u001b[0m\n\u001b[0m\u001b[1;32m    113\u001b[0m         \u001b[0;32mreturn\u001b[0m \u001b[0mtensor\u001b[0m\u001b[0;34m\u001b[0m\u001b[0m\n\u001b[1;32m    114\u001b[0m \u001b[0;34m\u001b[0m\u001b[0m\n",
      "\u001b[0;32m/root/anaconda2/lib/python2.7/site-packages/torch/autograd/variable.pyc\u001b[0m in \u001b[0;36msub_\u001b[0;34m(self, other)\u001b[0m\n\u001b[1;32m    333\u001b[0m \u001b[0;34m\u001b[0m\u001b[0m\n\u001b[1;32m    334\u001b[0m     \u001b[0;32mdef\u001b[0m \u001b[0msub_\u001b[0m\u001b[0;34m(\u001b[0m\u001b[0mself\u001b[0m\u001b[0;34m,\u001b[0m \u001b[0mother\u001b[0m\u001b[0;34m)\u001b[0m\u001b[0;34m:\u001b[0m\u001b[0;34m\u001b[0m\u001b[0m\n\u001b[0;32m--> 335\u001b[0;31m         \u001b[0;32mreturn\u001b[0m \u001b[0mself\u001b[0m\u001b[0;34m.\u001b[0m\u001b[0m_sub\u001b[0m\u001b[0;34m(\u001b[0m\u001b[0mother\u001b[0m\u001b[0;34m,\u001b[0m \u001b[0mTrue\u001b[0m\u001b[0;34m)\u001b[0m\u001b[0;34m\u001b[0m\u001b[0m\n\u001b[0m\u001b[1;32m    336\u001b[0m \u001b[0;34m\u001b[0m\u001b[0m\n\u001b[1;32m    337\u001b[0m     \u001b[0;32mdef\u001b[0m \u001b[0mmul\u001b[0m\u001b[0;34m(\u001b[0m\u001b[0mself\u001b[0m\u001b[0;34m,\u001b[0m \u001b[0mother\u001b[0m\u001b[0;34m)\u001b[0m\u001b[0;34m:\u001b[0m\u001b[0;34m\u001b[0m\u001b[0m\n",
      "\u001b[0;32m/root/anaconda2/lib/python2.7/site-packages/torch/autograd/variable.pyc\u001b[0m in \u001b[0;36m_sub\u001b[0;34m(self, other, inplace)\u001b[0m\n\u001b[1;32m    327\u001b[0m         \u001b[0;32melse\u001b[0m\u001b[0;34m:\u001b[0m\u001b[0;34m\u001b[0m\u001b[0m\n\u001b[1;32m    328\u001b[0m             \u001b[0;32massert\u001b[0m \u001b[0;32mnot\u001b[0m \u001b[0mtorch\u001b[0m\u001b[0;34m.\u001b[0m\u001b[0mis_tensor\u001b[0m\u001b[0;34m(\u001b[0m\u001b[0mother\u001b[0m\u001b[0;34m)\u001b[0m\u001b[0;34m\u001b[0m\u001b[0m\n\u001b[0;32m--> 329\u001b[0;31m             \u001b[0;32mreturn\u001b[0m \u001b[0mSubConstant\u001b[0m\u001b[0;34m.\u001b[0m\u001b[0mapply\u001b[0m\u001b[0;34m(\u001b[0m\u001b[0mself\u001b[0m\u001b[0;34m,\u001b[0m \u001b[0mother\u001b[0m\u001b[0;34m,\u001b[0m \u001b[0minplace\u001b[0m\u001b[0;34m)\u001b[0m\u001b[0;34m\u001b[0m\u001b[0m\n\u001b[0m\u001b[1;32m    330\u001b[0m \u001b[0;34m\u001b[0m\u001b[0m\n\u001b[1;32m    331\u001b[0m     \u001b[0;32mdef\u001b[0m \u001b[0msub\u001b[0m\u001b[0;34m(\u001b[0m\u001b[0mself\u001b[0m\u001b[0;34m,\u001b[0m \u001b[0mother\u001b[0m\u001b[0;34m)\u001b[0m\u001b[0;34m:\u001b[0m\u001b[0;34m\u001b[0m\u001b[0m\n",
      "\u001b[0;31mRuntimeError\u001b[0m: in-place operations can be only used on variables that don't share storage with any other variables, but detected that there are 3 objects sharing it"
     ]
    }
   ],
   "source": [
    "test = transforms.Compose([renormalize])\n",
    "a=test(fake)"
   ]
  },
  {
   "cell_type": "code",
   "execution_count": 10,
   "metadata": {
    "collapsed": false,
    "scrolled": true
   },
   "outputs": [],
   "source": [
    "def save_network(model, network_label, epoch_label, gpu_id, save_dir):\n",
    "    save_filename = '%s_net_%s.pth' % (epoch_label, network_label)\n",
    "    if not os.path.exists(save_dir):\n",
    "        os.makedirs(save_dir)\n",
    "    save_path = os.path.join(save_dir, save_filename)\n",
    "    torch.save(model.cpu().state_dict(), save_path)\n",
    "    model.cuda(device_id=gpu_id)\n",
    "def load_network(model, network_label, epoch_label,save_dir):\n",
    "    save_filename = '%s_net_%s.pth' % (epoch_label, network_label)\n",
    "    save_path = os.path.join(save_dir, save_filename)\n",
    "    model.load_state_dict(torch.load(save_path))"
   ]
  },
  {
   "cell_type": "code",
   "execution_count": 35,
   "metadata": {
    "collapsed": false
   },
   "outputs": [
    {
     "ename": "RuntimeError",
     "evalue": "tensors are on different GPUs",
     "output_type": "error",
     "traceback": [
      "\u001b[0;31m---------------------------------------------------------------------------\u001b[0m",
      "\u001b[0;31mRuntimeError\u001b[0m                              Traceback (most recent call last)",
      "\u001b[0;32m<ipython-input-35-b3d643d97e14>\u001b[0m in \u001b[0;36m<module>\u001b[0;34m()\u001b[0m\n\u001b[1;32m      4\u001b[0m \u001b[0mL\u001b[0m\u001b[0;34m,\u001b[0m\u001b[0mA\u001b[0m\u001b[0;34m,\u001b[0m\u001b[0mB\u001b[0m\u001b[0;34m=\u001b[0m\u001b[0mtorch\u001b[0m\u001b[0;34m.\u001b[0m\u001b[0mchunk\u001b[0m\u001b[0;34m(\u001b[0m\u001b[0mlab_var\u001b[0m\u001b[0;34m,\u001b[0m\u001b[0;36m3\u001b[0m\u001b[0;34m,\u001b[0m\u001b[0mdim\u001b[0m\u001b[0;34m=\u001b[0m\u001b[0;36m1\u001b[0m\u001b[0;34m)\u001b[0m\u001b[0;34m\u001b[0m\u001b[0m\n\u001b[1;32m      5\u001b[0m \u001b[0mLLL\u001b[0m\u001b[0;34m=\u001b[0m\u001b[0mtorch\u001b[0m\u001b[0;34m.\u001b[0m\u001b[0mcat\u001b[0m\u001b[0;34m(\u001b[0m\u001b[0;34m(\u001b[0m\u001b[0mL\u001b[0m\u001b[0;34m,\u001b[0m\u001b[0mL\u001b[0m\u001b[0;34m,\u001b[0m\u001b[0mL\u001b[0m\u001b[0;34m)\u001b[0m\u001b[0;34m,\u001b[0m\u001b[0;36m1\u001b[0m\u001b[0;34m)\u001b[0m\u001b[0;34m\u001b[0m\u001b[0m\n\u001b[0;32m----> 6\u001b[0;31m \u001b[0mout\u001b[0m\u001b[0;34m=\u001b[0m\u001b[0mfeat_model\u001b[0m\u001b[0;34m.\u001b[0m\u001b[0mfeatures\u001b[0m\u001b[0;34m(\u001b[0m\u001b[0mLLL\u001b[0m\u001b[0;34m)\u001b[0m\u001b[0;34m\u001b[0m\u001b[0m\n\u001b[0m",
      "\u001b[0;32m/root/anaconda2/lib/python2.7/site-packages/torch/nn/modules/module.pyc\u001b[0m in \u001b[0;36m__call__\u001b[0;34m(self, *input, **kwargs)\u001b[0m\n\u001b[1;32m    222\u001b[0m         \u001b[0;32mfor\u001b[0m \u001b[0mhook\u001b[0m \u001b[0;32min\u001b[0m \u001b[0mself\u001b[0m\u001b[0;34m.\u001b[0m\u001b[0m_forward_pre_hooks\u001b[0m\u001b[0;34m.\u001b[0m\u001b[0mvalues\u001b[0m\u001b[0;34m(\u001b[0m\u001b[0;34m)\u001b[0m\u001b[0;34m:\u001b[0m\u001b[0;34m\u001b[0m\u001b[0m\n\u001b[1;32m    223\u001b[0m             \u001b[0mhook\u001b[0m\u001b[0;34m(\u001b[0m\u001b[0mself\u001b[0m\u001b[0;34m,\u001b[0m \u001b[0minput\u001b[0m\u001b[0;34m)\u001b[0m\u001b[0;34m\u001b[0m\u001b[0m\n\u001b[0;32m--> 224\u001b[0;31m         \u001b[0mresult\u001b[0m \u001b[0;34m=\u001b[0m \u001b[0mself\u001b[0m\u001b[0;34m.\u001b[0m\u001b[0mforward\u001b[0m\u001b[0;34m(\u001b[0m\u001b[0;34m*\u001b[0m\u001b[0minput\u001b[0m\u001b[0;34m,\u001b[0m \u001b[0;34m**\u001b[0m\u001b[0mkwargs\u001b[0m\u001b[0;34m)\u001b[0m\u001b[0;34m\u001b[0m\u001b[0m\n\u001b[0m\u001b[1;32m    225\u001b[0m         \u001b[0;32mfor\u001b[0m \u001b[0mhook\u001b[0m \u001b[0;32min\u001b[0m \u001b[0mself\u001b[0m\u001b[0;34m.\u001b[0m\u001b[0m_forward_hooks\u001b[0m\u001b[0;34m.\u001b[0m\u001b[0mvalues\u001b[0m\u001b[0;34m(\u001b[0m\u001b[0;34m)\u001b[0m\u001b[0;34m:\u001b[0m\u001b[0;34m\u001b[0m\u001b[0m\n\u001b[1;32m    226\u001b[0m             \u001b[0mhook_result\u001b[0m \u001b[0;34m=\u001b[0m \u001b[0mhook\u001b[0m\u001b[0;34m(\u001b[0m\u001b[0mself\u001b[0m\u001b[0;34m,\u001b[0m \u001b[0minput\u001b[0m\u001b[0;34m,\u001b[0m \u001b[0mresult\u001b[0m\u001b[0;34m)\u001b[0m\u001b[0;34m\u001b[0m\u001b[0m\n",
      "\u001b[0;32m/root/anaconda2/lib/python2.7/site-packages/torch/nn/modules/container.pyc\u001b[0m in \u001b[0;36mforward\u001b[0;34m(self, input)\u001b[0m\n\u001b[1;32m     65\u001b[0m     \u001b[0;32mdef\u001b[0m \u001b[0mforward\u001b[0m\u001b[0;34m(\u001b[0m\u001b[0mself\u001b[0m\u001b[0;34m,\u001b[0m \u001b[0minput\u001b[0m\u001b[0;34m)\u001b[0m\u001b[0;34m:\u001b[0m\u001b[0;34m\u001b[0m\u001b[0m\n\u001b[1;32m     66\u001b[0m         \u001b[0;32mfor\u001b[0m \u001b[0mmodule\u001b[0m \u001b[0;32min\u001b[0m \u001b[0mself\u001b[0m\u001b[0;34m.\u001b[0m\u001b[0m_modules\u001b[0m\u001b[0;34m.\u001b[0m\u001b[0mvalues\u001b[0m\u001b[0;34m(\u001b[0m\u001b[0;34m)\u001b[0m\u001b[0;34m:\u001b[0m\u001b[0;34m\u001b[0m\u001b[0m\n\u001b[0;32m---> 67\u001b[0;31m             \u001b[0minput\u001b[0m \u001b[0;34m=\u001b[0m \u001b[0mmodule\u001b[0m\u001b[0;34m(\u001b[0m\u001b[0minput\u001b[0m\u001b[0;34m)\u001b[0m\u001b[0;34m\u001b[0m\u001b[0m\n\u001b[0m\u001b[1;32m     68\u001b[0m         \u001b[0;32mreturn\u001b[0m \u001b[0minput\u001b[0m\u001b[0;34m\u001b[0m\u001b[0m\n\u001b[1;32m     69\u001b[0m \u001b[0;34m\u001b[0m\u001b[0m\n",
      "\u001b[0;32m/root/anaconda2/lib/python2.7/site-packages/torch/nn/modules/module.pyc\u001b[0m in \u001b[0;36m__call__\u001b[0;34m(self, *input, **kwargs)\u001b[0m\n\u001b[1;32m    222\u001b[0m         \u001b[0;32mfor\u001b[0m \u001b[0mhook\u001b[0m \u001b[0;32min\u001b[0m \u001b[0mself\u001b[0m\u001b[0;34m.\u001b[0m\u001b[0m_forward_pre_hooks\u001b[0m\u001b[0;34m.\u001b[0m\u001b[0mvalues\u001b[0m\u001b[0;34m(\u001b[0m\u001b[0;34m)\u001b[0m\u001b[0;34m:\u001b[0m\u001b[0;34m\u001b[0m\u001b[0m\n\u001b[1;32m    223\u001b[0m             \u001b[0mhook\u001b[0m\u001b[0;34m(\u001b[0m\u001b[0mself\u001b[0m\u001b[0;34m,\u001b[0m \u001b[0minput\u001b[0m\u001b[0;34m)\u001b[0m\u001b[0;34m\u001b[0m\u001b[0m\n\u001b[0;32m--> 224\u001b[0;31m         \u001b[0mresult\u001b[0m \u001b[0;34m=\u001b[0m \u001b[0mself\u001b[0m\u001b[0;34m.\u001b[0m\u001b[0mforward\u001b[0m\u001b[0;34m(\u001b[0m\u001b[0;34m*\u001b[0m\u001b[0minput\u001b[0m\u001b[0;34m,\u001b[0m \u001b[0;34m**\u001b[0m\u001b[0mkwargs\u001b[0m\u001b[0;34m)\u001b[0m\u001b[0;34m\u001b[0m\u001b[0m\n\u001b[0m\u001b[1;32m    225\u001b[0m         \u001b[0;32mfor\u001b[0m \u001b[0mhook\u001b[0m \u001b[0;32min\u001b[0m \u001b[0mself\u001b[0m\u001b[0;34m.\u001b[0m\u001b[0m_forward_hooks\u001b[0m\u001b[0;34m.\u001b[0m\u001b[0mvalues\u001b[0m\u001b[0;34m(\u001b[0m\u001b[0;34m)\u001b[0m\u001b[0;34m:\u001b[0m\u001b[0;34m\u001b[0m\u001b[0m\n\u001b[1;32m    226\u001b[0m             \u001b[0mhook_result\u001b[0m \u001b[0;34m=\u001b[0m \u001b[0mhook\u001b[0m\u001b[0;34m(\u001b[0m\u001b[0mself\u001b[0m\u001b[0;34m,\u001b[0m \u001b[0minput\u001b[0m\u001b[0;34m,\u001b[0m \u001b[0mresult\u001b[0m\u001b[0;34m)\u001b[0m\u001b[0;34m\u001b[0m\u001b[0m\n",
      "\u001b[0;32m/root/anaconda2/lib/python2.7/site-packages/torch/nn/modules/conv.pyc\u001b[0m in \u001b[0;36mforward\u001b[0;34m(self, input)\u001b[0m\n\u001b[1;32m    252\u001b[0m     \u001b[0;32mdef\u001b[0m \u001b[0mforward\u001b[0m\u001b[0;34m(\u001b[0m\u001b[0mself\u001b[0m\u001b[0;34m,\u001b[0m \u001b[0minput\u001b[0m\u001b[0;34m)\u001b[0m\u001b[0;34m:\u001b[0m\u001b[0;34m\u001b[0m\u001b[0m\n\u001b[1;32m    253\u001b[0m         return F.conv2d(input, self.weight, self.bias, self.stride,\n\u001b[0;32m--> 254\u001b[0;31m                         self.padding, self.dilation, self.groups)\n\u001b[0m\u001b[1;32m    255\u001b[0m \u001b[0;34m\u001b[0m\u001b[0m\n\u001b[1;32m    256\u001b[0m \u001b[0;34m\u001b[0m\u001b[0m\n",
      "\u001b[0;32m/root/anaconda2/lib/python2.7/site-packages/torch/nn/functional.pyc\u001b[0m in \u001b[0;36mconv2d\u001b[0;34m(input, weight, bias, stride, padding, dilation, groups)\u001b[0m\n\u001b[1;32m     50\u001b[0m     f = ConvNd(_pair(stride), _pair(padding), _pair(dilation), False,\n\u001b[1;32m     51\u001b[0m                _pair(0), groups, torch.backends.cudnn.benchmark, torch.backends.cudnn.enabled)\n\u001b[0;32m---> 52\u001b[0;31m     \u001b[0;32mreturn\u001b[0m \u001b[0mf\u001b[0m\u001b[0;34m(\u001b[0m\u001b[0minput\u001b[0m\u001b[0;34m,\u001b[0m \u001b[0mweight\u001b[0m\u001b[0;34m,\u001b[0m \u001b[0mbias\u001b[0m\u001b[0;34m)\u001b[0m\u001b[0;34m\u001b[0m\u001b[0m\n\u001b[0m\u001b[1;32m     53\u001b[0m \u001b[0;34m\u001b[0m\u001b[0m\n\u001b[1;32m     54\u001b[0m \u001b[0;34m\u001b[0m\u001b[0m\n",
      "\u001b[0;31mRuntimeError\u001b[0m: tensors are on different GPUs"
     ]
    }
   ],
   "source": [
    "#TODO normalize and minus mean\n",
    "feat_model=models.vgg19(pretrained=True)\n",
    "lab_var = fake\n",
    "L,A,B=torch.chunk(lab_var,3,dim=1)\n",
    "LLL=torch.cat((L,L,L),1)\n",
    "out=feat_model.features(LLL)"
   ]
  },
  {
   "cell_type": "code",
   "execution_count": 81,
   "metadata": {
    "collapsed": true
   },
   "outputs": [],
   "source": [
    "import torchvision.transforms\n",
    "from __future__ import division\n",
    "import torch\n",
    "import math\n",
    "import random\n",
    "from PIL import Image, ImageOps\n",
    "try:\n",
    "    import accimage\n",
    "except ImportError:\n",
    "    accimage = None\n",
    "import numpy as np\n",
    "import numbers\n",
    "import types\n",
    "import collections"
   ]
  },
  {
   "cell_type": "code",
   "execution_count": 124,
   "metadata": {
    "collapsed": false
   },
   "outputs": [],
   "source": [
    "\n",
    "class Compose(object):\n",
    "    \"\"\"Composes several transforms together.\n",
    "    Args:\n",
    "        transforms (list of ``Transform`` objects): list of transforms to compose.\n",
    "    Example:\n",
    "        >>> transforms.Compose([\n",
    "        >>>     transforms.CenterCrop(10),\n",
    "        >>>     transforms.ToTensor(),\n",
    "        >>> ])\n",
    "    \"\"\"\n",
    "\n",
    "    def __init__(self, transforms):\n",
    "        self.transforms = transforms\n",
    "\n",
    "    def __call__(self, imgs):\n",
    "        for t in self.transforms:\n",
    "            imgs = t(imgs)\n",
    "        return imgs\n",
    "\n",
    "class Scale(object):\n",
    "    \"\"\"Rescale multiple input PIL.Image to the given size.\n",
    "    Args:\n",
    "        size (sequence or int): Desired output size. If size is a sequence like\n",
    "            (w, h), output size will be matched to this. If size is an int,\n",
    "            smaller edge of the image will be matched to this number.\n",
    "            i.e, if height > width, then image will be rescaled to\n",
    "            (size * height / width, size)\n",
    "        interpolation (int, optional): Desired interpolation. Default is\n",
    "            ``PIL.Image.BILINEAR``\n",
    "    \"\"\"\n",
    "\n",
    "    def __init__(self, size, interpolation=Image.BILINEAR):\n",
    "        assert isinstance(size, int) or (isinstance(size, collections.Iterable) and len(size) == 2)\n",
    "        self.size = size\n",
    "        self.interpolation = interpolation\n",
    "        self.transform = torchvision.transforms.Scale(size)\n",
    "\n",
    "    def __call__(self, imgs):\n",
    "        \"\"\"\n",
    "        Args:\n",
    "            imgs (list of PIL.Image): Images to be scaled.\n",
    "        Returns:\n",
    "            list of PIL.Image: Rescaled images.\n",
    "        \"\"\"\n",
    "        results = []\n",
    "        #w,h = imgs[0].size\n",
    "        for img in imgs:\n",
    "            if isinstance(self.size, int):\n",
    "                #ww, hh = img.size\n",
    "                \n",
    "                #img,skg,seg have to all have the same size\n",
    "                #assert w==ww, 'inconsistent image size'\n",
    "                #assert h==hh, 'inconsistent image size'\n",
    "                \n",
    "                results.append(self.transform(img))\n",
    "                \n",
    "        return [self.transform(img) for img in imgs]\n",
    "\n",
    "class CenterCrop(object):\n",
    "    \"\"\"Crops the given PIL.Image at the center.\n",
    "    Args:\n",
    "        size (sequence or int): Desired output size of the crop. If size is an\n",
    "            int instead of sequence like (h, w), a square crop (size, size) is\n",
    "            made.\n",
    "    \"\"\"\n",
    "\n",
    "    def __init__(self, size):\n",
    "        if isinstance(size, numbers.Number):\n",
    "            self.size = (int(size), int(size))\n",
    "        else:\n",
    "            self.size = size\n",
    "        self.transform = torchvision.transforms.CenterCrop(size)\n",
    "\n",
    "    def __call__(self, imgs):\n",
    "        \"\"\"\n",
    "        Args:\n",
    "            img (PIL.Image): Image to be cropped.\n",
    "        Returns:\n",
    "            PIL.Image: Cropped image.\n",
    "        \"\"\"\n",
    "        return [self.transform(img) for img in imgs]\n",
    "    \n",
    "class Pad(object):\n",
    "    \"\"\"Pad the given PIL.Image on all sides with the given \"pad\" value.\n",
    "    Args:\n",
    "        padding (int or tuple): Padding on each border. If a single int is provided this\n",
    "            is used to pad all borders. If tuple of length 2 is provided this is the padding\n",
    "            on left/right and top/bottom respectively. If a tuple of length 4 is provided\n",
    "            this is the padding for the left, top, right and bottom borders\n",
    "            respectively.\n",
    "        fill: Pixel fill value. Default is 0. If a tuple of\n",
    "            length 3, it is used to fill R, G, B channels respectively.\n",
    "    \"\"\"\n",
    "\n",
    "    def __init__(self, padding, fill=0):\n",
    "        assert isinstance(padding, (numbers.Number, tuple))\n",
    "        assert isinstance(fill, (numbers.Number, str, tuple))\n",
    "        if isinstance(padding, collections.Sequence) and len(padding) not in [2, 4]:\n",
    "            raise ValueError(\"Padding must be an int or a 2, or 4 element tuple, not a \" +\n",
    "                             \"{} element tuple\".format(len(padding)))\n",
    "\n",
    "        self.padding = padding\n",
    "        self.fill = fill\n",
    "        \n",
    "        self.transform = torchvision.transforms.Pad(padding,fill)\n",
    "\n",
    "    def __call__(self, imgs):\n",
    "        \"\"\"\n",
    "        Args:\n",
    "            img (PIL.Image): Image to be padded.\n",
    "        Returns:\n",
    "            PIL.Image: Padded image.\n",
    "        \"\"\"\n",
    "        \n",
    "        return [self.transform(img) for img in imgs]\n",
    "\n",
    "class RandomCrop(object):\n",
    "    \"\"\"Crop the given PIL.Image at a random location.\n",
    "    Args:\n",
    "        size (sequence or int): Desired output size of the crop. If size is an\n",
    "            int instead of sequence like (h, w), a square crop (size, size) is\n",
    "            made.\n",
    "        padding (int or sequence, optional): Optional padding on each border\n",
    "            of the image. Default is 0, i.e no padding. If a sequence of length\n",
    "            4 is provided, it is used to pad left, top, right, bottom borders\n",
    "            respectively.\n",
    "    \"\"\"\n",
    "\n",
    "    def __init__(self, size, padding=0):\n",
    "        if isinstance(size, numbers.Number):\n",
    "            self.size = (int(size), int(size))\n",
    "        else:\n",
    "            self.size = size\n",
    "        self.padding = padding\n",
    "\n",
    "    def __call__(self, imgs):\n",
    "        \"\"\"\n",
    "        Args:\n",
    "            img (PIL.Image): Image to be cropped.\n",
    "        Returns:\n",
    "            PIL.Image: Cropped image.\n",
    "        \"\"\"\n",
    "        if self.padding > 0:\n",
    "            imgs = [ImageOps.expand(img, border=self.padding, fill=0) for img in imgs]\n",
    "\n",
    "        w, h = imgs[0].size\n",
    "        th, tw = self.size\n",
    "        if w == tw and h == th:\n",
    "            return imgs\n",
    "\n",
    "        x1 = random.randint(0, w - tw)\n",
    "        y1 = random.randint(0, h - th)\n",
    "        return [img.crop((x1, y1, x1 + tw, y1 + th)) for img in imgs]\n",
    "\n",
    "class RandomHorizontalFlip(object):\n",
    "    \"\"\"Horizontally flip the given PIL.Image randomly with a probability of 0.5.\"\"\"\n",
    "\n",
    "    def __call__(self, imgs):\n",
    "        \"\"\"\n",
    "        Args:\n",
    "            img (PIL.Image): Image to be flipped.\n",
    "        Returns:\n",
    "            PIL.Image: Randomly flipped image.\n",
    "        \"\"\"\n",
    "        if random.random() < 0.5:\n",
    "            return [img.transpose(Image.FLIP_LEFT_RIGHT) for img in imgs]\n",
    "        return imgs\n",
    "\n",
    "class RandomSizedCrop(object):\n",
    "    \"\"\"Crop the given PIL.Image to random size and aspect ratio.\n",
    "    A crop of random size of (0.08 to 1.0) of the original size and a random\n",
    "    aspect ratio of 3/4 to 4/3 of the original aspect ratio is made. This crop\n",
    "    is finally resized to given size.\n",
    "    This is popularly used to train the Inception networks.\n",
    "    Args:\n",
    "        size: size of the smaller edge\n",
    "        interpolation: Default: PIL.Image.BILINEAR\n",
    "    \"\"\"\n",
    "\n",
    "    def __init__(self, size, min_resize=0.08,max_resize=1.0,interpolation=Image.BILINEAR):\n",
    "        self.size = size\n",
    "        self.interpolation = interpolation\n",
    "        self.resize_size = (min_resize,max_resize)\n",
    "\n",
    "    def __call__(self, imgs):\n",
    "        for attempt in range(10):\n",
    "            area = imgs[0].size[0] * imgs[0].size[1]\n",
    "            target_area = random.uniform(self.resize_size[0], self.resize_size[1]) * area\n",
    "            aspect_ratio = random.uniform(3. / 4, 4. / 3)\n",
    "\n",
    "            w = int(round(math.sqrt(target_area * aspect_ratio)))\n",
    "            h = int(round(math.sqrt(target_area / aspect_ratio)))\n",
    "\n",
    "            if random.random() < 0.5:\n",
    "                w, h = h, w\n",
    "\n",
    "            if w <= imgs[0].size[0] and h <= imgs[0].size[1]:\n",
    "                x1 = random.randint(0, imgs[0].size[0] - w)\n",
    "                y1 = random.randint(0, imgs[0].size[1] - h)\n",
    "\n",
    "                imgs = [img.crop((x1, y1, x1 + w, y1 + h)) for img in imgs]\n",
    "                assert([img.size == (w, h) for img in imgs])\n",
    "\n",
    "                return [img.resize((self.size, self.size), self.interpolation) for img in imgs]\n",
    "\n",
    "        # Fallback\n",
    "        scale = Scale(self.size, interpolation=self.interpolation)\n",
    "        crop = CenterCrop(self.size)\n",
    "        return crop(scale(imgs))\n",
    "\n",
    "    "
   ]
  },
  {
   "cell_type": "code",
   "execution_count": null,
   "metadata": {
    "collapsed": true
   },
   "outputs": [],
   "source": []
  },
  {
   "cell_type": "code",
   "execution_count": 17,
   "metadata": {
    "collapsed": false
   },
   "outputs": [
    {
     "data": {
      "text/plain": [
       "\n",
       "( 0 , 0 ,.,.) = \n",
       "  3.7045e+00  3.7045e+00  3.7045e+00  ...   3.7045e+00  3.7045e+00  3.7045e+00\n",
       "  3.7045e+00  3.7045e+00  3.7045e+00  ...   3.7045e+00  3.7045e+00  3.7045e+00\n",
       "  3.7045e+00  3.7045e+00  3.7045e+00  ...   3.7045e+00  3.7045e+00  3.7045e+00\n",
       "                 ...                   ⋱                   ...                \n",
       "  3.7045e+00  3.7045e+00  3.7045e+00  ...   3.7045e+00  3.7045e+00  3.7045e+00\n",
       "  3.7045e+00  3.7045e+00  3.7045e+00  ...   3.7045e+00  3.7045e+00  3.7045e+00\n",
       "  3.7045e+00  3.7045e+00  3.7045e+00  ...   3.7045e+00  3.7045e+00  3.7045e+00\n",
       "\n",
       "( 0 , 1 ,.,.) = \n",
       "  6.5435e-02  6.5435e-02  6.5435e-02  ...   6.5435e-02  6.5435e-02  6.5435e-02\n",
       "  6.5435e-02  6.5435e-02  6.5435e-02  ...   6.5435e-02  6.5435e-02  6.5435e-02\n",
       "  6.5435e-02  6.5435e-02  6.5435e-02  ...   6.5435e-02  6.5435e-02  6.5435e-02\n",
       "                 ...                   ⋱                   ...                \n",
       "  6.5435e-02  6.5435e-02  6.5435e-02  ...   6.5435e-02  6.5435e-02  6.5435e-02\n",
       "  6.5435e-02  6.5435e-02  6.5435e-02  ...   6.5435e-02  6.5435e-02  6.5435e-02\n",
       "  6.5435e-02  6.5435e-02  6.5435e-02  ...   6.5435e-02  6.5435e-02  6.5435e-02\n",
       "\n",
       "( 0 , 2 ,.,.) = \n",
       "  6.5629e-02  6.5629e-02  6.5629e-02  ...   6.5629e-02  6.5629e-02  6.5629e-02\n",
       "  6.5629e-02  6.5629e-02  6.5629e-02  ...   6.5629e-02  6.5629e-02  6.5629e-02\n",
       "  6.5629e-02  6.5629e-02  6.5629e-02  ...   6.5629e-02  6.5629e-02  6.5629e-02\n",
       "                 ...                   ⋱                   ...                \n",
       "  6.5629e-02  6.5629e-02  6.5629e-02  ...   6.5629e-02  6.5629e-02  6.5629e-02\n",
       "  6.5629e-02  6.5629e-02  6.5629e-02  ...   6.5629e-02  6.5629e-02  6.5629e-02\n",
       "  6.5629e-02  6.5629e-02  6.5629e-02  ...   6.5629e-02  6.5629e-02  6.5629e-02\n",
       "[torch.cuda.DoubleTensor of size 1x3x224x224 (GPU 1)]"
      ]
     },
     "execution_count": 17,
     "metadata": {},
     "output_type": "execute_result"
    }
   ],
   "source": [
    "renormalize(img)"
   ]
  },
  {
   "cell_type": "code",
   "execution_count": 125,
   "metadata": {
    "collapsed": false
   },
   "outputs": [],
   "source": [
    "tf = Compose([RandomSizedCrop(224,0.5,1),RandomHorizontalFlip()])\n",
    "output = tf(images)"
   ]
  },
  {
   "cell_type": "code",
   "execution_count": 127,
   "metadata": {
    "collapsed": false
   },
   "outputs": [
    {
     "data": {
      "image/png": "[encoded data removed]",
      "text/plain": [
       "<PIL.Image.Image image mode=RGB size=224x224 at 0x7F08C6BB5950>"
      ]
     },
     "execution_count": 127,
     "metadata": {},
     "output_type": "execute_result"
    }
   ],
   "source": [
    "output[0]"
   ]
  },
  {
   "cell_type": "code",
   "execution_count": 33,
   "metadata": {
    "collapsed": false
   },
   "outputs": [],
   "source": [
    "images = []\n",
    "img_dir = '/home/psangkloy3/training_handbags_pretrain/'\n",
    "suffix = 'wendy/100_AB.jpg'\n",
    "paths = [img_dir+p+suffix for p in ['val_img/','val_skg/','val_seg/']]\n",
    "for path in paths:\n",
    "    with open(path, 'rb') as f:\n",
    "        with Image.open(f) as img:\n",
    "            images.append(img.convert('RGB'))\n",
    "            "
   ]
  },
  {
   "cell_type": "code",
   "execution_count": 43,
   "metadata": {
    "collapsed": true
   },
   "outputs": [],
   "source": [
    "import glob\n",
    "def make_dataset(dir):\n",
    "    train_img=glob.glob(dir+'val_img/wendy/*.jpg')\n",
    "    train_img=sorted(train_img)\n",
    "    train_skg=glob.glob(dir+'val_skg/wendy/*.jpg')\n",
    "    train_skg=sorted(train_skg)\n",
    "    train_seg=glob.glob(dir+'val_seg/wendy/*.jpg')\n",
    "    train_seg=sorted(train_seg)\n",
    "    \n",
    "    return zip(train_img,train_skg,train_seg)\n"
   ]
  },
  {
   "cell_type": "code",
   "execution_count": 44,
   "metadata": {
    "collapsed": false
   },
   "outputs": [],
   "source": [
    "test = make_dataset(img_dir)"
   ]
  },
  {
   "cell_type": "code",
   "execution_count": 47,
   "metadata": {
    "collapsed": true
   },
   "outputs": [],
   "source": [
    "def pil_loader(path):\n",
    "    # open path as file to avoid ResourceWarning (https://github.com/python-pillow/Pillow/issues/835)\n",
    "    with open(path, 'rb') as f:\n",
    "        with Image.open(f) as img:\n",
    "            return img.convert('RGB')"
   ]
  },
  {
   "cell_type": "code",
   "execution_count": 56,
   "metadata": {
    "collapsed": false,
    "scrolled": true
   },
   "outputs": [
    {
     "data": {
      "image/png": "[encoded data removed]",
      "text/plain": [
       "<PIL.Image.Image image mode=RGB size=256x256 at 0x7F08C82E5790>"
      ]
     },
     "execution_count": 56,
     "metadata": {},
     "output_type": "execute_result"
    }
   ],
   "source": [
    "images[0]"
   ]
  },
  {
   "cell_type": "code",
   "execution_count": 51,
   "metadata": {
    "collapsed": false
   },
   "outputs": [
    {
     "data": {
      "text/plain": [
       "(256, 256)"
      ]
     },
     "execution_count": 51,
     "metadata": {},
     "output_type": "execute_result"
    }
   ],
   "source": []
  },
  {
   "cell_type": "code",
   "execution_count": null,
   "metadata": {
    "collapsed": true
   },
   "outputs": [],
   "source": []
  }
 ],
 "metadata": {
  "kernelspec": {
   "display_name": "Python [Root]",
   "language": "python",
   "name": "Python [Root]"
  },
  "language_info": {
   "codemirror_mode": {
    "name": "ipython",
    "version": 2
   },
   "file_extension": ".py",
   "mimetype": "text/x-python",
   "name": "python",
   "nbconvert_exporter": "python",
   "pygments_lexer": "ipython2",
   "version": "2.7.12"
  }
 },
 "nbformat": 4,
 "nbformat_minor": 0
}
