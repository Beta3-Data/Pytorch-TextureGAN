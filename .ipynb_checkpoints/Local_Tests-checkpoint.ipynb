{
 "cells": [
  {
   "cell_type": "code",
   "execution_count": 83,
   "metadata": {
    "collapsed": false
   },
   "outputs": [
    {
     "name": "stdout",
     "output_type": "stream",
     "text": [
      "The autoreload extension is already loaded. To reload it, use:\n",
      "  %reload_ext autoreload\n"
     ]
    }
   ],
   "source": [
    "from models import scribbler \n",
    "%load_ext autoreload\n",
    "%autoreload 2"
   ]
  },
  {
   "cell_type": "code",
   "execution_count": 72,
   "metadata": {
    "collapsed": false
   },
   "outputs": [],
   "source": [
    "models=scribbler.Scribbler(4,3,32)"
   ]
  },
  {
   "cell_type": "code",
   "execution_count": 10,
   "metadata": {
    "collapsed": false
   },
   "outputs": [],
   "source": [
    "b=scribbler.ResidualBlock(32)"
   ]
  },
  {
   "cell_type": "code",
   "execution_count": 58,
   "metadata": {
    "collapsed": false
   },
   "outputs": [],
   "source": [
    "b=scribbler.UpsamplingBlock(4,4,3,2,1)"
   ]
  },
  {
   "cell_type": "code",
   "execution_count": 28,
   "metadata": {
    "collapsed": false
   },
   "outputs": [
    {
     "name": "stdout",
     "output_type": "stream",
     "text": [
      "Sequential (\n",
      "  (conv_1): Conv2d(4, 32, kernel_size=(3, 3), stride=(1, 1), padding=(1, 1))\n",
      "  (batch_1): BatchNorm2d(32, eps=1e-05, momentum=0.1, affine=True)\n",
      "  (norm_1): ReLU (inplace)\n",
      "  (res_block_1): ResidualBlock (\n",
      "    (resblock): Sequential (\n",
      "      (conv_1): Conv2d(32, 32, kernel_size=(3, 3), stride=(1, 1), padding=(1, 1))\n",
      "      (batch_1): BatchNorm2d(32, eps=1e-05, momentum=0.1, affine=True)\n",
      "      (norm_1): ReLU (inplace)\n",
      "      (conv_2): Conv2d(32, 32, kernel_size=(3, 3), stride=(1, 1), padding=(1, 1))\n",
      "      (batch_2): BatchNorm2d(32, eps=1e-05, momentum=0.1, affine=True)\n",
      "    )\n",
      "  )\n",
      "  (conv_2): Conv2d(32, 64, kernel_size=(3, 3), stride=(2, 2), padding=(1, 1))\n",
      "  (batch_2): BatchNorm2d(64, eps=1e-05, momentum=0.1, affine=True)\n",
      "  (norm_2): ReLU (inplace)\n",
      "  (res_block_2): ResidualBlock (\n",
      "    (resblock): Sequential (\n",
      "      (conv_1): Conv2d(64, 64, kernel_size=(3, 3), stride=(1, 1), padding=(1, 1))\n",
      "      (batch_1): BatchNorm2d(64, eps=1e-05, momentum=0.1, affine=True)\n",
      "      (norm_1): ReLU (inplace)\n",
      "      (conv_2): Conv2d(64, 64, kernel_size=(3, 3), stride=(1, 1), padding=(1, 1))\n",
      "      (batch_2): BatchNorm2d(64, eps=1e-05, momentum=0.1, affine=True)\n",
      "    )\n",
      "  )\n",
      "  (conv_3): Conv2d(64, 128, kernel_size=(3, 3), stride=(2, 2), padding=(1, 1))\n",
      "  (batch_3): BatchNorm2d(128, eps=1e-05, momentum=0.1, affine=True)\n",
      "  (norm_3): ReLU (inplace)\n",
      "  (res_block_3): ResidualBlock (\n",
      "    (resblock): Sequential (\n",
      "      (conv_1): Conv2d(128, 128, kernel_size=(3, 3), stride=(1, 1), padding=(1, 1))\n",
      "      (batch_1): BatchNorm2d(128, eps=1e-05, momentum=0.1, affine=True)\n",
      "      (norm_1): ReLU (inplace)\n",
      "      (conv_2): Conv2d(128, 128, kernel_size=(3, 3), stride=(1, 1), padding=(1, 1))\n",
      "      (batch_2): BatchNorm2d(128, eps=1e-05, momentum=0.1, affine=True)\n",
      "    )\n",
      "  )\n",
      "  (conv_4): Conv2d(128, 256, kernel_size=(3, 3), stride=(2, 2), padding=(1, 1))\n",
      "  (batch_4): BatchNorm2d(256, eps=1e-05, momentum=0.1, affine=True)\n",
      "  (norm_4): ReLU (inplace)\n",
      "  (res_block_4): ResidualBlock (\n",
      "    (resblock): Sequential (\n",
      "      (conv_1): Conv2d(256, 256, kernel_size=(3, 3), stride=(1, 1), padding=(1, 1))\n",
      "      (batch_1): BatchNorm2d(256, eps=1e-05, momentum=0.1, affine=True)\n",
      "      (norm_1): ReLU (inplace)\n",
      "      (conv_2): Conv2d(256, 256, kernel_size=(3, 3), stride=(1, 1), padding=(1, 1))\n",
      "      (batch_2): BatchNorm2d(256, eps=1e-05, momentum=0.1, affine=True)\n",
      "    )\n",
      "  )\n",
      "  (res_block_5): ResidualBlock (\n",
      "    (resblock): Sequential (\n",
      "      (conv_1): Conv2d(256, 256, kernel_size=(3, 3), stride=(1, 1), padding=(1, 1))\n",
      "      (batch_1): BatchNorm2d(256, eps=1e-05, momentum=0.1, affine=True)\n",
      "      (norm_1): ReLU (inplace)\n",
      "      (conv_2): Conv2d(256, 256, kernel_size=(3, 3), stride=(1, 1), padding=(1, 1))\n",
      "      (batch_2): BatchNorm2d(256, eps=1e-05, momentum=0.1, affine=True)\n",
      "    )\n",
      "  )\n",
      "  (res_block_6): ResidualBlock (\n",
      "    (resblock): Sequential (\n",
      "      (conv_1): Conv2d(256, 256, kernel_size=(3, 3), stride=(1, 1), padding=(1, 1))\n",
      "      (batch_1): BatchNorm2d(256, eps=1e-05, momentum=0.1, affine=True)\n",
      "      (norm_1): ReLU (inplace)\n",
      "      (conv_2): Conv2d(256, 256, kernel_size=(3, 3), stride=(1, 1), padding=(1, 1))\n",
      "      (batch_2): BatchNorm2d(256, eps=1e-05, momentum=0.1, affine=True)\n",
      "    )\n",
      "  )\n",
      "  (res_block_7): ResidualBlock (\n",
      "    (resblock): Sequential (\n",
      "      (conv_1): Conv2d(256, 256, kernel_size=(3, 3), stride=(1, 1), padding=(1, 1))\n",
      "      (batch_1): BatchNorm2d(256, eps=1e-05, momentum=0.1, affine=True)\n",
      "      (norm_1): ReLU (inplace)\n",
      "      (conv_2): Conv2d(256, 256, kernel_size=(3, 3), stride=(1, 1), padding=(1, 1))\n",
      "      (batch_2): BatchNorm2d(256, eps=1e-05, momentum=0.1, affine=True)\n",
      "    )\n",
      "  )\n",
      "  (res_block_8): ResidualBlock (\n",
      "    (resblock): Sequential (\n",
      "      (conv_1): Conv2d(256, 256, kernel_size=(3, 3), stride=(1, 1), padding=(1, 1))\n",
      "      (batch_1): BatchNorm2d(256, eps=1e-05, momentum=0.1, affine=True)\n",
      "      (norm_1): ReLU (inplace)\n",
      "      (conv_2): Conv2d(256, 256, kernel_size=(3, 3), stride=(1, 1), padding=(1, 1))\n",
      "      (batch_2): BatchNorm2d(256, eps=1e-05, momentum=0.1, affine=True)\n",
      "    )\n",
      "  )\n",
      "  (upsampl_1): UpsamplingBlock (\n",
      "    (biup_block): Sequential (\n",
      "      (conv_1): Conv2d(256, 128, kernel_size=(3, 3), stride=(1, 1), padding=(1, 1))\n",
      "      (upsample_2): UpsamplingBilinear2d(size=(2, 2))\n",
      "    )\n",
      "  )\n",
      "  (batch_5): BatchNorm2d(128, eps=1e-05, momentum=0.1, affine=True)\n",
      "  (norm_5): ReLU (inplace)\n",
      "  (res_block_9): ResidualBlock (\n",
      "    (resblock): Sequential (\n",
      "      (conv_1): Conv2d(128, 128, kernel_size=(3, 3), stride=(1, 1), padding=(1, 1))\n",
      "      (batch_1): BatchNorm2d(128, eps=1e-05, momentum=0.1, affine=True)\n",
      "      (norm_1): ReLU (inplace)\n",
      "      (conv_2): Conv2d(128, 128, kernel_size=(3, 3), stride=(1, 1), padding=(1, 1))\n",
      "      (batch_2): BatchNorm2d(128, eps=1e-05, momentum=0.1, affine=True)\n",
      "    )\n",
      "  )\n",
      "  (res_block_10): ResidualBlock (\n",
      "    (resblock): Sequential (\n",
      "      (conv_1): Conv2d(128, 128, kernel_size=(3, 3), stride=(1, 1), padding=(1, 1))\n",
      "      (batch_1): BatchNorm2d(128, eps=1e-05, momentum=0.1, affine=True)\n",
      "      (norm_1): ReLU (inplace)\n",
      "      (conv_2): Conv2d(128, 128, kernel_size=(3, 3), stride=(1, 1), padding=(1, 1))\n",
      "      (batch_2): BatchNorm2d(128, eps=1e-05, momentum=0.1, affine=True)\n",
      "    )\n",
      "  )\n",
      "  (upsampl_2): UpsamplingBlock (\n",
      "    (biup_block): Sequential (\n",
      "      (conv_1): Conv2d(128, 64, kernel_size=(3, 3), stride=(1, 1), padding=(1, 1))\n",
      "      (upsample_2): UpsamplingBilinear2d(size=(2, 2))\n",
      "    )\n",
      "  )\n",
      "  (batch_6): BatchNorm2d(64, eps=1e-05, momentum=0.1, affine=True)\n",
      "  (norm_6): ReLU (inplace)\n",
      "  (res_block_11): ResidualBlock (\n",
      "    (resblock): Sequential (\n",
      "      (conv_1): Conv2d(64, 64, kernel_size=(3, 3), stride=(1, 1), padding=(1, 1))\n",
      "      (batch_1): BatchNorm2d(64, eps=1e-05, momentum=0.1, affine=True)\n",
      "      (norm_1): ReLU (inplace)\n",
      "      (conv_2): Conv2d(64, 64, kernel_size=(3, 3), stride=(1, 1), padding=(1, 1))\n",
      "      (batch_2): BatchNorm2d(64, eps=1e-05, momentum=0.1, affine=True)\n",
      "    )\n",
      "  )\n",
      "  (res_block_12): ResidualBlock (\n",
      "    (resblock): Sequential (\n",
      "      (conv_1): Conv2d(64, 64, kernel_size=(3, 3), stride=(1, 1), padding=(1, 1))\n",
      "      (batch_1): BatchNorm2d(64, eps=1e-05, momentum=0.1, affine=True)\n",
      "      (norm_1): ReLU (inplace)\n",
      "      (conv_2): Conv2d(64, 64, kernel_size=(3, 3), stride=(1, 1), padding=(1, 1))\n",
      "      (batch_2): BatchNorm2d(64, eps=1e-05, momentum=0.1, affine=True)\n",
      "    )\n",
      "  )\n",
      "  (upsampl_3): UpsamplingBlock (\n",
      "    (biup_block): Sequential (\n",
      "      (conv_1): Conv2d(64, 32, kernel_size=(3, 3), stride=(1, 1), padding=(1, 1))\n",
      "      (upsample_2): UpsamplingBilinear2d(size=(2, 2))\n",
      "    )\n",
      "  )\n",
      "  (batch_7): BatchNorm2d(32, eps=1e-05, momentum=0.1, affine=True)\n",
      "  (norm_7): ReLU (inplace)\n",
      "  (res_block_13): ResidualBlock (\n",
      "    (resblock): Sequential (\n",
      "      (conv_1): Conv2d(32, 32, kernel_size=(3, 3), stride=(1, 1), padding=(1, 1))\n",
      "      (batch_1): BatchNorm2d(32, eps=1e-05, momentum=0.1, affine=True)\n",
      "      (norm_1): ReLU (inplace)\n",
      "      (conv_2): Conv2d(32, 32, kernel_size=(3, 3), stride=(1, 1), padding=(1, 1))\n",
      "      (batch_2): BatchNorm2d(32, eps=1e-05, momentum=0.1, affine=True)\n",
      "    )\n",
      "  )\n",
      "  (batch_8): BatchNorm2d(32, eps=1e-05, momentum=0.1, affine=True)\n",
      "  (res_block_14): ResidualBlock (\n",
      "    (resblock): Sequential (\n",
      "      (conv_1): Conv2d(32, 32, kernel_size=(3, 3), stride=(1, 1), padding=(1, 1))\n",
      "      (batch_1): BatchNorm2d(32, eps=1e-05, momentum=0.1, affine=True)\n",
      "      (norm_1): ReLU (inplace)\n",
      "      (conv_2): Conv2d(32, 32, kernel_size=(3, 3), stride=(1, 1), padding=(1, 1))\n",
      "      (batch_2): BatchNorm2d(32, eps=1e-05, momentum=0.1, affine=True)\n",
      "    )\n",
      "  )\n",
      "  (conv_5): Conv2d(32, 3, kernel_size=(3, 3), stride=(1, 1), padding=(1, 1))\n",
      "  (batch_9): BatchNorm2d(3, eps=1e-05, momentum=0.1, affine=True)\n",
      ")\n"
     ]
    }
   ],
   "source": [
    "for num,module in enumerate(models.children()):\n",
    "    print module"
   ]
  },
  {
   "cell_type": "code",
   "execution_count": 73,
   "metadata": {
    "collapsed": false
   },
   "outputs": [],
   "source": [
    "import torch\n",
    "from torch.autograd import Variable\n",
    "\n",
    "test_var=torch.Tensor(1,4,128,128)\n",
    "test_var=Variable(test_var)\n",
    "\n",
    "\n",
    "seqblock=models._modules.items()\n",
    "modules = seqblock[0][1]._modules.items()"
   ]
  },
  {
   "cell_type": "code",
   "execution_count": 74,
   "metadata": {
    "collapsed": false
   },
   "outputs": [
    {
     "name": "stdout",
     "output_type": "stream",
     "text": [
      "conv_1\n",
      "torch.Size([1, 32, 128, 128])\n",
      "batch_1\n",
      "torch.Size([1, 32, 128, 128])\n",
      "norm_1\n",
      "torch.Size([1, 32, 128, 128])\n",
      "res_block_1\n",
      "torch.Size([1, 32, 128, 128])\n",
      "conv_2\n",
      "torch.Size([1, 64, 64, 64])\n",
      "batch_2\n",
      "torch.Size([1, 64, 64, 64])\n",
      "norm_2\n",
      "torch.Size([1, 64, 64, 64])\n",
      "res_block_2\n",
      "torch.Size([1, 64, 64, 64])\n",
      "conv_3\n",
      "torch.Size([1, 128, 32, 32])\n",
      "batch_3\n",
      "torch.Size([1, 128, 32, 32])\n",
      "norm_3\n",
      "torch.Size([1, 128, 32, 32])\n",
      "res_block_3\n",
      "torch.Size([1, 128, 32, 32])\n",
      "conv_4\n",
      "torch.Size([1, 256, 16, 16])\n",
      "batch_4\n",
      "torch.Size([1, 256, 16, 16])\n",
      "norm_4\n",
      "torch.Size([1, 256, 16, 16])\n",
      "res_block_4\n",
      "torch.Size([1, 256, 16, 16])\n",
      "res_block_5\n",
      "torch.Size([1, 256, 16, 16])\n",
      "res_block_6\n",
      "torch.Size([1, 256, 16, 16])\n",
      "res_block_7\n",
      "torch.Size([1, 256, 16, 16])\n",
      "res_block_8\n",
      "torch.Size([1, 256, 16, 16])\n",
      "upsampl_1\n",
      "torch.Size([1, 128, 32, 32])\n",
      "batch_5\n",
      "torch.Size([1, 128, 32, 32])\n",
      "norm_5\n",
      "torch.Size([1, 128, 32, 32])\n",
      "res_block_9\n",
      "torch.Size([1, 128, 32, 32])\n",
      "res_block_10\n",
      "torch.Size([1, 128, 32, 32])\n",
      "upsampl_2\n",
      "torch.Size([1, 64, 64, 64])\n",
      "batch_6\n",
      "torch.Size([1, 64, 64, 64])\n",
      "norm_6\n",
      "torch.Size([1, 64, 64, 64])\n",
      "res_block_11\n",
      "torch.Size([1, 64, 64, 64])\n",
      "res_block_12\n",
      "torch.Size([1, 64, 64, 64])\n",
      "upsampl_3\n",
      "torch.Size([1, 32, 128, 128])\n",
      "batch_7\n",
      "torch.Size([1, 32, 128, 128])\n",
      "norm_7\n",
      "torch.Size([1, 32, 128, 128])\n",
      "res_block_13\n",
      "torch.Size([1, 32, 128, 128])\n",
      "batch_8\n",
      "torch.Size([1, 32, 128, 128])\n",
      "res_block_14\n",
      "torch.Size([1, 32, 128, 128])\n",
      "conv_5\n",
      "torch.Size([1, 3, 128, 128])\n",
      "batch_9\n",
      "torch.Size([1, 3, 128, 128])\n"
     ]
    }
   ],
   "source": [
    "inp = test_var\n",
    "for num,name_module in enumerate(modules):\n",
    "    name,module=name_module\n",
    "    print name\n",
    "    inp=module(inp)\n",
    "    print inp.data.size()"
   ]
  },
  {
   "cell_type": "code",
   "execution_count": 60,
   "metadata": {
    "collapsed": false
   },
   "outputs": [
    {
     "data": {
      "text/plain": [
       "torch.Size([1, 4, 2, 2])"
      ]
     },
     "execution_count": 60,
     "metadata": {},
     "output_type": "execute_result"
    }
   ],
   "source": [
    "b(test_var).data.size()"
   ]
  },
  {
   "cell_type": "code",
   "execution_count": 66,
   "metadata": {
    "collapsed": false
   },
   "outputs": [],
   "source": [
    "import torch.nn as nn\n",
    "est=nn.Conv2d(4,4,3,1,1)\n",
    "ups =nn.UpsamplingBilinear2d(scale_factor=2)"
   ]
  },
  {
   "cell_type": "code",
   "execution_count": 67,
   "metadata": {
    "collapsed": false
   },
   "outputs": [
    {
     "data": {
      "text/plain": [
       "torch.Size([1, 4, 256, 256])"
      ]
     },
     "execution_count": 67,
     "metadata": {},
     "output_type": "execute_result"
    }
   ],
   "source": [
    "ups(est(test_var)).data.size()\n"
   ]
  },
  {
   "cell_type": "code",
   "execution_count": 123,
   "metadata": {
    "collapsed": false
   },
   "outputs": [],
   "source": [
    "from models import discriminator"
   ]
  },
  {
   "cell_type": "code",
   "execution_count": 126,
   "metadata": {
    "collapsed": false
   },
   "outputs": [],
   "source": [
    "net_G = discriminator.Discriminator(4,32)"
   ]
  },
  {
   "cell_type": "code",
   "execution_count": 127,
   "metadata": {
    "collapsed": false
   },
   "outputs": [
    {
     "data": {
      "text/plain": [
       "torch.Size([1, 1, 6, 6])"
      ]
     },
     "execution_count": 127,
     "metadata": {},
     "output_type": "execute_result"
    }
   ],
   "source": [
    "net_G(test_var).data.size()"
   ]
  },
  {
   "cell_type": "code",
   "execution_count": 134,
   "metadata": {
    "collapsed": true
   },
   "outputs": [],
   "source": [
    "class wrap_tensor(object):\n",
    "    def __new__(self, tensor, use_gpu=0):\n",
    "        \n",
    "        if use_gpu:\n",
    "            tensor = tensor.gpu()\n",
    "        \n",
    "        return Variable(tensor)\n"
   ]
  },
  {
   "cell_type": "code",
   "execution_count": 135,
   "metadata": {
    "collapsed": false
   },
   "outputs": [],
   "source": [
    "a=wrap_tensor(torch.Tensor(1,3,128,128))"
   ]
  },
  {
   "cell_type": "code",
   "execution_count": 136,
   "metadata": {
    "collapsed": false
   },
   "outputs": [
    {
     "data": {
      "text/plain": [
       "Variable containing:\n",
       "( 0 , 0 ,.,.) = \n",
       "1.00000e-02 *\n",
       "  0.0734  2.6314  2.6171  ...   2.7655  2.9222  3.3236\n",
       " -0.1313  2.3974 -4.0965  ...   1.1133  0.3985  3.3907\n",
       " -1.2021  0.6348 -2.7736  ...   3.7271  1.6641 -3.3536\n",
       "           ...             ⋱             ...          \n",
       "  2.3712  1.3148 -0.8128  ...   3.3580  3.8041  0.5040\n",
       "  3.5194 -1.7603 -3.4527  ...   3.0776  0.3298  2.6506\n",
       " -2.2066  3.7979  2.9514  ...   2.4176  2.1112  4.1416\n",
       "\n",
       "( 0 , 1 ,.,.) = \n",
       "1.00000e-02 *\n",
       "  0.2459 -2.9054 -1.1564  ...   0.8491 -1.0190  3.8864\n",
       " -3.8008 -1.5663  1.3573  ...  -1.9318  3.2158  2.4807\n",
       "  3.6465  0.1448  2.5906  ...  -0.8185 -0.4555  2.0985\n",
       "           ...             ⋱             ...          \n",
       "  3.2122 -1.7488 -3.6171  ...   2.0084  3.0590 -0.7748\n",
       " -3.4111 -1.0479 -2.5168  ...  -0.3489 -2.3169  2.1007\n",
       " -3.3342 -0.0237 -2.6577  ...   3.2118  1.6310  1.6333\n",
       "\n",
       "( 0 , 2 ,.,.) = \n",
       "1.00000e-02 *\n",
       " -2.5461  0.8362  1.4056  ...  -3.3384 -3.7399  1.1130\n",
       "  1.6505 -0.8751  2.5447  ...  -3.8053  2.2040  3.8403\n",
       "  2.3201 -0.6560  1.6262  ...   1.8966 -3.9336 -2.0567\n",
       "           ...             ⋱             ...          \n",
       "  2.9117 -1.0117 -2.6632  ...   1.0438 -2.3793 -0.1829\n",
       " -1.8603 -2.8216  0.8960  ...   1.7466  0.0450 -2.1447\n",
       "  1.7718  2.4543 -1.4236  ...   0.6882  3.8624 -2.2747\n",
       "[torch.FloatTensor of size 1x3x128x128]"
      ]
     },
     "execution_count": 136,
     "metadata": {},
     "output_type": "execute_result"
    }
   ],
   "source": [
    "a"
   ]
  },
  {
   "cell_type": "code",
   "execution_count": null,
   "metadata": {
    "collapsed": true
   },
   "outputs": [],
   "source": [
    "class toLAB(object):\n",
    "    \n",
    "    def __init__(self):\n",
    "        self.space = 'LAB'\n",
    "        \n",
    "    def __call__(self, image )\n",
    "        "
   ]
  },
  {
   "cell_type": "code",
   "execution_count": 2,
   "metadata": {
    "collapsed": false
   },
   "outputs": [],
   "source": [
    "from skimage import color\n",
    "from PIL import Image"
   ]
  },
  {
   "cell_type": "code",
   "execution_count": 5,
   "metadata": {
    "collapsed": false
   },
   "outputs": [
    {
     "data": {
      "text/plain": [
       "array([[[  1.00000000e+02,  -2.45493786e-03,   4.65342115e-03],\n",
       "        [  1.00000000e+02,  -2.45493786e-03,   4.65342115e-03],\n",
       "        [  1.00000000e+02,  -2.45493786e-03,   4.65342115e-03],\n",
       "        ..., \n",
       "        [  1.00000000e+02,  -2.45493786e-03,   4.65342115e-03],\n",
       "        [  1.00000000e+02,  -2.45493786e-03,   4.65342115e-03],\n",
       "        [  1.00000000e+02,  -2.45493786e-03,   4.65342115e-03]],\n",
       "\n",
       "       [[  1.00000000e+02,  -2.45493786e-03,   4.65342115e-03],\n",
       "        [  1.00000000e+02,  -2.45493786e-03,   4.65342115e-03],\n",
       "        [  1.00000000e+02,  -2.45493786e-03,   4.65342115e-03],\n",
       "        ..., \n",
       "        [  1.00000000e+02,  -2.45493786e-03,   4.65342115e-03],\n",
       "        [  1.00000000e+02,  -2.45493786e-03,   4.65342115e-03],\n",
       "        [  1.00000000e+02,  -2.45493786e-03,   4.65342115e-03]],\n",
       "\n",
       "       [[  1.00000000e+02,  -2.45493786e-03,   4.65342115e-03],\n",
       "        [  1.00000000e+02,  -2.45493786e-03,   4.65342115e-03],\n",
       "        [  1.00000000e+02,  -2.45493786e-03,   4.65342115e-03],\n",
       "        ..., \n",
       "        [  1.00000000e+02,  -2.45493786e-03,   4.65342115e-03],\n",
       "        [  1.00000000e+02,  -2.45493786e-03,   4.65342115e-03],\n",
       "        [  1.00000000e+02,  -2.45493786e-03,   4.65342115e-03]],\n",
       "\n",
       "       ..., \n",
       "       [[  1.00000000e+02,  -2.45493786e-03,   4.65342115e-03],\n",
       "        [  1.00000000e+02,  -2.45493786e-03,   4.65342115e-03],\n",
       "        [  1.00000000e+02,  -2.45493786e-03,   4.65342115e-03],\n",
       "        ..., \n",
       "        [  1.00000000e+02,  -2.45493786e-03,   4.65342115e-03],\n",
       "        [  1.00000000e+02,  -2.45493786e-03,   4.65342115e-03],\n",
       "        [  1.00000000e+02,  -2.45493786e-03,   4.65342115e-03]],\n",
       "\n",
       "       [[  1.00000000e+02,  -2.45493786e-03,   4.65342115e-03],\n",
       "        [  1.00000000e+02,  -2.45493786e-03,   4.65342115e-03],\n",
       "        [  1.00000000e+02,  -2.45493786e-03,   4.65342115e-03],\n",
       "        ..., \n",
       "        [  1.00000000e+02,  -2.45493786e-03,   4.65342115e-03],\n",
       "        [  1.00000000e+02,  -2.45493786e-03,   4.65342115e-03],\n",
       "        [  1.00000000e+02,  -2.45493786e-03,   4.65342115e-03]],\n",
       "\n",
       "       [[  1.00000000e+02,  -2.45493786e-03,   4.65342115e-03],\n",
       "        [  1.00000000e+02,  -2.45493786e-03,   4.65342115e-03],\n",
       "        [  1.00000000e+02,  -2.45493786e-03,   4.65342115e-03],\n",
       "        ..., \n",
       "        [  1.00000000e+02,  -2.45493786e-03,   4.65342115e-03],\n",
       "        [  1.00000000e+02,  -2.45493786e-03,   4.65342115e-03],\n",
       "        [  1.00000000e+02,  -2.45493786e-03,   4.65342115e-03]]])"
      ]
     },
     "execution_count": 5,
     "metadata": {},
     "output_type": "execute_result"
    }
   ],
   "source": [
    "img=Image.open('test.jpg')\n",
    "color.rgb2lab(img)"
   ]
  },
  {
   "cell_type": "code",
   "execution_count": null,
   "metadata": {
    "collapsed": true
   },
   "outputs": [],
   "source": []
  }
 ],
 "metadata": {
  "kernelspec": {
   "display_name": "Python 2",
   "language": "python",
   "name": "python2"
  },
  "language_info": {
   "codemirror_mode": {
    "name": "ipython",
    "version": 2
   },
   "file_extension": ".py",
   "mimetype": "text/x-python",
   "name": "python",
   "nbconvert_exporter": "python",
   "pygments_lexer": "ipython2",
   "version": "2.7.12"
  }
 },
 "nbformat": 4,
 "nbformat_minor": 2
}
